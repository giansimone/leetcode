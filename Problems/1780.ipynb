{
 "cells": [
  {
   "cell_type": "markdown",
   "metadata": {},
   "source": [
    "Given an integer ```n```, return ```true``` if it is possible to represent ```n``` as the sum of distinct powers of three. Otherwise, return ```false```.\n",
    "\n",
    "An integer ```y``` is a power of three if there exists an integer ```x``` such that ```y == 3^x```.\n",
    "\n",
    " \n",
    "\n",
    "Example 1:\n",
    "```python\n",
    "Input: n = 12\n",
    "Output: true\n",
    "Explanation: 12 = 31 + 32\n",
    "```\n",
    "\n",
    "Example 2:\n",
    "```python\n",
    "Input: n = 91\n",
    "Output: true\n",
    "Explanation: 91 = 30 + 32 + 34\n",
    "```\n",
    "\n",
    "Example 3:\n",
    "```python\n",
    "Input: n = 21\n",
    "Output: false\n",
    "```\n",
    "\n",
    "Constraints:\n",
    "\n",
    "+ $1 <= n <= 10^7$"
   ]
  },
  {
   "cell_type": "code",
   "execution_count": 2,
   "metadata": {},
   "outputs": [],
   "source": [
    "class Solution:\n",
    "    def checkPowersOfThree(self, n: int) -> bool:\n",
    "        max_power = 0\n",
    "        sum = 3**max_power\n",
    "\n",
    "        while n >= sum :\n",
    "            sum *= 3\n",
    "            max_power += 1\n",
    "        \n",
    "        max_power -= 1\n",
    "        n -= 3**max_power\n",
    "        power = max_power - 1 \n",
    "        \n",
    "        while (power>=0):\n",
    "            max_sum = 3**power\n",
    "            if n>=max_sum:\n",
    "                n -= max_sum\n",
    "            power -= 1\n",
    "        \n",
    "        if n==0:\n",
    "            return True\n",
    "        return False\n"
   ]
  },
  {
   "cell_type": "code",
   "execution_count": 4,
   "metadata": {},
   "outputs": [
    {
     "data": {
      "text/plain": [
       "True"
      ]
     },
     "execution_count": 4,
     "metadata": {},
     "output_type": "execute_result"
    }
   ],
   "source": [
    "sol = Solution()\n",
    "\n",
    "sol.checkPowersOfThree(12)"
   ]
  },
  {
   "cell_type": "code",
   "execution_count": null,
   "metadata": {},
   "outputs": [],
   "source": []
  }
 ],
 "metadata": {
  "kernelspec": {
   "display_name": "kaggle",
   "language": "python",
   "name": "python3"
  },
  "language_info": {
   "codemirror_mode": {
    "name": "ipython",
    "version": 3
   },
   "file_extension": ".py",
   "mimetype": "text/x-python",
   "name": "python",
   "nbconvert_exporter": "python",
   "pygments_lexer": "ipython3",
   "version": "3.13.0"
  }
 },
 "nbformat": 4,
 "nbformat_minor": 2
}
