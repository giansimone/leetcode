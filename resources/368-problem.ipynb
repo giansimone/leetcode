{
 "cells": [
  {
   "cell_type": "markdown",
   "metadata": {},
   "source": [
    "# [368. Largest Divisible Subset](https://leetcode.com/problems/largest-divisible-subset/)\n",
    "\n",
    "Given a set of distinct positive integers ```nums```, return the largest subset ```answer``` such that every pair ```(answer[i], answer[j])``` of elements in this subset satisfies:\n",
    "\n",
    "+ ```answer[i] % answer[j] == 0```, or\n",
    "+ ```answer[j] % answer[i] == 0```\n",
    "\n",
    "If there are multiple solutions, return any of them.\n",
    "\n",
    "\n",
    "Example 1:\n",
    "```python\n",
    "Input: nums = [1,2,3]\n",
    "Output: [1,2]\n",
    "Explanation: [1,3] is also accepted.\n",
    "```\n",
    "\n",
    "Example 2:\n",
    "```python\n",
    "Input: nums = [1,2,4,8]\n",
    "Output: [1,2,4,8]\n",
    "```\n",
    "\n",
    "Constraints:\n",
    "\n",
    "+ ```1 <= nums.length <= 1000```\n",
    "+ ```1 <= nums[i] <= 2 * 10^9```\n",
    "+ All the integers in ```nums``` are unique."
   ]
  },
  {
   "cell_type": "markdown",
   "metadata": {},
   "source": [
    "### Dynamic Programming Solution"
   ]
  },
  {
   "cell_type": "code",
   "execution_count": 1,
   "metadata": {},
   "outputs": [],
   "source": [
    "from typing import List\n",
    "\n",
    "class Solution:\n",
    "    def largestDivisibleSubset(self, nums: List[int]) -> List[int]:\n",
    "        nums.sort()\n",
    "\n",
    "        dp = [[num] for num in nums]\n",
    "\n",
    "        for i in range(len(nums)):\n",
    "            for j in range(i):\n",
    "                if nums[i] % nums[j] == 0 and len(dp[j]) + 1 > len(dp[i]):\n",
    "                    dp[i] = dp[j] + [nums[i]]\n",
    "        \n",
    "        return max(dp, key=len)"
   ]
  },
  {
   "cell_type": "markdown",
   "metadata": {},
   "source": [
    "Run the code cell below to test the function."
   ]
  },
  {
   "cell_type": "code",
   "execution_count": 2,
   "metadata": {},
   "outputs": [],
   "source": [
    "sol = Solution()\n",
    "\n",
    "assert sol.largestDivisibleSubset([1, 2, 3]) == [1, 2]\n",
    "assert sol.largestDivisibleSubset([1, 2, 4, 8]) == [1, 2, 4, 8]\n",
    "assert sol.largestDivisibleSubset([1, 2, 3, 4, 6, 12]) == [1, 2, 4, 12]"
   ]
  },
  {
   "cell_type": "code",
   "execution_count": null,
   "metadata": {},
   "outputs": [],
   "source": []
  }
 ],
 "metadata": {
  "kernelspec": {
   "display_name": "kaggle",
   "language": "python",
   "name": "python3"
  },
  "language_info": {
   "codemirror_mode": {
    "name": "ipython",
    "version": 3
   },
   "file_extension": ".py",
   "mimetype": "text/x-python",
   "name": "python",
   "nbconvert_exporter": "python",
   "pygments_lexer": "ipython3",
   "version": "3.13.0"
  }
 },
 "nbformat": 4,
 "nbformat_minor": 2
}
