{
 "cells": [
  {
   "cell_type": "markdown",
   "metadata": {},
   "source": [
    "# [2503. Maximum Number of Points From Grid Queries](https://leetcode.com/problems/maximum-number-of-points-from-grid-queries/)\n",
    "\n",
    "You are given an ```m x n``` integer matrix ```grid``` and an array ```queries``` of size ```k```.\n",
    "\n",
    "Find an array ```answer``` of size ```k``` such that for each integer ```queries[i]``` you start in the top left cell of the matrix and repeat the following process:\n",
    "\n",
    "+ If ```queries[i]``` is strictly greater than the value of the current cell that you are in, then you get one point if it is your first time visiting this cell, and you can move to any adjacent cell in all 4 directions: up, down, left, and right.\n",
    "+ Otherwise, you do not get any points, and you end this process.\n",
    "\n",
    "After the process, ```answer[i]``` is the maximum number of points you can get. Note that for each query you are allowed to visit the same cell multiple times.\n",
    "\n",
    "Return the resulting array ```answer```.\n",
    "\n",
    "\n",
    "Example 1:\n",
    "```python\n",
    "Input: grid = [[1,2,3],[2,5,7],[3,5,1]], queries = [5,6,2]\n",
    "Output: [5,8,1]\n",
    "Explanation: The diagrams above show which cells we visit to get points for each query.\n",
    "```\n",
    "\n",
    "Example 2:\n",
    "```python\n",
    "Input: grid = [[5,2,1],[1,1,2]], queries = [3]\n",
    "Output: [0]\n",
    "Explanation: We can not get any points because the value of the top left cell is already greater than or equal to 3.\n",
    "```\n",
    "\n",
    "Constraints:\n",
    "\n",
    "+ ```m == grid.length```\n",
    "+ ```n == grid[i].length```\n",
    "+ ```2 <= m, n <= 1000```\n",
    "+ ```4 <= m * n <= 10^5```\n",
    "+ ```k == queries.length```\n",
    "+ ```1 <= k <= 10^4```\n",
    "+ ```1 <= grid[i][j], queries[i] <= 10^6```"
   ]
  },
  {
   "cell_type": "markdown",
   "metadata": {},
   "source": [
    "### Brute Force Solution using BFS"
   ]
  },
  {
   "cell_type": "code",
   "execution_count": 1,
   "metadata": {},
   "outputs": [],
   "source": [
    "from typing import List\n",
    "from collections import deque\n",
    "\n",
    "class Solution:\n",
    "    def maxPoints(self, grid: List[List[int]], queries: List[int]) -> List[int]:\n",
    "        m = len(grid)\n",
    "        n = len(grid[0])\n",
    "        \n",
    "        directions = ((0, 1), (1, 0), (0, -1), (-1 , 0))\n",
    "\n",
    "        sorted_queries = sorted((val, idx) for idx, val in enumerate(queries))\n",
    "\n",
    "        answer = [0] * len(queries)\n",
    "\n",
    "        for query in sorted_queries:\n",
    "            query_val, query_idx = query\n",
    "\n",
    "            visited = [[False] * n for _ in range(m)]\n",
    "\n",
    "            cell_queue = deque()\n",
    "\n",
    "            cell_queue.append((0, 0))\n",
    "\n",
    "            while cell_queue:\n",
    "                i, j = cell_queue.popleft()\n",
    "\n",
    "                if not visited[i][j]:\n",
    "                    visited[i][j] = True\n",
    "\n",
    "                    if grid[i][j] < query_val:\n",
    "                        for d in directions:\n",
    "                            next_i = i + d[0]\n",
    "                            next_j = j + d[1]\n",
    "                            if not (\n",
    "                                next_i == -1 or next_i == m\n",
    "                                or next_j == -1 or next_j == n\n",
    "                            ):\n",
    "                                if not visited[next_i][next_j]:\n",
    "                                    cell_queue.append((next_i, next_j))\n",
    "                        answer[query_idx] += 1\n",
    "        \n",
    "        return answer"
   ]
  },
  {
   "cell_type": "markdown",
   "metadata": {},
   "source": [
    "Run the code cell below to test the function."
   ]
  },
  {
   "cell_type": "code",
   "execution_count": 2,
   "metadata": {},
   "outputs": [
    {
     "name": "stdout",
     "output_type": "stream",
     "text": [
      "[5, 8, 1]\n",
      "[0]\n"
     ]
    }
   ],
   "source": [
    "sol = Solution()\n",
    "\n",
    "print(sol.maxPoints([[1,2,3],[2,5,7],[3,5,1]], [5, 6, 2]))\n",
    "print(sol.maxPoints([[5,2,1],[1,1,2]], [3]))"
   ]
  },
  {
   "cell_type": "markdown",
   "metadata": {},
   "source": [
    "### Brute Force Solution using BFS"
   ]
  },
  {
   "cell_type": "code",
   "execution_count": 3,
   "metadata": {},
   "outputs": [],
   "source": [
    "from typing import List\n",
    "from collections import deque\n",
    "\n",
    "class Solution:\n",
    "    def maxPoints(self, grid: List[List[int]], queries: List[int]) -> List[int]:\n",
    "        m = len(grid)\n",
    "        n = len(grid[0])\n",
    "        \n",
    "        directions = ((0, 1), (1, 0), (0, -1), (-1 , 0))\n",
    "\n",
    "        sorted_queries = sorted((val, idx) for idx, val in enumerate(queries))\n",
    "\n",
    "        answer = [0] * len(queries)\n",
    "        visited = [[False] * n for _ in range(m)]\n",
    "\n",
    "        cell_queue = deque()\n",
    "        cell_queue.append((0, 0))\n",
    "        next_queue = deque()\n",
    "        previous_answer = 0\n",
    "\n",
    "        for query in sorted_queries:\n",
    "            query_val, query_idx = query\n",
    "\n",
    "            answer[query_idx] = previous_answer\n",
    "\n",
    "            while cell_queue:\n",
    "                i, j = cell_queue.popleft()\n",
    "\n",
    "                if not visited[i][j]:\n",
    "                    visited[i][j] = True\n",
    "\n",
    "                    if grid[i][j] < query_val:\n",
    "                        for d in directions:\n",
    "                            next_i = i + d[0]\n",
    "                            next_j = j + d[1]\n",
    "                            if not (\n",
    "                                next_i == -1 or next_i == m\n",
    "                                or next_j == -1 or next_j == n\n",
    "                            ):\n",
    "                                if not visited[next_i][next_j]:\n",
    "                                    cell_queue.append((next_i, next_j))\n",
    "                        answer[query_idx] += 1\n",
    "                    else:\n",
    "                        next_queue.append((i, j))\n",
    "            \n",
    "            while next_queue:\n",
    "                i, j = next_queue.popleft()\n",
    "                cell_queue.append((i, j))\n",
    "                visited[i][j] = False\n",
    "            \n",
    "            previous_answer = answer[query_idx]\n",
    "        \n",
    "        return answer"
   ]
  },
  {
   "cell_type": "markdown",
   "metadata": {},
   "source": [
    "Run the code cell below to test the function."
   ]
  },
  {
   "cell_type": "code",
   "execution_count": 4,
   "metadata": {},
   "outputs": [
    {
     "name": "stdout",
     "output_type": "stream",
     "text": [
      "[5, 8, 1]\n",
      "[0]\n"
     ]
    }
   ],
   "source": [
    "sol = Solution()\n",
    "\n",
    "print(sol.maxPoints([[1,2,3],[2,5,7],[3,5,1]], [5, 6, 2]))\n",
    "print(sol.maxPoints([[5,2,1],[1,1,2]], [3]))"
   ]
  },
  {
   "cell_type": "markdown",
   "metadata": {},
   "source": [
    "### Priority Heap Queue Solution"
   ]
  },
  {
   "cell_type": "code",
   "execution_count": 5,
   "metadata": {},
   "outputs": [],
   "source": [
    "from typing import List\n",
    "import heapq\n",
    "\n",
    "class Solution:\n",
    "    def maxPoints(self, grid: List[List[int]], queries: List[int]) -> List[int]:\n",
    "        m = len(grid)\n",
    "        n = len(grid[0])\n",
    "        \n",
    "        DIRECTIONS = ((0, 1), (1, 0), (0, -1), (-1 , 0))\n",
    "\n",
    "        answer = [0] * len(queries)\n",
    "        visited = [[False] * n for _ in range(m)]\n",
    "        points = 0\n",
    "\n",
    "        heap_queue = [(grid[0][0], 0, 0)]\n",
    "        visited[0][0] = True\n",
    "\n",
    "        sorted_queries = sorted((val, idx) for idx, val in enumerate(queries))\n",
    "\n",
    "        for query in sorted_queries:\n",
    "            query_val, query_idx = query\n",
    "\n",
    "            while heap_queue and heap_queue[0][0] < query_val:\n",
    "                _, i, j = heapq.heappop(heap_queue)\n",
    "                \n",
    "                points += 1\n",
    "\n",
    "                for dx, dy in DIRECTIONS:\n",
    "                    next_i, next_j = i + dx, j + dy\n",
    "\n",
    "                    if 0 <= next_i < m and 0 <= next_j < n and not visited[next_i][next_j]:\n",
    "                        visited[next_i][next_j] = True\n",
    "                        heapq.heappush(heap_queue, (grid[next_i][next_j], next_i, next_j))\n",
    "                \n",
    "            answer[query_idx] = points\n",
    "        \n",
    "        return answer"
   ]
  },
  {
   "cell_type": "markdown",
   "metadata": {},
   "source": [
    "Run the code cell below to test the function."
   ]
  },
  {
   "cell_type": "code",
   "execution_count": 6,
   "metadata": {},
   "outputs": [
    {
     "name": "stdout",
     "output_type": "stream",
     "text": [
      "[5, 8, 1]\n",
      "[0]\n"
     ]
    }
   ],
   "source": [
    "sol = Solution()\n",
    "\n",
    "print(sol.maxPoints([[1,2,3],[2,5,7],[3,5,1]], [5, 6, 2]))\n",
    "print(sol.maxPoints([[5,2,1],[1,1,2]], [3]))"
   ]
  },
  {
   "cell_type": "code",
   "execution_count": null,
   "metadata": {},
   "outputs": [],
   "source": []
  }
 ],
 "metadata": {
  "kernelspec": {
   "display_name": "kaggle",
   "language": "python",
   "name": "python3"
  },
  "language_info": {
   "codemirror_mode": {
    "name": "ipython",
    "version": 3
   },
   "file_extension": ".py",
   "mimetype": "text/x-python",
   "name": "python",
   "nbconvert_exporter": "python",
   "pygments_lexer": "ipython3",
   "version": "3.13.0"
  }
 },
 "nbformat": 4,
 "nbformat_minor": 2
}
