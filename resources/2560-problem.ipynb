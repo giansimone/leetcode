{
 "cells": [
  {
   "cell_type": "markdown",
   "metadata": {},
   "source": [
    "# [2560. House Robber IV](https://leetcode.com/problems/house-robber-iv/)\n",
    "\n",
    "There are several consecutive houses along a street, each of which has some money inside. There is also a robber, who wants to steal money from the homes, but he refuses to steal from adjacent homes.\n",
    "\n",
    "The capability of the robber is the maximum amount of money he steals from one house of all the houses he robbed.\n",
    "\n",
    "You are given an integer array ```nums``` representing how much money is stashed in each house. More formally, the ```ith``` house from the left has ```nums[i]``` dollars.\n",
    "\n",
    "You are also given an integer ```k```, representing the minimum number of houses the robber will steal from. It is always possible to steal at least ```k``` houses.\n",
    "\n",
    "Return the minimum capability of the robber out of all the possible ways to steal at least ```k``` houses.\n",
    "\n",
    "\n",
    "\n",
    "Example 1:\n",
    "```python\n",
    "Input: nums = [2,3,5,9], k = 2\n",
    "Output: 5\n",
    "Explanation: \n",
    "There are three ways to rob at least 2 houses:\n",
    "- Rob the houses at indices 0 and 2. Capability is max(nums[0], nums[2]) = 5.\n",
    "- Rob the houses at indices 0 and 3. Capability is max(nums[0], nums[3]) = 9.\n",
    "- Rob the houses at indices 1 and 3. Capability is max(nums[1], nums[3]) = 9.\n",
    "Therefore, we return min(5, 9, 9) = 5.\n",
    "```\n",
    "\n",
    "Example 2:\n",
    "```python\n",
    "Input: nums = [2,7,9,3,1], k = 2\n",
    "Output: 2\n",
    "Explanation: There are 7 ways to rob the houses. The way which leads to minimum capability is to rob the house at index 0 and 4. Return max(nums[0], nums[4]) = 2.\n",
    "```\n",
    "\n",
    "Constraints:\n",
    "\n",
    "+ ```1 <= nums.length <= 10^5```\n",
    "+ ```1 <= nums[i] <= 10^9```\n",
    "+ ```1 <= k <= (nums.length + 1)/2```\n",
    "\n"
   ]
  },
  {
   "cell_type": "code",
   "execution_count": 1,
   "metadata": {},
   "outputs": [],
   "source": [
    "from typing import List\n",
    "\n",
    "class Solution:\n",
    "    def minCapability(self, nums: List[int], k: int) -> int:\n",
    "        left, right = min(nums), max(nums)\n",
    "\n",
    "        while left < right:\n",
    "            mid = (left + right) // 2\n",
    "\n",
    "            index = 0\n",
    "            houses_robbed = 0\n",
    "\n",
    "            while index < len(nums):\n",
    "                if nums[index] > mid:\n",
    "                    index += 1\n",
    "                else:\n",
    "                    index += 2\n",
    "                    houses_robbed += 1\n",
    "\n",
    "            if houses_robbed >= k:\n",
    "                right = mid\n",
    "            else:\n",
    "                left = mid + 1\n",
    "        \n",
    "        return left"
   ]
  },
  {
   "cell_type": "markdown",
   "metadata": {},
   "source": [
    "Run the code cell below to test the function."
   ]
  },
  {
   "cell_type": "code",
   "execution_count": 2,
   "metadata": {},
   "outputs": [
    {
     "name": "stdout",
     "output_type": "stream",
     "text": [
      "5\n",
      "2\n"
     ]
    }
   ],
   "source": [
    "sol = Solution()\n",
    "\n",
    "print(sol.minCapability([2, 3, 5, 9], 2))\n",
    "print(sol.minCapability([2,7,9,3,1], 2))"
   ]
  },
  {
   "cell_type": "code",
   "execution_count": null,
   "metadata": {},
   "outputs": [],
   "source": []
  }
 ],
 "metadata": {
  "kernelspec": {
   "display_name": "kaggle",
   "language": "python",
   "name": "python3"
  },
  "language_info": {
   "codemirror_mode": {
    "name": "ipython",
    "version": 3
   },
   "file_extension": ".py",
   "mimetype": "text/x-python",
   "name": "python",
   "nbconvert_exporter": "python",
   "pygments_lexer": "ipython3",
   "version": "3.13.0"
  }
 },
 "nbformat": 4,
 "nbformat_minor": 2
}
