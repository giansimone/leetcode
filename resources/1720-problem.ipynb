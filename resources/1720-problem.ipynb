{
 "cells": [
  {
   "cell_type": "markdown",
   "metadata": {},
   "source": [
    "# [1720. Decode XORed Array](https://leetcode.com/problems/decode-xored-array/)\n",
    "\n",
    "There is a hidden integer array ```arr``` that consists of ```n``` non-negative integers.\n",
    "\n",
    "It was encoded into another integer array ```encoded``` of length ```n - 1```, such that ```encoded[i] = arr[i] XOR arr[i + 1]```. For example, if ```arr = [1,0,2,1]```, then ```encoded = [1,2,3]```.\n",
    "\n",
    "You are given the ```encoded``` array. You are also given an integer ```first```, that is the first element of ```arr```, i.e. ```arr[0]```.\n",
    "\n",
    "Return the original array ```arr```. It can be proved that the answer exists and is unique.\n",
    "\n",
    "\n",
    "Example 1:\n",
    "```python\n",
    "Input: encoded = [1,2,3], first = 1\n",
    "Output: [1,0,2,1]\n",
    "Explanation: If arr = [1,0,2,1], then first = 1 and encoded = [1 XOR 0, 0 XOR 2, 2 XOR 1] = [1,2,3]\n",
    "```\n",
    "\n",
    "Example 2:\n",
    "```python\n",
    "Input: encoded = [6,2,7,3], first = 4\n",
    "Output: [4,2,0,7,4]\n",
    "```\n",
    "\n",
    "Constraints:\n",
    "\n",
    "+ ```2 <= n <= 10^4```\n",
    "+ ```encoded.length == n - 1```\n",
    "+ ```0 <= encoded[i] <= 10^5```\n",
    "+ ```0 <= first <= 10^5```"
   ]
  },
  {
   "cell_type": "markdown",
   "metadata": {},
   "source": [
    "### Bit Manipulation Solution"
   ]
  },
  {
   "cell_type": "code",
   "execution_count": 1,
   "metadata": {},
   "outputs": [],
   "source": [
    "from typing import List\n",
    "\n",
    "class Solution:\n",
    "    def decode(self, encoded: List[int], first: int) -> List[int]:\n",
    "        arr = [first]\n",
    "\n",
    "        for num in encoded:\n",
    "            arr.append(num ^ arr[-1])\n",
    "        \n",
    "        return arr"
   ]
  },
  {
   "cell_type": "markdown",
   "metadata": {},
   "source": [
    "Run the code cell below to test the function."
   ]
  },
  {
   "cell_type": "code",
   "execution_count": 2,
   "metadata": {},
   "outputs": [
    {
     "name": "stdout",
     "output_type": "stream",
     "text": [
      "[1, 0, 2, 1]\n",
      "[4, 2, 0, 7, 4]\n"
     ]
    }
   ],
   "source": [
    "sol = Solution()\n",
    "\n",
    "print(sol.decode([1, 2, 3], 1))\n",
    "print(sol.decode([6, 2, 7, 3], 4))"
   ]
  },
  {
   "cell_type": "code",
   "execution_count": null,
   "metadata": {},
   "outputs": [],
   "source": []
  }
 ],
 "metadata": {
  "kernelspec": {
   "display_name": "kaggle",
   "language": "python",
   "name": "python3"
  },
  "language_info": {
   "codemirror_mode": {
    "name": "ipython",
    "version": 3
   },
   "file_extension": ".py",
   "mimetype": "text/x-python",
   "name": "python",
   "nbconvert_exporter": "python",
   "pygments_lexer": "ipython3",
   "version": "3.13.0"
  }
 },
 "nbformat": 4,
 "nbformat_minor": 2
}
