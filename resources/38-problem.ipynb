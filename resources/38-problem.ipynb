{
 "cells": [
  {
   "cell_type": "markdown",
   "metadata": {},
   "source": [
    "# [38. Count and Say](https://leetcode.com/problems/count-and-say/)\n",
    "\n",
    "The count-and-say sequence is a sequence of digit strings defined by the recursive formula:\n",
    "\n",
    "+ ```countAndSay(1) = \"1\"```\n",
    "+ ```countAndSay(n)``` is the run-length encoding of ```countAndSay(n - 1)```.\n",
    "\n",
    "Run-length encoding (RLE) is a string compression method that works by replacing consecutive identical characters (repeated 2 or more times) with the concatenation of the character and the number marking the count of the characters (length of the run). For example, to compress the string ```\"3322251\"``` we replace ```\"33\"``` with ```\"23\"```, replace ```\"222\"``` with ```\"32\"```, replace ```\"5\"``` with ```\"15\"``` and replace ```\"1\"``` with ```\"11\"```. Thus the compressed string becomes ```\"23321511\"```.\n",
    "\n",
    "Given a positive integer ```n```, return the ```nth``` element of the count-and-say sequence.\n",
    "\n",
    "\n",
    "Example 1:\n",
    "```python\n",
    "Input: n = 4\n",
    "\n",
    "Output: \"1211\"\n",
    "\n",
    "Explanation:\n",
    "\n",
    "countAndSay(1) = \"1\"\n",
    "countAndSay(2) = RLE of \"1\" = \"11\"\n",
    "countAndSay(3) = RLE of \"11\" = \"21\"\n",
    "countAndSay(4) = RLE of \"21\" = \"1211\"\n",
    "```\n",
    "\n",
    "Example 2:\n",
    "```python\n",
    "Input: n = 1\n",
    "\n",
    "Output: \"1\"\n",
    "\n",
    "Explanation:\n",
    "\n",
    "This is the base case.\n",
    "```\n",
    "\n",
    "Constraints:\n",
    "\n",
    "+ ```1 <= n <= 30```"
   ]
  },
  {
   "cell_type": "markdown",
   "metadata": {},
   "source": [
    "### Solution"
   ]
  },
  {
   "cell_type": "code",
   "execution_count": 1,
   "metadata": {},
   "outputs": [],
   "source": [
    "class Solution:\n",
    "    def countAndSay(self, n: int) -> str:\n",
    "        s = \"1\"\n",
    "\n",
    "        for _ in range(n - 1):\n",
    "            s = self._helper(s)\n",
    "        \n",
    "        return s\n",
    "\n",
    "    def _helper(self, s: str) -> str:\n",
    "        result = \"\"\n",
    "\n",
    "        char = \"\"\n",
    "        count = 0\n",
    "\n",
    "        for c in s:\n",
    "            if c == char:\n",
    "                count += 1\n",
    "                continue\n",
    "            if count > 0:\n",
    "                result += str(count) + char\n",
    "            char = c\n",
    "            count = 1\n",
    "        \n",
    "        if count > 0:\n",
    "            result += str(count) + char\n",
    "\n",
    "        return result\n",
    "    "
   ]
  },
  {
   "cell_type": "markdown",
   "metadata": {},
   "source": [
    "Run the code cell below to test the function."
   ]
  },
  {
   "cell_type": "code",
   "execution_count": 2,
   "metadata": {},
   "outputs": [],
   "source": [
    "sol = Solution()\n",
    "\n",
    "assert sol.countAndSay(1) == \"1\"\n",
    "assert sol.countAndSay(4) == \"1211\""
   ]
  },
  {
   "cell_type": "code",
   "execution_count": null,
   "metadata": {},
   "outputs": [],
   "source": []
  }
 ],
 "metadata": {
  "kernelspec": {
   "display_name": "leetcode-fniKCUVX-py3.13",
   "language": "python",
   "name": "python3"
  },
  "language_info": {
   "codemirror_mode": {
    "name": "ipython",
    "version": 3
   },
   "file_extension": ".py",
   "mimetype": "text/x-python",
   "name": "python",
   "nbconvert_exporter": "python",
   "pygments_lexer": "ipython3",
   "version": "3.13.2"
  }
 },
 "nbformat": 4,
 "nbformat_minor": 2
}
