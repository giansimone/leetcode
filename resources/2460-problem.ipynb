{
 "cells": [
  {
   "cell_type": "markdown",
   "metadata": {},
   "source": [
    "# [2460. Apply Operations to an Array](https://leetcode.com/problems/apply-operations-to-an-array/)\n",
    "\n",
    "You are given a 0-indexed array ```nums``` of size ```n``` consisting of non-negative integers.\n",
    "\n",
    "You need to apply ```n - 1``` operations to this array where, in the ```ith``` operation (0-indexed), you will apply the following on the ```ith``` element of ```nums```:\n",
    "\n",
    "+ If ```nums[i] == nums[i + 1]```, then multiply ```nums[i]``` by ```2``` and set ```nums[i + 1]``` to ```0```. Otherwise, you skip this operation.\n",
    "\n",
    "After performing all the operations, shift all the 0's to the end of the array.\n",
    "\n",
    "+ For example, the array ```[1,0,2,0,0,1]``` after shifting all its ```0```'s to the end, is ```[1,2,1,0,0,0]```.\n",
    "\n",
    "Return the resulting array.\n",
    "\n",
    "Note that the operations are applied sequentially, not all at once.\n",
    "\n",
    "\n",
    "\n",
    "Example 1:\n",
    "```python\n",
    "Input: nums = [1,2,2,1,1,0]\n",
    "Output: [1,4,2,0,0,0]\n",
    "Explanation: We do the following operations:\n",
    "- i = 0: nums[0] and nums[1] are not equal, so we skip this operation.\n",
    "- i = 1: nums[1] and nums[2] are equal, we multiply nums[1] by 2 and change nums[2] to 0. The array becomes [1,4,0,1,1,0].\n",
    "- i = 2: nums[2] and nums[3] are not equal, so we skip this operation.\n",
    "- i = 3: nums[3] and nums[4] are equal, we multiply nums[3] by 2 and change nums[4] to 0. The array becomes [1,4,0,2,0,0].\n",
    "- i = 4: nums[4] and nums[5] are equal, we multiply nums[4] by 2 and change nums[5] to 0. The array becomes [1,4,0,2,0,0].\n",
    "After that, we shift the 0's to the end, which gives the array [1,4,2,0,0,0].\n",
    "```\n",
    "\n",
    "Example 2:\n",
    "```python\n",
    "Input: nums = [0,1]\n",
    "Output: [1,0]\n",
    "Explanation: No operation can be applied, we just shift the 0 to the end.\n",
    "```\n",
    "\n",
    "Constraints:\n",
    "\n",
    "+ ```2 <= nums.length <= 2000```\n",
    "+ ```0 <= nums[i] <= 1000```\n",
    "\n"
   ]
  },
  {
   "cell_type": "code",
   "execution_count": 1,
   "metadata": {},
   "outputs": [],
   "source": [
    "from typing import List\n",
    "\n",
    "class Solution:\n",
    "    def applyOperations(self, nums: List[int]) -> List[int]:\n",
    "        op_to_array = [0] * len(nums)\n",
    "\n",
    "        ptr = 0\n",
    "        for idx in range(len(nums) - 1):\n",
    "            if nums[idx] != 0:\n",
    "                op_to_array[ptr] = nums[idx]\n",
    "                if nums[idx] == nums[idx + 1]:\n",
    "                    op_to_array[ptr] += op_to_array[ptr]\n",
    "                    nums[idx + 1] = 0\n",
    "                ptr += 1\n",
    "        \n",
    "        if nums[-1] != 0:\n",
    "            op_to_array[ptr] = nums[-1]\n",
    "        \n",
    "        return op_to_array\n",
    "            "
   ]
  },
  {
   "cell_type": "markdown",
   "metadata": {},
   "source": [
    "Run the code cell below to test the function."
   ]
  },
  {
   "cell_type": "code",
   "execution_count": 2,
   "metadata": {},
   "outputs": [
    {
     "name": "stdout",
     "output_type": "stream",
     "text": [
      "[1, 4, 2, 0, 0, 0]\n",
      "[1, 0]\n"
     ]
    }
   ],
   "source": [
    "sol = Solution()\n",
    "\n",
    "print(sol.applyOperations([1,2,2,1,1,0]))\n",
    "print(sol.applyOperations([0,1]))"
   ]
  },
  {
   "cell_type": "code",
   "execution_count": null,
   "metadata": {},
   "outputs": [],
   "source": []
  }
 ],
 "metadata": {
  "kernelspec": {
   "display_name": "kaggle",
   "language": "python",
   "name": "python3"
  },
  "language_info": {
   "codemirror_mode": {
    "name": "ipython",
    "version": 3
   },
   "file_extension": ".py",
   "mimetype": "text/x-python",
   "name": "python",
   "nbconvert_exporter": "python",
   "pygments_lexer": "ipython3",
   "version": "3.13.0"
  }
 },
 "nbformat": 4,
 "nbformat_minor": 2
}
