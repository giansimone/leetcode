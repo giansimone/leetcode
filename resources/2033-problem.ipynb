{
 "cells": [
  {
   "cell_type": "markdown",
   "metadata": {},
   "source": [
    "# [2033. Minimum Operations to Make a Uni-Value Grid](https://leetcode.com/problems/minimum-operations-to-make-a-uni-value-grid/)\n",
    "\n",
    "You are given a 2D integer ```grid``` of size ```m x n``` and an integer ```x```. In one operation, you can add ```x``` to or subtract ```x``` from any element in the ```grid```.\n",
    "\n",
    "A uni-value grid is a grid where all the elements of it are equal.\n",
    "\n",
    "Return the minimum number of operations to make the grid uni-value. If it is not possible, return ```-1```.\n",
    "\n",
    "\n",
    "\n",
    "Example 1:\n",
    "```python\n",
    "Input: grid = [[2,4],[6,8]], x = 2\n",
    "Output: 4\n",
    "Explanation: We can make every element equal to 4 by doing the following: \n",
    "- Add x to 2 once.\n",
    "- Subtract x from 6 once.\n",
    "- Subtract x from 8 twice.\n",
    "A total of 4 operations were used.\n",
    "```\n",
    "\n",
    "Example 2:\n",
    "```python\n",
    "Input: grid = [[1,5],[2,3]], x = 1\n",
    "Output: 5\n",
    "Explanation: We can make every element equal to 3.\n",
    "```\n",
    "\n",
    "Example 3:\n",
    "```python\n",
    "Input: grid = [[1,2],[3,4]], x = 2\n",
    "Output: -1\n",
    "Explanation: It is impossible to make every element equal.\n",
    "```\n",
    "\n",
    "Constraints:\n",
    "\n",
    "+ ```m == grid.length```\n",
    "+ ```n == grid[i].length```\n",
    "+ ```1 <= m, n <= 10^5```\n",
    "+ ```1 <= m * n <= 10^5```\n",
    "+ ```1 <= x, grid[i][j] <= 10^4```\n"
   ]
  },
  {
   "cell_type": "markdown",
   "metadata": {},
   "source": [
    "### Greedy Solution: sorting algorithm and median value"
   ]
  },
  {
   "cell_type": "code",
   "execution_count": 1,
   "metadata": {},
   "outputs": [],
   "source": [
    "from typing import List\n",
    "\n",
    "class Solution:\n",
    "    def minOperations(self, grid: List[List[int]], x: int) -> int:\n",
    "        grid = [num for row in grid for num in row]\n",
    "\n",
    "        remainder = grid[0] % x\n",
    "\n",
    "        for num in grid[1:]:\n",
    "            if num % x != remainder:\n",
    "                return -1\n",
    "        \n",
    "        grid.sort()\n",
    "        \n",
    "        num_op = 0\n",
    "\n",
    "        median_idx = len(grid) // 2\n",
    "        median_value = grid[median_idx]\n",
    "\n",
    "        for i in grid[:median_idx]:\n",
    "            num_op += median_value - i\n",
    "        \n",
    "        for j in grid[median_idx + 1:]:\n",
    "            num_op += j - median_value\n",
    "        \n",
    "        return num_op // x"
   ]
  },
  {
   "cell_type": "markdown",
   "metadata": {},
   "source": [
    "Run the code cell below to test the function."
   ]
  },
  {
   "cell_type": "code",
   "execution_count": 2,
   "metadata": {},
   "outputs": [
    {
     "name": "stdout",
     "output_type": "stream",
     "text": [
      "4\n",
      "5\n",
      "-1\n"
     ]
    }
   ],
   "source": [
    "sol = Solution()\n",
    "\n",
    "print(sol.minOperations([[2,4],[6,8]], 2))\n",
    "print(sol.minOperations([[1,5],[2,3]], 1))\n",
    "print(sol.minOperations([[1,2],[3,4]], 2))"
   ]
  },
  {
   "cell_type": "code",
   "execution_count": null,
   "metadata": {},
   "outputs": [],
   "source": []
  }
 ],
 "metadata": {
  "kernelspec": {
   "display_name": "kaggle",
   "language": "python",
   "name": "python3"
  },
  "language_info": {
   "codemirror_mode": {
    "name": "ipython",
    "version": 3
   },
   "file_extension": ".py",
   "mimetype": "text/x-python",
   "name": "python",
   "nbconvert_exporter": "python",
   "pygments_lexer": "ipython3",
   "version": "3.13.0"
  }
 },
 "nbformat": 4,
 "nbformat_minor": 2
}
