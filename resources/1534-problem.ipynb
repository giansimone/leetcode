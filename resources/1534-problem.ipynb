{
 "cells": [
  {
   "cell_type": "markdown",
   "metadata": {},
   "source": [
    "# [1534. Count Good Triplets](https://leetcode.com/problems/count-good-triplets/)\n",
    "\n",
    "Given an array of integers ```arr```, and three integers ```a```, ```b``` and ```c```. You need to find the number of good triplets.\n",
    "\n",
    "A triplet ```(arr[i], arr[j], arr[k])``` is good if the following conditions are true:\n",
    "\n",
    "+ ```0 <= i < j < k < arr.length```\n",
    "+ ```|arr[i] - arr[j]| <= a```\n",
    "+ ```|arr[j] - arr[k]| <= b```\n",
    "+ ```|arr[i] - arr[k]| <= c```\n",
    "\n",
    "Where ```|x|``` denotes the absolute value of ```x```.\n",
    "\n",
    "Return the number of good triplets.\n",
    "\n",
    "\n",
    "Example 1:\n",
    "```python\n",
    "Input: arr = [3,0,1,1,9,7], a = 7, b = 2, c = 3\n",
    "Output: 4\n",
    "Explanation: There are 4 good triplets: [(3,0,1), (3,0,1), (3,1,1), (0,1,1)].\n",
    "```\n",
    "\n",
    "Example 2:\n",
    "```python\n",
    "Input: arr = [1,1,2,2,3], a = 0, b = 0, c = 1\n",
    "Output: 0\n",
    "Explanation: No triplet satisfies all conditions.\n",
    "```\n",
    "\n",
    "Constraints:\n",
    "\n",
    "+ ```3 <= arr.length <= 100```\n",
    "+ ```0 <= arr[i] <= 1000```\n",
    "+ ```0 <= a, b, c <= 1000```"
   ]
  },
  {
   "cell_type": "code",
   "execution_count": 1,
   "metadata": {},
   "outputs": [],
   "source": [
    "from typing import List\n",
    "\n",
    "class Solution:\n",
    "    def countGoodTriplets(self, arr: List[int], a: int, b: int, c: int) -> int:\n",
    "        count = 0\n",
    "\n",
    "        for i in range(len(arr) - 2):\n",
    "            for j in range(i + 1, len(arr) - 1):\n",
    "                if abs(arr[i] - arr[j]) > a:\n",
    "                    continue\n",
    "                for k in range(j + 1, len(arr)):\n",
    "                    if abs(arr[j] - arr[k]) <= b and abs(arr[i] - arr[k]) <= c:\n",
    "                        count += 1\n",
    "        \n",
    "        return count"
   ]
  },
  {
   "cell_type": "markdown",
   "metadata": {},
   "source": [
    "### Brute Force Solution"
   ]
  },
  {
   "cell_type": "markdown",
   "metadata": {},
   "source": [
    "Run the code cell below to test the function."
   ]
  },
  {
   "cell_type": "code",
   "execution_count": 2,
   "metadata": {},
   "outputs": [],
   "source": [
    "sol = Solution()\n",
    "\n",
    "assert sol.countGoodTriplets([3, 0, 1, 1, 9, 7], 7, 2, 3) == 4\n",
    "assert sol.countGoodTriplets([1, 1, 2, 2, 3], 0, 0, 1) == 0"
   ]
  },
  {
   "cell_type": "code",
   "execution_count": null,
   "metadata": {},
   "outputs": [],
   "source": []
  }
 ],
 "metadata": {
  "kernelspec": {
   "display_name": "leetcode-fniKCUVX-py3.13",
   "language": "python",
   "name": "python3"
  },
  "language_info": {
   "codemirror_mode": {
    "name": "ipython",
    "version": 3
   },
   "file_extension": ".py",
   "mimetype": "text/x-python",
   "name": "python",
   "nbconvert_exporter": "python",
   "pygments_lexer": "ipython3",
   "version": "3.13.2"
  }
 },
 "nbformat": 4,
 "nbformat_minor": 2
}
