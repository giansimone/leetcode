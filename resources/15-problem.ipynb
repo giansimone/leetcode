{
 "cells": [
  {
   "cell_type": "markdown",
   "metadata": {},
   "source": [
    "# [15. 3Sum](https://leetcode.com/problems/3sum/)\n",
    "\n",
    "Given an integer array ```nums```, return all the triplets ```[nums[i], nums[j], nums[k]]``` such that ```i != j```, ```i != k```, and ```j != k```, and ```nums[i] + nums[j] + nums[k] == 0```.\n",
    "\n",
    "Notice that the solution set must not contain duplicate triplets.\n",
    "\n",
    "\n",
    "Example 1:\n",
    "```python\n",
    "Input: nums = [-1,0,1,2,-1,-4]\n",
    "Output: [[-1,-1,2],[-1,0,1]]\n",
    "Explanation: \n",
    "nums[0] + nums[1] + nums[2] = (-1) + 0 + 1 = 0.\n",
    "nums[1] + nums[2] + nums[4] = 0 + 1 + (-1) = 0.\n",
    "nums[0] + nums[3] + nums[4] = (-1) + 2 + (-1) = 0.\n",
    "The distinct triplets are [-1,0,1] and [-1,-1,2].\n",
    "Notice that the order of the output and the order of the triplets does not matter.\n",
    "```\n",
    "\n",
    "Example 2:\n",
    "```python\n",
    "Input: nums = [0,1,1]\n",
    "Output: []\n",
    "Explanation: The only possible triplet does not sum up to 0.\n",
    "```\n",
    "\n",
    "Example 3:\n",
    "```python\n",
    "Input: nums = [0,0,0]\n",
    "Output: [[0,0,0]]\n",
    "Explanation: The only possible triplet sums up to 0.\n",
    "```\n",
    "\n",
    "Constraints:\n",
    "\n",
    "+ ```3 <= nums.length <= 3000```\n",
    "+ ```-10^5 <= nums[i] <= 10^5```"
   ]
  },
  {
   "cell_type": "markdown",
   "metadata": {},
   "source": [
    "### Hash Table Solution"
   ]
  },
  {
   "cell_type": "code",
   "execution_count": 1,
   "metadata": {},
   "outputs": [],
   "source": [
    "from typing import List\n",
    "\n",
    "class Solution:\n",
    "    def threeSum(self, nums: List[int]) -> List[List[int]]:\n",
    "        three_sum = set()\n",
    "\n",
    "        hash_map = {}\n",
    "\n",
    "        nums.sort()\n",
    "\n",
    "        for i in range(len(nums) - 2):\n",
    "            if nums[i] > 0:\n",
    "                break\n",
    "            \n",
    "            if nums[i] == 0:\n",
    "                if nums[i + 1] == 0 and nums[i + 2] == 0:\n",
    "                    three_sum.add((0, 0, 0))\n",
    "                else:\n",
    "                    continue\n",
    "            \n",
    "            for j in range(i + 1, len(nums)):\n",
    "                diff = - nums[i] - nums[j]\n",
    "                if diff in hash_map and hash_map[diff] != j and hash_map[diff] != i:\n",
    "                    current = tuple(sorted((nums[i], nums[j], nums[hash_map[diff]])))\n",
    "                    three_sum.add(current)\n",
    "                hash_map[nums[j]] = j\n",
    "        \n",
    "        return list(three_sum)"
   ]
  },
  {
   "cell_type": "markdown",
   "metadata": {},
   "source": [
    "Run the code cell below to test the function."
   ]
  },
  {
   "cell_type": "code",
   "execution_count": 2,
   "metadata": {},
   "outputs": [
    {
     "name": "stdout",
     "output_type": "stream",
     "text": [
      "[(-1, 0, 1), (-1, -1, 2)]\n",
      "[]\n",
      "[(0, 0, 0)]\n"
     ]
    }
   ],
   "source": [
    "sol = Solution()\n",
    "\n",
    "print(sol.threeSum([-1, 0, 1, 2, -1, -4]))\n",
    "print(sol.threeSum([0, 1, 1]))\n",
    "print(sol.threeSum([0, 0, 0]))"
   ]
  },
  {
   "cell_type": "markdown",
   "metadata": {},
   "source": [
    "### Two Pointer Solution"
   ]
  },
  {
   "cell_type": "code",
   "execution_count": 3,
   "metadata": {},
   "outputs": [],
   "source": [
    "from typing import List\n",
    "\n",
    "class Solution:\n",
    "    def threeSum(self, nums: List[int]) -> List[List[int]]:\n",
    "        n = len(nums)\n",
    "        \n",
    "        three_sum = set()\n",
    "\n",
    "        hash_map = {}\n",
    "\n",
    "        nums.sort()\n",
    "\n",
    "        for i in range(n - 2):\n",
    "            if nums[i] > 0:\n",
    "                break\n",
    "            \n",
    "            if nums[i] == 0:\n",
    "                if nums[i + 1] == 0 and nums[i + 2] == 0:\n",
    "                    three_sum.add((0, 0, 0))\n",
    "                else:\n",
    "                    continue\n",
    "            \n",
    "            if nums[i] == nums[i - 1] and i != 0:\n",
    "                continue\n",
    "\n",
    "            j = i + 1\n",
    "            k = n - 1\n",
    "\n",
    "            while j < k:\n",
    "                total = nums[i] + nums[j] + nums[k]\n",
    "                if total == 0:\n",
    "                    three_sum.add((nums[i], nums[j], nums[k]))\n",
    "                    j += 1\n",
    "                elif total > 0:\n",
    "                    k -= 1\n",
    "                else:\n",
    "                    j += 1\n",
    "        \n",
    "        return list(three_sum)"
   ]
  },
  {
   "cell_type": "markdown",
   "metadata": {},
   "source": [
    "Run the code cell below to test the function."
   ]
  },
  {
   "cell_type": "code",
   "execution_count": 4,
   "metadata": {},
   "outputs": [
    {
     "name": "stdout",
     "output_type": "stream",
     "text": [
      "[(-1, 0, 1), (-1, -1, 2)]\n",
      "[]\n",
      "[(0, 0, 0)]\n"
     ]
    }
   ],
   "source": [
    "sol = Solution()\n",
    "\n",
    "print(sol.threeSum([-1, 0, 1, 2, -1, -4]))\n",
    "print(sol.threeSum([0, 1, 1]))\n",
    "print(sol.threeSum([0, 0, 0]))"
   ]
  },
  {
   "cell_type": "code",
   "execution_count": null,
   "metadata": {},
   "outputs": [],
   "source": []
  }
 ],
 "metadata": {
  "kernelspec": {
   "display_name": "kaggle",
   "language": "python",
   "name": "python3"
  },
  "language_info": {
   "codemirror_mode": {
    "name": "ipython",
    "version": 3
   },
   "file_extension": ".py",
   "mimetype": "text/x-python",
   "name": "python",
   "nbconvert_exporter": "python",
   "pygments_lexer": "ipython3",
   "version": "3.13.0"
  }
 },
 "nbformat": 4,
 "nbformat_minor": 2
}
