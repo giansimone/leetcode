{
 "cells": [
  {
   "cell_type": "markdown",
   "metadata": {},
   "source": [
    "# [2206. Divide Array into Equal Pairs](https://leetcode.com/problems/divide-array-into-equal-pairs/)\n",
    "\n",
    "You are given an integer array ```nums``` consisting of ```2 * n``` integers.\n",
    "\n",
    "You need to divide ```nums``` into ```n``` pairs such that:\n",
    "\n",
    "+ Each element belongs to exactly one pair.\n",
    "+ The elements present in a pair are equal.\n",
    "\n",
    "Return ```true``` if ```nums``` can be divided into ```n``` pairs, otherwise return ```false```.\n",
    "\n",
    "\n",
    "\n",
    "Example 1:\n",
    "```python\n",
    "Input: nums = [3,2,3,2,2,2]\n",
    "Output: true\n",
    "Explanation: \n",
    "There are 6 elements in nums, so they should be divided into 6 / 2 = 3 pairs.\n",
    "If nums is divided into the pairs (2, 2), (3, 3), and (2, 2), it will satisfy all the conditions.\n",
    "```\n",
    "\n",
    "Example 2:\n",
    "```python\n",
    "Input: nums = [1,2,3,4]\n",
    "Output: false\n",
    "Explanation: \n",
    "There is no way to divide nums into 4 / 2 = 2 pairs such that the pairs satisfy every condition.\n",
    "```\n",
    "\n",
    "Constraints:\n",
    "\n",
    "+ ```nums.length == 2 * n```\n",
    "+ ```1 <= n <= 500```\n",
    "+ ```1 <= nums[i] <= 500```"
   ]
  },
  {
   "cell_type": "code",
   "execution_count": 1,
   "metadata": {},
   "outputs": [],
   "source": [
    "from typing import List\n",
    "\n",
    "class Solution:\n",
    "    def divideArray(self, nums: List[int]) -> bool:\n",
    "        freq = [0] * 500\n",
    "        \n",
    "        for n in nums:\n",
    "            freq[n - 1] += 1\n",
    "        \n",
    "        for f in freq:\n",
    "            if f % 2:\n",
    "                return False\n",
    "        \n",
    "        return True"
   ]
  },
  {
   "cell_type": "markdown",
   "metadata": {},
   "source": [
    "Run the code cell below to test the function."
   ]
  },
  {
   "cell_type": "code",
   "execution_count": 2,
   "metadata": {},
   "outputs": [
    {
     "name": "stdout",
     "output_type": "stream",
     "text": [
      "True\n",
      "False\n"
     ]
    }
   ],
   "source": [
    "sol = Solution()\n",
    "\n",
    "print(sol.divideArray([3,2,3,2,2,2]))\n",
    "print(sol.divideArray([1,2,3,4]))"
   ]
  },
  {
   "cell_type": "code",
   "execution_count": null,
   "metadata": {},
   "outputs": [],
   "source": []
  }
 ],
 "metadata": {
  "kernelspec": {
   "display_name": "kaggle",
   "language": "python",
   "name": "python3"
  },
  "language_info": {
   "codemirror_mode": {
    "name": "ipython",
    "version": 3
   },
   "file_extension": ".py",
   "mimetype": "text/x-python",
   "name": "python",
   "nbconvert_exporter": "python",
   "pygments_lexer": "ipython3",
   "version": "3.13.0"
  }
 },
 "nbformat": 4,
 "nbformat_minor": 2
}
