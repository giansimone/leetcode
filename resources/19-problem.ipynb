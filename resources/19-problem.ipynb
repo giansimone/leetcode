{
 "cells": [
  {
   "cell_type": "markdown",
   "metadata": {},
   "source": [
    "# [19. Remove Nth Node From End of List](https://leetcode.com/problems/remove-nth-node-from-end-of-list/)\n",
    "\n",
    "Given the ```head``` of a linked list, remove the ```nth``` node from the end of the list and return its head.\n",
    "\n",
    "\n",
    "Example 1:\n",
    "```python\n",
    "Input: head = [1,2,3,4,5], n = 2\n",
    "Output: [1,2,3,5]\n",
    "```\n",
    "\n",
    "Example 2:\n",
    "```python\n",
    "Input: head = [1], n = 1\n",
    "Output: []\n",
    "```\n",
    "\n",
    "Example 3:\n",
    "```python\n",
    "Input: head = [1,2], n = 1\n",
    "Output: [1]\n",
    "```\n",
    "\n",
    "Constraints:\n",
    "\n",
    "+ The number of nodes in the list is ```sz```.\n",
    "+ ```1 <= sz <= 30```\n",
    "+ ```0 <= Node.val <= 100```\n",
    "+ ```1 <= n <= sz```\n",
    " \n",
    "\n",
    "Follow up: Could you do this in one pass?"
   ]
  },
  {
   "cell_type": "markdown",
   "metadata": {},
   "source": [
    "### Two-Pass Solution"
   ]
  },
  {
   "cell_type": "code",
   "execution_count": 1,
   "metadata": {},
   "outputs": [],
   "source": [
    "from typing import Optional\n",
    "\n",
    "# Definition for singly-linked list.\n",
    "class ListNode:\n",
    "    def __init__(self, val=0, next=None):\n",
    "        self.val = val\n",
    "        self.next = next\n",
    "\n",
    "class Solution:\n",
    "    def removeNthFromEnd(self, head: Optional[ListNode], n: int) -> Optional[ListNode]:\n",
    "        m = 0\n",
    "\n",
    "        current_node = head\n",
    "\n",
    "        while current_node:\n",
    "            m += 1\n",
    "            current_node = current_node.next\n",
    "        \n",
    "        k = m - n\n",
    "\n",
    "        if k == 0:\n",
    "            head = head.next\n",
    "            return head\n",
    "        \n",
    "        current_node = head\n",
    "\n",
    "        while k > 1:\n",
    "            current_node = current_node.next\n",
    "            k -= 1\n",
    "        \n",
    "        next_node = current_node.next\n",
    "\n",
    "        current_node.next = next_node.next\n",
    "\n",
    "        return head"
   ]
  },
  {
   "cell_type": "markdown",
   "metadata": {},
   "source": [
    "### One-Pass Solution using Two Pointers"
   ]
  },
  {
   "cell_type": "code",
   "execution_count": 2,
   "metadata": {},
   "outputs": [],
   "source": [
    "from typing import Optional\n",
    "\n",
    "# Definition for singly-linked list.\n",
    "class ListNode:\n",
    "    def __init__(self, val=0, next=None):\n",
    "        self.val = val\n",
    "        self.next = next\n",
    "\n",
    "class Solution:\n",
    "    def removeNthFromEnd(self, head: Optional[ListNode], n: int) -> Optional[ListNode]:\n",
    "        current_node = head\n",
    "        delayed_node = head\n",
    "\n",
    "        k = 0\n",
    "\n",
    "        while current_node:\n",
    "            if k > n:\n",
    "                delayed_node = delayed_node.next\n",
    "            k += 1\n",
    "            current_node = current_node.next\n",
    "        \n",
    "        if k - n == 0:\n",
    "            head = head.next\n",
    "            return head\n",
    "        \n",
    "        next_node = delayed_node.next\n",
    "        \n",
    "        delayed_node.next = next_node.next\n",
    "\n",
    "        return head"
   ]
  }
 ],
 "metadata": {
  "kernelspec": {
   "display_name": "kaggle",
   "language": "python",
   "name": "python3"
  },
  "language_info": {
   "codemirror_mode": {
    "name": "ipython",
    "version": 3
   },
   "file_extension": ".py",
   "mimetype": "text/x-python",
   "name": "python",
   "nbconvert_exporter": "python",
   "pygments_lexer": "ipython3",
   "version": "3.13.0"
  }
 },
 "nbformat": 4,
 "nbformat_minor": 2
}
