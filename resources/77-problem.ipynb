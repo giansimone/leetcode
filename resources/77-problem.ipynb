{
 "cells": [
  {
   "cell_type": "markdown",
   "metadata": {},
   "source": [
    "# [77. Combinations](https://leetcode.com/problems/combinations/)\n",
    "\n",
    "Given two integers ```n``` and ```k```, return all possible combinations of ```k``` numbers chosen from the range ```[1, n]```.\n",
    "\n",
    "You may return the answer in any order.\n",
    " \n",
    "\n",
    "Example 1:\n",
    "```python\n",
    "Input: n = 4, k = 2\n",
    "Output: [[1,2],[1,3],[1,4],[2,3],[2,4],[3,4]]\n",
    "Explanation: There are 4 choose 2 = 6 total combinations.\n",
    "Note that combinations are unordered, i.e., [1,2] and [2,1] are considered to be the same combination.\n",
    "```\n",
    "\n",
    "Example 2:\n",
    "```python\n",
    "Input: n = 1, k = 1\n",
    "Output: [[1]]\n",
    "Explanation: There is 1 choose 1 = 1 total combination.\n",
    "```\n",
    "\n",
    "Constraints:\n",
    "\n",
    "+ ```1 <= n <= 20```\n",
    "+ ```1 <= k <= n```"
   ]
  },
  {
   "cell_type": "code",
   "execution_count": 1,
   "metadata": {},
   "outputs": [],
   "source": [
    "from typing import List\n",
    "\n",
    "class Solution:\n",
    "    def combine(self, n: int, k: int) -> List[List[int]]:\n",
    "        def backtracking(num: int, combination: List[int]):\n",
    "            if len(combination) == k:\n",
    "                result.append(combination.copy())\n",
    "                return\n",
    "\n",
    "            for i in range(num, n + 1):\n",
    "                combination.append(i)\n",
    "                backtracking(i + 1, combination)\n",
    "                combination.pop()\n",
    "\n",
    "        result = []\n",
    "\n",
    "        backtracking(1, [])\n",
    "        \n",
    "        return result"
   ]
  },
  {
   "cell_type": "markdown",
   "metadata": {},
   "source": [
    "Run the code cell below to test the function."
   ]
  },
  {
   "cell_type": "code",
   "execution_count": 2,
   "metadata": {},
   "outputs": [
    {
     "name": "stdout",
     "output_type": "stream",
     "text": [
      "[[1, 2], [1, 3], [1, 4], [2, 3], [2, 4], [3, 4]]\n",
      "[[1]]\n"
     ]
    }
   ],
   "source": [
    "sol = Solution()\n",
    "\n",
    "print(sol.combine(4, 2))\n",
    "print(sol.combine(1, 1))"
   ]
  },
  {
   "cell_type": "code",
   "execution_count": null,
   "metadata": {},
   "outputs": [],
   "source": []
  }
 ],
 "metadata": {
  "kernelspec": {
   "display_name": "kaggle",
   "language": "python",
   "name": "python3"
  },
  "language_info": {
   "codemirror_mode": {
    "name": "ipython",
    "version": 3
   },
   "file_extension": ".py",
   "mimetype": "text/x-python",
   "name": "python",
   "nbconvert_exporter": "python",
   "pygments_lexer": "ipython3",
   "version": "3.13.0"
  }
 },
 "nbformat": 4,
 "nbformat_minor": 2
}
