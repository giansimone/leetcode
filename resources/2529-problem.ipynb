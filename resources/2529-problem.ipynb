{
 "cells": [
  {
   "cell_type": "markdown",
   "metadata": {},
   "source": [
    "# [2529. Maximum Count of Positive Integer and Negative Integer](https://leetcode.com/problems/maximum-count-of-positive-integer-and-negative-integer/)\n",
    "\n",
    "Given an array ```nums``` sorted in non-decreasing order, return the maximum between the number of positive integers and the number of negative integers.\n",
    "\n",
    "In other words, if the number of positive integers in ```nums``` is ```pos``` and the number of negative integers is ```neg```, then return the maximum of ```pos``` and ```neg```.\n",
    "Note that ```0``` is neither positive nor negative.\n",
    "\n",
    "\n",
    "\n",
    "Example 1:\n",
    "```python\n",
    "Input: nums = [-2,-1,-1,1,2,3]\n",
    "Output: 3\n",
    "Explanation: There are 3 positive integers and 3 negative integers. The maximum count among them is 3.\n",
    "```\n",
    "\n",
    "Example 2:\n",
    "```python\n",
    "Input: nums = [-3,-2,-1,0,0,1,2]\n",
    "Output: 3\n",
    "Explanation: There are 2 positive integers and 3 negative integers. The maximum count among them is 3.\n",
    "```\n",
    "\n",
    "Example 3:\n",
    "```python\n",
    "Input: nums = [5,20,66,1314]\n",
    "Output: 4\n",
    "Explanation: There are 4 positive integers and 0 negative integers. The maximum count among them is 4.\n",
    "```\n",
    "\n",
    "Constraints:\n",
    "\n",
    "+ ```1 <= nums.length <= 2000```\n",
    "+ ```-2000 <= nums[i] <= 2000```\n",
    "+ ```nums``` is sorted in a non-decreasing order.\n",
    " \n",
    "\n",
    "Follow up: Can you solve the problem in ```O(log(n))``` time complexity?\n",
    "\n"
   ]
  },
  {
   "cell_type": "code",
   "execution_count": 1,
   "metadata": {},
   "outputs": [],
   "source": [
    "from typing import List\n",
    "\n",
    "class Solution:\n",
    "    def maximumCount(self, nums: List[int]) -> int:\n",
    "        return max(sum([i > 0 for i in nums]), sum([i < 0 for i in nums]))"
   ]
  },
  {
   "cell_type": "markdown",
   "metadata": {},
   "source": [
    "Run the code cell below to test the function."
   ]
  },
  {
   "cell_type": "code",
   "execution_count": 2,
   "metadata": {},
   "outputs": [
    {
     "name": "stdout",
     "output_type": "stream",
     "text": [
      "3\n",
      "3\n",
      "4\n"
     ]
    }
   ],
   "source": [
    "sol = Solution()\n",
    "\n",
    "print(sol.maximumCount([-2,-1,-1,1,2,3]))\n",
    "print(sol.maximumCount(nums = [-3,-2,-1,0,0,1,2]))\n",
    "print(sol.maximumCount(nums = [5,20,66,1314]))"
   ]
  },
  {
   "cell_type": "markdown",
   "metadata": {},
   "source": [
    "Algorithm using binary search."
   ]
  },
  {
   "cell_type": "code",
   "execution_count": 3,
   "metadata": {},
   "outputs": [],
   "source": [
    "class Solution:\n",
    "    def maximumCount(self, nums: List[int]) -> int:\n",
    "        n = len(nums)\n",
    "\n",
    "        left, right = 0, n - 1\n",
    "\n",
    "        index_max_neg = n\n",
    "\n",
    "        while left <= right:\n",
    "            mid = (left + right) // 2\n",
    "\n",
    "            if nums[mid] < 0:\n",
    "                left = mid + 1\n",
    "            else:\n",
    "                right = mid - 1\n",
    "                index_max_neg = mid\n",
    "        \n",
    "        left, right = 0, n - 1\n",
    "\n",
    "        index_min_pos = n\n",
    "\n",
    "        while left <= right:\n",
    "            mid = (left + right) // 2\n",
    "\n",
    "            if nums[mid] <= 0:\n",
    "                left = mid + 1\n",
    "            else:\n",
    "                right = mid - 1\n",
    "                index_min_pos = mid\n",
    "        \n",
    "        return max(n - index_min_pos, index_max_neg)"
   ]
  },
  {
   "cell_type": "markdown",
   "metadata": {},
   "source": [
    "Run the code below to test the solution with binary search."
   ]
  },
  {
   "cell_type": "code",
   "execution_count": null,
   "metadata": {},
   "outputs": [
    {
     "name": "stdout",
     "output_type": "stream",
     "text": [
      "3\n",
      "3\n",
      "4\n"
     ]
    }
   ],
   "source": [
    "sol = Solution()\n",
    "\n",
    "print(sol.maximumCount([-2,-1,-1,1,2,3]))\n",
    "print(sol.maximumCount(nums = [-3,-2,-1,0,0,1,2]))\n",
    "print(sol.maximumCount(nums = [5,20,66,1314]))"
   ]
  },
  {
   "cell_type": "code",
   "execution_count": null,
   "metadata": {},
   "outputs": [],
   "source": []
  }
 ],
 "metadata": {
  "kernelspec": {
   "display_name": "kaggle",
   "language": "python",
   "name": "python3"
  },
  "language_info": {
   "codemirror_mode": {
    "name": "ipython",
    "version": 3
   },
   "file_extension": ".py",
   "mimetype": "text/x-python",
   "name": "python",
   "nbconvert_exporter": "python",
   "pygments_lexer": "ipython3",
   "version": "3.13.0"
  }
 },
 "nbformat": 4,
 "nbformat_minor": 2
}
