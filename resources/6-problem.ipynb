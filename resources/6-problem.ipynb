{
 "cells": [
  {
   "cell_type": "markdown",
   "metadata": {},
   "source": [
    "# [6. Zigzag Conversion](https://leetcode.com/problems/zigzag-conversion/)\n",
    "\n",
    "The string ```\"PAYPALISHIRING\"``` is written in a zigzag pattern on a given number of rows like this: (you may want to display this pattern in a fixed font for better legibility)\n",
    "\n",
    "```python\n",
    "P   A   H   N\n",
    "A P L S I I G\n",
    "Y   I   R\n",
    "```\n",
    "And then read line by line: ```\"PAHNAPLSIIGYIR\"```\n",
    "\n",
    "Write the code that will take a string and make this conversion given a number of rows:\n",
    "\n",
    "``` python\n",
    "string convert(string s, int numRows);\n",
    "```\n",
    "\n",
    "Example 1:\n",
    "```python\n",
    "Input: s = \"PAYPALISHIRING\", numRows = 3\n",
    "Output: \"PAHNAPLSIIGYIR\"\n",
    "```\n",
    "\n",
    "Example 2:\n",
    "```python\n",
    "Input: s = \"PAYPALISHIRING\", numRows = 4\n",
    "Output: \"PINALSIGYAHRPI\"\n",
    "Explanation:\n",
    "P     I    N\n",
    "A   L S  I G\n",
    "Y A   H R\n",
    "P     I\n",
    "```\n",
    "\n",
    "Example 3:\n",
    "```python\n",
    "Input: s = \"A\", numRows = 1\n",
    "Output: \"A\"\n",
    "```\n",
    "\n",
    "Constraints:\n",
    "\n",
    "+ ```1 <= s.length <= 1000```\n",
    "+ ```s``` consists of English letters (lower-case and upper-case), ```','``` and ```'.'```.\n",
    "+ ```1 <= numRows <= 1000```\n",
    "\n"
   ]
  },
  {
   "cell_type": "code",
   "execution_count": 1,
   "metadata": {},
   "outputs": [],
   "source": [
    "class Solution:\n",
    "    def convert(self, s: str, numRows: int) -> str:\n",
    "        n = len(s)\n",
    "\n",
    "        if numRows == 1:\n",
    "            return s\n",
    "        \n",
    "        out = ''\n",
    "\n",
    "        for row in range(numRows):\n",
    "            i = 0 + row\n",
    "            while i < n:\n",
    "                out += s[i]\n",
    "                if row != 0 and row != numRows - 1:\n",
    "                    next_index = i + (numRows - 1 - row) * 2\n",
    "                    if next_index < n:\n",
    "                        out += s[next_index]\n",
    "                i += numRows * 2 - 2\n",
    "        \n",
    "        return out"
   ]
  },
  {
   "cell_type": "markdown",
   "metadata": {},
   "source": [
    "Run the code cell below to test the function."
   ]
  },
  {
   "cell_type": "code",
   "execution_count": 2,
   "metadata": {},
   "outputs": [
    {
     "name": "stdout",
     "output_type": "stream",
     "text": [
      "PAHNAPLSIIGYIR\n",
      "PINALSIGYAHRPI\n",
      "A\n"
     ]
    }
   ],
   "source": [
    "sol = Solution()\n",
    "\n",
    "print(sol.convert('PAYPALISHIRING', 3))\n",
    "print(sol.convert('PAYPALISHIRING', 4))\n",
    "print(sol.convert('A', 1))"
   ]
  },
  {
   "cell_type": "code",
   "execution_count": null,
   "metadata": {},
   "outputs": [],
   "source": []
  }
 ],
 "metadata": {
  "kernelspec": {
   "display_name": "leetcode-fniKCUVX-py3.13",
   "language": "python",
   "name": "python3"
  },
  "language_info": {
   "codemirror_mode": {
    "name": "ipython",
    "version": 3
   },
   "file_extension": ".py",
   "mimetype": "text/x-python",
   "name": "python",
   "nbconvert_exporter": "python",
   "pygments_lexer": "ipython3",
   "version": "3.13.0"
  }
 },
 "nbformat": 4,
 "nbformat_minor": 2
}
