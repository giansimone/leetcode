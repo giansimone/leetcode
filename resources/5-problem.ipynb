{
 "cells": [
  {
   "cell_type": "markdown",
   "metadata": {},
   "source": [
    "# [5. Longest Palindromic Substring](https://leetcode.com/problems/longest-palindromic-substring/)\n",
    "\n",
    "Given a string ```s```, return the longest palindromic substring in ```s```.\n",
    "\n",
    "\n",
    "\n",
    "Example 1:\n",
    "```python\n",
    "Input: s = \"babad\"\n",
    "Output: \"bab\"\n",
    "Explanation: \"aba\" is also a valid answer.\n",
    "```\n",
    "\n",
    "Example 2:\n",
    "```python\n",
    "Input: s = \"cbbd\"\n",
    "Output: \"bb\"\n",
    "```\n",
    "\n",
    "Constraints:\n",
    "\n",
    "+ ```1 <= s.length <= 1000```\n",
    "+ ```s``` consist of only digits and English letters.\n",
    "\n"
   ]
  },
  {
   "cell_type": "code",
   "execution_count": 1,
   "metadata": {},
   "outputs": [],
   "source": [
    "class Solution:\n",
    "    def longestPalindrome(self, s: str) -> str:\n",
    "        if len(s) == 1:\n",
    "            return s\n",
    "        \n",
    "        for i in range(len(s), 1, -1):\n",
    "            for j in range(0, len(s) - i):\n",
    "                ss = s[j:j + i]\n",
    "                if ss == ss[::-1]:\n",
    "                    return s[j:j + i]"
   ]
  },
  {
   "cell_type": "markdown",
   "metadata": {},
   "source": [
    "Run the code cell below to test the function."
   ]
  },
  {
   "cell_type": "code",
   "execution_count": 2,
   "metadata": {},
   "outputs": [
    {
     "name": "stdout",
     "output_type": "stream",
     "text": [
      "bab\n",
      "bb\n"
     ]
    }
   ],
   "source": [
    "sol = Solution()\n",
    "\n",
    "print(sol.longestPalindrome(\"babad\"))\n",
    "print(sol.longestPalindrome(\"cbbd\"))"
   ]
  },
  {
   "cell_type": "markdown",
   "metadata": {},
   "source": [
    "This is another implementation of the previous solution."
   ]
  },
  {
   "cell_type": "code",
   "execution_count": 3,
   "metadata": {},
   "outputs": [],
   "source": [
    "class Solution:\n",
    "    def longestPalindrome(self, s: str) -> str:\n",
    "        if len(s) == 1:\n",
    "            return s\n",
    "        \n",
    "        for i in range(len(s), 0, -1):\n",
    "            for j in range(len(s) - i + 1):\n",
    "                left = j\n",
    "                right = j + i - 1\n",
    "                is_palindrome = True\n",
    "                while left < right:\n",
    "                    if s[left] != s[right]:\n",
    "                        is_palindrome = False\n",
    "                        break\n",
    "                    left += 1\n",
    "                    right -= 1\n",
    "                if is_palindrome:\n",
    "                    return s[j:j + i]"
   ]
  },
  {
   "cell_type": "markdown",
   "metadata": {},
   "source": [
    "Run the code cell below to test the function."
   ]
  },
  {
   "cell_type": "code",
   "execution_count": 4,
   "metadata": {},
   "outputs": [
    {
     "name": "stdout",
     "output_type": "stream",
     "text": [
      "bab\n",
      "bb\n"
     ]
    }
   ],
   "source": [
    "sol = Solution()\n",
    "\n",
    "print(sol.longestPalindrome(\"babad\"))\n",
    "print(sol.longestPalindrome(\"cbbd\"))"
   ]
  },
  {
   "cell_type": "markdown",
   "metadata": {},
   "source": [
    "Solution using dynamic programming."
   ]
  },
  {
   "cell_type": "code",
   "execution_count": 5,
   "metadata": {},
   "outputs": [],
   "source": [
    "class Solution:\n",
    "    def longestPalindrome(self, s: str) -> str:\n",
    "        n = len(s)\n",
    "        dp = [[False] * n for _ in range(n)]\n",
    "        left, right = 0, 0\n",
    "\n",
    "        for i in range(n):\n",
    "            dp[i][i] = True\n",
    "        \n",
    "        for i in range(n - 1):\n",
    "            if s[i] == s[i + 1]:\n",
    "                dp[i][i + 1] = True\n",
    "                left, right = i, i + 1\n",
    "        \n",
    "        for diff in range(2, n):\n",
    "            for i in range(n - diff):\n",
    "                if dp[i + 1][i + diff - 1] and s[i] == s[i + diff]:\n",
    "                    dp[i][i + diff] = True\n",
    "                    left, right = i, i + diff\n",
    "        \n",
    "        return s[left:right + 1]"
   ]
  },
  {
   "cell_type": "markdown",
   "metadata": {},
   "source": [
    "Run the code cell below to test the function."
   ]
  },
  {
   "cell_type": "code",
   "execution_count": 6,
   "metadata": {},
   "outputs": [
    {
     "name": "stdout",
     "output_type": "stream",
     "text": [
      "aba\n",
      "bb\n"
     ]
    }
   ],
   "source": [
    "sol = Solution()\n",
    "\n",
    "print(sol.longestPalindrome(\"babad\"))\n",
    "print(sol.longestPalindrome(\"cbbd\"))"
   ]
  }
 ],
 "metadata": {
  "kernelspec": {
   "display_name": "kaggle",
   "language": "python",
   "name": "python3"
  },
  "language_info": {
   "codemirror_mode": {
    "name": "ipython",
    "version": 3
   },
   "file_extension": ".py",
   "mimetype": "text/x-python",
   "name": "python",
   "nbconvert_exporter": "python",
   "pygments_lexer": "ipython3",
   "version": "3.13.0"
  }
 },
 "nbformat": 4,
 "nbformat_minor": 2
}
