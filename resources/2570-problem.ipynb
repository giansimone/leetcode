{
 "cells": [
  {
   "cell_type": "markdown",
   "metadata": {},
   "source": [
    "# [2570. Merge Two 2D Arrays by Summing Values](https://leetcode.com/problems/merge-two-2d-arrays-by-summing-values/)\n",
    "\n",
    "You are given two 2D integer arrays ```nums1``` and ```nums2```.\n",
    "\n",
    "+ ```nums1[i] = [idi, vali]``` indicate that the number with the id ```idi``` has a value equal to ```vali```.\n",
    "+ ```nums2[i] = [idi, vali]``` indicate that the number with the id ```idi``` has a value equal to ```vali```.\n",
    "\n",
    "Each array contains unique ids and is sorted in ascending order by id.\n",
    "\n",
    "Merge the two arrays into one array that is sorted in ascending order by id, respecting the following conditions:\n",
    "\n",
    "+ Only ids that appear in at least one of the two arrays should be included in the resulting array.\n",
    "+ Each id should be included only once and its value should be the sum of the values of this id in the two arrays. If the id does not exist in one of the two arrays, then assume its value in that array to be ```0```.\n",
    "\n",
    "Return the resulting array. The returned array must be sorted in ascending order by id.\n",
    "\n",
    "\n",
    "\n",
    "Example 1:\n",
    "```python\n",
    "Input: nums1 = [[1,2],[2,3],[4,5]], nums2 = [[1,4],[3,2],[4,1]]\n",
    "Output: [[1,6],[2,3],[3,2],[4,6]]\n",
    "Explanation: The resulting array contains the following:\n",
    "- id = 1, the value of this id is 2 + 4 = 6.\n",
    "- id = 2, the value of this id is 3.\n",
    "- id = 3, the value of this id is 2.\n",
    "- id = 4, the value of this id is 5 + 1 = 6.\n",
    "```\n",
    "\n",
    "Example 2:\n",
    "```python\n",
    "Input: nums1 = [[2,4],[3,6],[5,5]], nums2 = [[1,3],[4,3]]\n",
    "Output: [[1,3],[2,4],[3,6],[4,3],[5,5]]\n",
    "Explanation: There are no common ids, so we just include each id with its value in the resulting list.\n",
    "```\n",
    "\n",
    "Constraints:\n",
    "\n",
    "+ ```1 <= nums1.length, nums2.length <= 200```\n",
    "+ ```nums1[i].length == nums2[j].length == 2```\n",
    "+ ```1 <= idi, vali <= 1000```\n",
    "+ Both arrays contain unique ids.\n",
    "+ Both arrays are in strictly ascending order by id.\n",
    "\n"
   ]
  },
  {
   "cell_type": "code",
   "execution_count": 1,
   "metadata": {},
   "outputs": [],
   "source": [
    "from typing import List\n",
    "\n",
    "class Solution:\n",
    "    def mergeArrays(self, nums1: List[List[int]], nums2: List[List[int]]) -> List[List[int]]:\n",
    "        d = dict()\n",
    "        for i in nums1:\n",
    "            d[i[0]] = i[1]\n",
    "        \n",
    "        for j in nums2:\n",
    "            if j[0] in d:\n",
    "                d[j[0]] += j[1]\n",
    "            else:\n",
    "                d[j[0]] = j[1]\n",
    "        \n",
    "        i = 0\n",
    "\n",
    "        n = max(d)\n",
    "\n",
    "        out = []\n",
    "\n",
    "        while i < n:\n",
    "            i += 1\n",
    "            if i in d:\n",
    "                out.append([i, d[i]])\n",
    "        \n",
    "        return out"
   ]
  },
  {
   "cell_type": "markdown",
   "metadata": {},
   "source": [
    "Run the code cell below to test the function."
   ]
  },
  {
   "cell_type": "code",
   "execution_count": 2,
   "metadata": {},
   "outputs": [
    {
     "name": "stdout",
     "output_type": "stream",
     "text": [
      "[[1, 6], [2, 3], [3, 2], [4, 6]]\n",
      "[[1, 3], [2, 4], [3, 6], [4, 3], [5, 5]]\n"
     ]
    }
   ],
   "source": [
    "sol = Solution()\n",
    "\n",
    "print(sol.mergeArrays([[1,2],[2,3],[4,5]], [[1,4],[3,2],[4,1]]))\n",
    "print(sol.mergeArrays([[2,4],[3,6],[5,5]], [[1,3],[4,3]]))"
   ]
  },
  {
   "cell_type": "code",
   "execution_count": null,
   "metadata": {},
   "outputs": [],
   "source": []
  }
 ],
 "metadata": {
  "kernelspec": {
   "display_name": "kaggle",
   "language": "python",
   "name": "python3"
  },
  "language_info": {
   "codemirror_mode": {
    "name": "ipython",
    "version": 3
   },
   "file_extension": ".py",
   "mimetype": "text/x-python",
   "name": "python",
   "nbconvert_exporter": "python",
   "pygments_lexer": "ipython3",
   "version": "3.13.0"
  }
 },
 "nbformat": 4,
 "nbformat_minor": 2
}
