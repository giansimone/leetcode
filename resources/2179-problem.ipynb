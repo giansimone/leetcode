{
 "cells": [
  {
   "cell_type": "markdown",
   "metadata": {},
   "source": [
    "# [2179. Count Good Triplets in an Array](https://leetcode.com/problems/count-good-triplets-in-an-array/)\n",
    "\n",
    "You are given two 0-indexed arrays ```nums1``` and ```nums2``` of length ```n```, both of which are permutations of ```[0, 1, ..., n - 1]```.\n",
    "\n",
    "A good triplet is a set of ```3``` distinct values which are present in increasing order by position both in ```nums1``` and ```nums2```. In other words, if we consider ```pos1v``` as the index of the value ```v``` in ```nums1``` and ```pos2v``` as the index of the value ```v``` in ```nums2```, then a good triplet will be a set ```(x, y, z)``` where ```0 <= x, y, z <= n - 1```, such that ```pos1x < pos1y < pos1z``` and ```pos2x < pos2y < pos2z```.\n",
    "\n",
    "Return the total number of good triplets.\n",
    "\n",
    "\n",
    "Example 1:\n",
    "```python\n",
    "Input: nums1 = [2,0,1,3], nums2 = [0,1,2,3]\n",
    "Output: 1\n",
    "Explanation: \n",
    "There are 4 triplets (x,y,z) such that pos1x < pos1y < pos1z. They are (2,0,1), (2,0,3), (2,1,3), and (0,1,3). \n",
    "Out of those triplets, only the triplet (0,1,3) satisfies pos2x < pos2y < pos2z. Hence, there is only 1 good triplet.\n",
    "```\n",
    "\n",
    "Example 2:\n",
    "```python\n",
    "Input: nums1 = [4,0,1,3,2], nums2 = [4,1,0,2,3]\n",
    "Output: 4\n",
    "Explanation: The 4 good triplets are (4,0,3), (4,0,2), (4,1,3), and (4,1,2).\n",
    "```\n",
    "\n",
    "Constraints:\n",
    "\n",
    "+ ```n == nums1.length == nums2.length```\n",
    "+ ```3 <= n <= 10^5```\n",
    "+ ```0 <= nums1[i], nums2[i] <= n - 1```\n",
    "+ ```nums1``` and ```nums2``` are permutations of ```[0, 1, ..., n - 1]```."
   ]
  },
  {
   "cell_type": "markdown",
   "metadata": {},
   "source": [
    "### Binary Indexed Tree Solution"
   ]
  },
  {
   "cell_type": "code",
   "execution_count": 3,
   "metadata": {},
   "outputs": [],
   "source": [
    "from typing import List\n",
    "\n",
    "class BinaryIndexedTree:\n",
    "    def __init__(self, size: int):\n",
    "        self.tree = [0] * (size + 1)\n",
    "    \n",
    "    def update(self, index: int, delta: int):\n",
    "        index += 1\n",
    "        while index <= len(self.tree) - 1:\n",
    "            self.tree[index] += delta\n",
    "            index += index & -index\n",
    "    \n",
    "    def query(self, index: int) -> int:\n",
    "        index += 1\n",
    "        result = 0\n",
    "        while index > 0:\n",
    "            result += self.tree[index]\n",
    "            index -= index & -index\n",
    "        return result\n",
    "\n",
    "\n",
    "class Solution:\n",
    "    def goodTriplets(self, nums1: List[int], nums2: List[int]) -> int:\n",
    "        n = len(nums1)\n",
    "        pos2, reversed_index_map = [0] * n, [0] * n\n",
    "\n",
    "        for i, num2 in enumerate(nums2):\n",
    "            pos2[num2] = i\n",
    "        \n",
    "        for i, num1 in enumerate(nums1):\n",
    "            reversed_index_map[pos2[num1]] = i\n",
    "        \n",
    "        tree = BinaryIndexedTree(n)\n",
    "        result = 0\n",
    "\n",
    "        for value in range(n):\n",
    "            pos = reversed_index_map[value]\n",
    "            left = tree.query(pos)\n",
    "            tree.update(pos, 1)\n",
    "            right = (n - 1 - pos) - (value - left)\n",
    "            result += left * right\n",
    "        \n",
    "        return result"
   ]
  },
  {
   "cell_type": "markdown",
   "metadata": {},
   "source": [
    "Run the code cell below to test the function."
   ]
  },
  {
   "cell_type": "code",
   "execution_count": 4,
   "metadata": {},
   "outputs": [],
   "source": [
    "sol = Solution()\n",
    "\n",
    "assert sol.goodTriplets([2, 0, 1, 3], [0, 1, 2, 3]) == 1\n",
    "assert sol.goodTriplets([4, 0, 1, 3, 2], [4, 1, 0, 2, 3]) == 4"
   ]
  },
  {
   "cell_type": "code",
   "execution_count": null,
   "metadata": {},
   "outputs": [],
   "source": []
  }
 ],
 "metadata": {
  "kernelspec": {
   "display_name": "leetcode-fniKCUVX-py3.13",
   "language": "python",
   "name": "python3"
  },
  "language_info": {
   "codemirror_mode": {
    "name": "ipython",
    "version": 3
   },
   "file_extension": ".py",
   "mimetype": "text/x-python",
   "name": "python",
   "nbconvert_exporter": "python",
   "pygments_lexer": "ipython3",
   "version": "3.13.2"
  }
 },
 "nbformat": 4,
 "nbformat_minor": 2
}
