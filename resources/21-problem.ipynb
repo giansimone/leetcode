{
 "cells": [
  {
   "cell_type": "markdown",
   "metadata": {},
   "source": [
    "# [21. Merge Two Sorted Lists](https://leetcode.com/problems/merge-two-sorted-lists/)\n",
    "\n",
    "You are given the heads of two sorted linked lists ```list1``` and ```list2```.\n",
    "\n",
    "Merge the two lists into one sorted list. The list should be made by splicing together the nodes of the first two lists.\n",
    "\n",
    "Return the head of the merged linked list.\n",
    "\n",
    "\n",
    "\n",
    "Example 1:\n",
    "```python\n",
    "Input: list1 = [1,2,4], list2 = [1,3,4]\n",
    "Output: [1,1,2,3,4,4]\n",
    "```\n",
    "\n",
    "Example 2:\n",
    "```python\n",
    "Input: list1 = [], list2 = []\n",
    "Output: []\n",
    "```\n",
    "\n",
    "Example 3:\n",
    "```python\n",
    "Input: list1 = [], list2 = [0]\n",
    "Output: [0]\n",
    "```\n",
    "\n",
    "Constraints:\n",
    "\n",
    "+ The number of nodes in both lists is in the range ```[0, 50]```.\n",
    "+ ```-100 <= Node.val <= 100```\n",
    "+ Both ```list1``` and ```list2``` are sorted in non-decreasing order."
   ]
  },
  {
   "cell_type": "code",
   "execution_count": null,
   "metadata": {},
   "outputs": [],
   "source": [
    "from typing import Optional\n",
    "# Definition for singly-linked list.\n",
    "class ListNode:\n",
    "    def __init__(self, val=0, next=None):\n",
    "        self.val = val\n",
    "        self.next = next\n",
    "\n",
    "class Solution:\n",
    "    def mergeTwoLists(self, list1: Optional[ListNode], list2: Optional[ListNode]) -> Optional[ListNode]:\n",
    "        sorted_list = ListNode()\n",
    "        init = sorted_list\n",
    "\n",
    "        while list1 or list2:\n",
    "            sorted_list.next = ListNode()\n",
    "            sorted_list = sorted_list.next\n",
    "\n",
    "            if not list1:\n",
    "                sorted_list.val = list2.val\n",
    "                list2 = list2.next\n",
    "            elif not list2:\n",
    "                sorted_list.val = list1.val\n",
    "                list1 = list1.next\n",
    "            else:\n",
    "                if list1.val < list2.val:\n",
    "                    sorted_list.val = list1.val\n",
    "                    list1 = list1.next\n",
    "                else:\n",
    "                    sorted_list.val = list2.val\n",
    "                    list2 = list2.next\n",
    "        \n",
    "        return init.next"
   ]
  },
  {
   "cell_type": "markdown",
   "metadata": {},
   "source": [
    "Run the code cell below to test the function."
   ]
  },
  {
   "cell_type": "code",
   "execution_count": null,
   "metadata": {},
   "outputs": [],
   "source": [
    "sol = Solution()\n",
    "\n"
   ]
  },
  {
   "cell_type": "code",
   "execution_count": null,
   "metadata": {},
   "outputs": [],
   "source": []
  }
 ],
 "metadata": {
  "kernelspec": {
   "display_name": "kaggle",
   "language": "python",
   "name": "python3"
  },
  "language_info": {
   "codemirror_mode": {
    "name": "ipython",
    "version": 3
   },
   "file_extension": ".py",
   "mimetype": "text/x-python",
   "name": "python",
   "nbconvert_exporter": "python",
   "pygments_lexer": "ipython3",
   "version": "3.13.0"
  }
 },
 "nbformat": 4,
 "nbformat_minor": 2
}
