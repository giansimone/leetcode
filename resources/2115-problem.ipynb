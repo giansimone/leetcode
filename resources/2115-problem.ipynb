{
 "cells": [
  {
   "cell_type": "markdown",
   "metadata": {},
   "source": [
    "# [2115. Find All Possible Recipes from Given Supplies](https://leetcode.com/problems/find-all-possible-recipes-from-given-supplies/)\n",
    "\n",
    "You have information about ```n``` different recipes. You are given a string array ```recipes``` and a 2D string array ```ingredients```. The ```ith``` recipe has the name ```recipes[i]```, and you can create it if you have all the needed ingredients from ```ingredients[i]```. A recipe can also be an ingredient for other recipes, i.e., ```ingredients[i]``` may contain a string that is in ```recipes```.\n",
    "\n",
    "You are also given a string array ```supplies``` containing all the ingredients that you initially have, and you have an infinite supply of all of them.\n",
    "\n",
    "Return a list of all the recipes that you can create. You may return the answer in any order.\n",
    "\n",
    "Note that two recipes may contain each other in their ingredients.\n",
    "\n",
    "\n",
    "\n",
    "Example 1:\n",
    "```python\n",
    "Input: recipes = [\"bread\"], ingredients = [[\"yeast\",\"flour\"]], supplies = [\"yeast\",\"flour\",\"corn\"]\n",
    "Output: [\"bread\"]\n",
    "Explanation:\n",
    "We can create \"bread\" since we have the ingredients \"yeast\" and \"flour\".\n",
    "```\n",
    "\n",
    "Example 2:\n",
    "```python\n",
    "Input: recipes = [\"bread\",\"sandwich\"], ingredients = [[\"yeast\",\"flour\"],[\"bread\",\"meat\"]], supplies = [\"yeast\",\"flour\",\"meat\"]\n",
    "Output: [\"bread\",\"sandwich\"]\n",
    "Explanation:\n",
    "We can create \"bread\" since we have the ingredients \"yeast\" and \"flour\".\n",
    "We can create \"sandwich\" since we have the ingredient \"meat\" and can create the ingredient \"bread\".\n",
    "```\n",
    "\n",
    "Example 3:\n",
    "```python\n",
    "Input: recipes = [\"bread\",\"sandwich\",\"burger\"], ingredients = [[\"yeast\",\"flour\"],[\"bread\",\"meat\"],[\"sandwich\",\"meat\",\"bread\"]], supplies = [\"yeast\",\"flour\",\"meat\"]\n",
    "Output: [\"bread\",\"sandwich\",\"burger\"]\n",
    "Explanation:\n",
    "We can create \"bread\" since we have the ingredients \"yeast\" and \"flour\".\n",
    "We can create \"sandwich\" since we have the ingredient \"meat\" and can create the ingredient \"bread\".\n",
    "We can create \"burger\" since we have the ingredient \"meat\" and can create the ingredients \"bread\" and \"sandwich\".\n",
    "```\n",
    "\n",
    "Constraints:\n",
    "\n",
    "+ ```n == recipes.length == ingredients.length```\n",
    "+ ```1 <= n <= 100```\n",
    "+ ```1 <= ingredients[i].length, supplies.length <= 100```\n",
    "+ ```1 <= recipes[i].length, ingredients[i][j].length, supplies[k].length <= 10```\n",
    "+ ```recipes[i]```, ```ingredients[i][j]```, and ```supplies[k]``` consist only of lowercase English letters.\n",
    "+ All the values of recipes and supplies combined are unique.\n",
    "+ Each ```ingredients[i]``` does not contain any duplicate values."
   ]
  },
  {
   "cell_type": "markdown",
   "metadata": {},
   "source": [
    "### Brute Force Solution"
   ]
  },
  {
   "cell_type": "code",
   "execution_count": 1,
   "metadata": {},
   "outputs": [],
   "source": [
    "from typing import List\n",
    "\n",
    "class Solution:\n",
    "    def findAllRecipes(self, recipes: List[str], ingredients: List[List[str]], supplies: List[str]) -> List[str]:\n",
    "        ingredients_set = set(supplies)\n",
    "\n",
    "        ans = []\n",
    "        loop = True\n",
    "\n",
    "        while loop:\n",
    "            loop = False\n",
    "            for r in range(len(recipes)):\n",
    "                checked = True\n",
    "                for ingredient in ingredients[r]:\n",
    "                    if ingredient not in ingredients_set:\n",
    "                        checked = False\n",
    "                if checked and recipes[r] not in ingredients_set:\n",
    "                    ingredients_set.add(recipes[r])\n",
    "                    ans.append(recipes[r])\n",
    "                    loop = True\n",
    "        \n",
    "        return ans "
   ]
  },
  {
   "cell_type": "markdown",
   "metadata": {},
   "source": [
    "Run the code cell below to test the function."
   ]
  },
  {
   "cell_type": "code",
   "execution_count": 2,
   "metadata": {},
   "outputs": [
    {
     "name": "stdout",
     "output_type": "stream",
     "text": [
      "['bread']\n",
      "['bread', 'sandwich']\n",
      "['bread', 'sandwich', 'burger']\n"
     ]
    }
   ],
   "source": [
    "sol = Solution()\n",
    "\n",
    "print(sol.findAllRecipes([\"bread\"], [[\"yeast\",\"flour\"]], [\"yeast\",\"flour\",\"corn\"]))\n",
    "print(sol.findAllRecipes([\"bread\",\"sandwich\"], [[\"yeast\",\"flour\"],[\"bread\",\"meat\"]], [\"yeast\",\"flour\",\"meat\"]))\n",
    "print(sol.findAllRecipes([\"bread\",\"sandwich\",\"burger\"], [[\"yeast\",\"flour\"],[\"bread\",\"meat\"],[\"sandwich\",\"meat\",\"bread\"]], [\"yeast\",\"flour\",\"meat\"]))"
   ]
  },
  {
   "cell_type": "markdown",
   "metadata": {},
   "source": [
    "### Breadth-First Search Solution"
   ]
  },
  {
   "cell_type": "code",
   "execution_count": 3,
   "metadata": {},
   "outputs": [],
   "source": [
    "from typing import List\n",
    "from collections import deque\n",
    "\n",
    "class Solution:\n",
    "    def findAllRecipes(self, recipes: List[str], ingredients: List[List[str]], supplies: List[str]) -> List[str]:\n",
    "        available_items = set(supplies)\n",
    "\n",
    "        recipe_queue = deque(range(len(recipes)))\n",
    "\n",
    "        ans = []\n",
    "\n",
    "        last_size = -1\n",
    "\n",
    "        while last_size < len(available_items):\n",
    "            last_size = len(available_items)\n",
    "\n",
    "            k = len(recipe_queue)\n",
    "\n",
    "            while k > 0:\n",
    "                k -= 1\n",
    "                recipe_idx = recipe_queue.popleft()\n",
    "                \n",
    "                if all(\n",
    "                   item in available_items for item in ingredients[recipe_idx]  \n",
    "                ):\n",
    "                    available_items.add(recipes[recipe_idx])\n",
    "                    ans.append(recipes[recipe_idx])\n",
    "                else:\n",
    "                    recipe_queue.append(recipe_idx)\n",
    "        \n",
    "        return ans"
   ]
  },
  {
   "cell_type": "markdown",
   "metadata": {},
   "source": [
    "Run the code cell below to test the function."
   ]
  },
  {
   "cell_type": "code",
   "execution_count": 4,
   "metadata": {},
   "outputs": [
    {
     "name": "stdout",
     "output_type": "stream",
     "text": [
      "['bread']\n",
      "['bread', 'sandwich']\n",
      "['bread', 'sandwich', 'burger']\n"
     ]
    }
   ],
   "source": [
    "sol = Solution()\n",
    "\n",
    "print(sol.findAllRecipes([\"bread\"], [[\"yeast\",\"flour\"]], [\"yeast\",\"flour\",\"corn\"]))\n",
    "print(sol.findAllRecipes([\"bread\",\"sandwich\"], [[\"yeast\",\"flour\"],[\"bread\",\"meat\"]], [\"yeast\",\"flour\",\"meat\"]))\n",
    "print(sol.findAllRecipes([\"bread\",\"sandwich\",\"burger\"], [[\"yeast\",\"flour\"],[\"bread\",\"meat\"],[\"sandwich\",\"meat\",\"bread\"]], [\"yeast\",\"flour\",\"meat\"]))"
   ]
  },
  {
   "cell_type": "markdown",
   "metadata": {},
   "source": [
    "### Topological Sort (Kahn's Algorithm) Solution"
   ]
  },
  {
   "cell_type": "code",
   "execution_count": 5,
   "metadata": {},
   "outputs": [],
   "source": [
    "from collections import deque, defaultdict\n",
    "from typing import List\n",
    "\n",
    "class Solution:\n",
    "    def findAllRecipes(self, recipes: List[str], ingredients: List[List[str]], supplies: List[str]) -> List[str]:\n",
    "        available_supplies = set(supplies)\n",
    "        recipe_to_idx = {recipe: idx for idx, recipe in enumerate(recipes)}\n",
    "        dependency_graph = defaultdict(list)\n",
    "        in_degree = [0] * len(recipes)\n",
    "\n",
    "        for recipe_idx, ingredients_list in enumerate(ingredients):\n",
    "            for ingredient in ingredients_list:\n",
    "                if ingredient not in available_supplies:\n",
    "                    dependency_graph[ingredient].append(recipes[recipe_idx])\n",
    "                    in_degree[recipe_idx] += 1\n",
    "        \n",
    "        queue = deque(idx for idx, count in enumerate(in_degree) if count == 0)\n",
    "        answer = []\n",
    "\n",
    "        while(queue):\n",
    "            recipe_idx = queue.popleft()\n",
    "            recipe = recipes[recipe_idx]\n",
    "            answer.append(recipe)\n",
    "\n",
    "            for dependent_recipe in dependency_graph[recipe]:\n",
    "                in_degree[recipe_to_idx[dependent_recipe]] -= 1\n",
    "                if in_degree[recipe_to_idx[dependent_recipe]] == 0:\n",
    "                    queue.append(recipe_to_idx[dependent_recipe])\n",
    "        \n",
    "        return answer"
   ]
  },
  {
   "cell_type": "markdown",
   "metadata": {},
   "source": [
    "Run the code cell below to test the function."
   ]
  },
  {
   "cell_type": "code",
   "execution_count": 6,
   "metadata": {},
   "outputs": [
    {
     "name": "stdout",
     "output_type": "stream",
     "text": [
      "['bread']\n",
      "['bread', 'sandwich']\n",
      "['bread', 'sandwich', 'burger']\n"
     ]
    }
   ],
   "source": [
    "sol = Solution()\n",
    "\n",
    "print(sol.findAllRecipes([\"bread\"], [[\"yeast\",\"flour\"]], [\"yeast\",\"flour\",\"corn\"]))\n",
    "print(sol.findAllRecipes([\"bread\",\"sandwich\"], [[\"yeast\",\"flour\"],[\"bread\",\"meat\"]], [\"yeast\",\"flour\",\"meat\"]))\n",
    "print(sol.findAllRecipes([\"bread\",\"sandwich\",\"burger\"], [[\"yeast\",\"flour\"],[\"bread\",\"meat\"],[\"sandwich\",\"meat\",\"bread\"]], [\"yeast\",\"flour\",\"meat\"]))"
   ]
  },
  {
   "cell_type": "code",
   "execution_count": null,
   "metadata": {},
   "outputs": [],
   "source": []
  }
 ],
 "metadata": {
  "kernelspec": {
   "display_name": "kaggle",
   "language": "python",
   "name": "python3"
  },
  "language_info": {
   "codemirror_mode": {
    "name": "ipython",
    "version": 3
   },
   "file_extension": ".py",
   "mimetype": "text/x-python",
   "name": "python",
   "nbconvert_exporter": "python",
   "pygments_lexer": "ipython3",
   "version": "3.13.0"
  }
 },
 "nbformat": 4,
 "nbformat_minor": 2
}
