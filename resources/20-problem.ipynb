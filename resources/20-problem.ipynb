{
 "cells": [
  {
   "cell_type": "markdown",
   "metadata": {},
   "source": [
    "# [20. Valid Parentheses](https://leetcode.com/problems/valid-parentheses/)\n",
    "\n",
    "Given a string s containing just the characters ``'('``', ``'')'``', ```'{'```, ```'}'```, ```'['``` and ```']',``` determine if the input string is valid.\n",
    "\n",
    "An input string is valid if:\n",
    "\n",
    "+ Open brackets must be closed by the same type of brackets.\n",
    "+ Open brackets must be closed in the correct order.\n",
    "+ Every close bracket has a corresponding open bracket of the same type.\n",
    " \n",
    "\n",
    "Example 1:\n",
    "```python\n",
    "Input: s = \"()\"\n",
    "\n",
    "Output: true\n",
    "```\n",
    "\n",
    "Example 2:\n",
    "```python\n",
    "Input: s = \"()[]{}\"\n",
    "\n",
    "Output: true\n",
    "```\n",
    "\n",
    "Example 3:\n",
    "```python\n",
    "Input: s = \"(]\"\n",
    "\n",
    "Output: false\n",
    "```\n",
    "\n",
    "Example 4:\n",
    "```python\n",
    "Input: s = \"([])\"\n",
    "\n",
    "Output: true\n",
    "```\n",
    "\n",
    "\n",
    "Constraints:\n",
    "\n",
    "+ ```1 <= s.length <= 10^4```\n",
    "s consists of parentheses only '()[]{}'.\n"
   ]
  },
  {
   "cell_type": "code",
   "execution_count": 2,
   "metadata": {},
   "outputs": [],
   "source": [
    "class Solution:\n",
    "    def isValid(self, s: str) -> bool:\n",
    "        l = []\n",
    "\n",
    "        d = {\n",
    "            '(': ')',\n",
    "            '[': ']',\n",
    "            '{': '}',\n",
    "        }\n",
    "\n",
    "        for i in range(0, len(s)):\n",
    "            if s[i] in \")]}\" and l:\n",
    "                if l[-1] in \")]}\":\n",
    "                    return False\n",
    "                if s[i] == d[l[-1]]:\n",
    "                    l = l[:-1]\n",
    "                else:\n",
    "                    return False\n",
    "            else:\n",
    "                l.append(s[i])\n",
    "        \n",
    "        if l:\n",
    "            return False\n",
    "        else:\n",
    "            return True"
   ]
  },
  {
   "cell_type": "code",
   "execution_count": 3,
   "metadata": {},
   "outputs": [
    {
     "name": "stdout",
     "output_type": "stream",
     "text": [
      "True\n",
      "True\n",
      "False\n",
      "False\n",
      "True\n"
     ]
    }
   ],
   "source": [
    "sol = Solution()\n",
    "\n",
    "print(sol.isValid(\"()\"))\n",
    "print(sol.isValid(\"()[]{}\"))\n",
    "print(sol.isValid(\"(]\"))\n",
    "print(sol.isValid(\"([)]\"))\n",
    "print(sol.isValid(\"{[]}\"))"
   ]
  },
  {
   "cell_type": "code",
   "execution_count": 4,
   "metadata": {},
   "outputs": [],
   "source": [
    "class Solution:\n",
    "    def isValid(self, s: str) -> bool:\n",
    "        stack = []\n",
    "\n",
    "        mapping = {\n",
    "            '(': ')',\n",
    "            '[': ']',\n",
    "            '{': '}',\n",
    "        }\n",
    "\n",
    "        for c in s:\n",
    "            if c in mapping:\n",
    "                stack.append(c)\n",
    "            elif c not in mapping and stack:\n",
    "                top = stack.pop()\n",
    "                if mapping[top] is not c:\n",
    "                    return False\n",
    "            else:\n",
    "                return False\n",
    "        \n",
    "        return not stack"
   ]
  },
  {
   "cell_type": "code",
   "execution_count": 5,
   "metadata": {},
   "outputs": [
    {
     "name": "stdout",
     "output_type": "stream",
     "text": [
      "True\n",
      "True\n",
      "False\n",
      "False\n",
      "True\n"
     ]
    }
   ],
   "source": [
    "sol = Solution()\n",
    "\n",
    "print(sol.isValid(\"()\"))\n",
    "print(sol.isValid(\"()[]{}\"))\n",
    "print(sol.isValid(\"(]\"))\n",
    "print(sol.isValid(\"([)]\"))\n",
    "print(sol.isValid(\"{[]}\"))"
   ]
  },
  {
   "cell_type": "code",
   "execution_count": null,
   "metadata": {},
   "outputs": [],
   "source": []
  }
 ],
 "metadata": {
  "kernelspec": {
   "display_name": "kaggle",
   "language": "python",
   "name": "python3"
  },
  "language_info": {
   "codemirror_mode": {
    "name": "ipython",
    "version": 3
   },
   "file_extension": ".py",
   "mimetype": "text/x-python",
   "name": "python",
   "nbconvert_exporter": "python",
   "pygments_lexer": "ipython3",
   "version": "3.13.0"
  }
 },
 "nbformat": 4,
 "nbformat_minor": 2
}
