{
 "cells": [
  {
   "cell_type": "markdown",
   "metadata": {},
   "source": [
    "# [3306. Count of Substrings Containing Every Vowel and K Consonants II](https://leetcode.com/problems/count-of-substrings-containing-every-vowel-and-k-consonants-ii/)\n",
    "\n",
    "You are given a string ```word``` and a non-negative integer ```k```.\n",
    "\n",
    "Return the total number of substrings of word that contain every vowel (```'a'```, ```'e'```, ```'i'```, ```'o'```, and ```'u'```) at least once and exactly ```k``` consonants.\n",
    "\n",
    " \n",
    "\n",
    "Example 1:\n",
    "```python\n",
    "Input: word = \"aeioqq\", k = 1\n",
    "\n",
    "Output: 0\n",
    "\n",
    "Explanation:\n",
    "\n",
    "There is no substring with every vowel.\n",
    "```\n",
    "\n",
    "Example 2:\n",
    "```python\n",
    "Input: word = \"aeiou\", k = 0\n",
    "\n",
    "Output: 1\n",
    "\n",
    "Explanation:\n",
    "\n",
    "The only substring with every vowel and zero consonants is word[0..4], which is \"aeiou\".\n",
    "```\n",
    "\n",
    "Example 3:\n",
    "```python\n",
    "Input: word = \"ieaouqqieaouqq\", k = 1\n",
    "\n",
    "Output: 3\n",
    "\n",
    "Explanation:\n",
    "\n",
    "The substrings with every vowel and one consonant are:\n",
    "\n",
    "word[0..5], which is \"ieaouq\".\n",
    "word[6..11], which is \"qieaou\".\n",
    "word[7..12], which is \"ieaouq\".\n",
    "```\n",
    "\n",
    "Constraints:\n",
    "\n",
    "+ ```5 <= word.length <= 2 * 10^5```\n",
    "+ ```word``` consists only of lowercase English letters.\n",
    "+ ```0 <= k <= word.length - 5```\n",
    "\n"
   ]
  },
  {
   "cell_type": "code",
   "execution_count": 1,
   "metadata": {},
   "outputs": [],
   "source": [
    "class Solution:\n",
    "    def isVowel(self, c: str) -> bool:\n",
    "        return c in \"aeiou\"\n",
    "\n",
    "    def countOfSubstrings(self, word: str, k: int) -> int:\n",
    "        n = len(word)\n",
    "        num_valid_substrings = 0\n",
    "        start = end = 0\n",
    "        vowel_count = {}\n",
    "        consonant_count = 0\n",
    "\n",
    "        next_consonant = [0] * n\n",
    "        next_consonant_index = n\n",
    "\n",
    "        for i in range(n-1, -1, -1):\n",
    "            next_consonant[i] = next_consonant_index\n",
    "            if not self.isVowel(word[i]):\n",
    "                next_consonant_index = i\n",
    "        \n",
    "        while end<len(word):\n",
    "            new_letter = word[end]\n",
    "            if self.isVowel(new_letter):\n",
    "                vowel_count[new_letter] = vowel_count.get(new_letter, 0) + 1\n",
    "            else:\n",
    "                consonant_count += 1\n",
    "            \n",
    "            while consonant_count > k:\n",
    "                start_letter = word[start]\n",
    "                if self.isVowel(start_letter):\n",
    "                    vowel_count[start_letter] -= 1\n",
    "                    if vowel_count[start_letter]==0:\n",
    "                        del vowel_count[start_letter]\n",
    "                else:\n",
    "                    consonant_count -= 1\n",
    "                start += 1\n",
    "\n",
    "            while (\n",
    "                start < n and len(vowel_count) == 5 and consonant_count == k\n",
    "            ):\n",
    "                num_valid_substrings += next_consonant[end] - end\n",
    "                start_letter = word[start]\n",
    "                if self.isVowel(start_letter):\n",
    "                    vowel_count[start_letter] -= 1\n",
    "                    if vowel_count[start_letter]==0:\n",
    "                        del vowel_count[start_letter]\n",
    "                else:\n",
    "                    consonant_count -= 1\n",
    "                start += 1\n",
    "            \n",
    "            end += 1\n",
    "        \n",
    "        return num_valid_substrings"
   ]
  },
  {
   "cell_type": "markdown",
   "metadata": {},
   "source": [
    "Run the code cell below to test the function."
   ]
  },
  {
   "cell_type": "code",
   "execution_count": 4,
   "metadata": {},
   "outputs": [
    {
     "name": "stdout",
     "output_type": "stream",
     "text": [
      "0\n",
      "1\n",
      "3\n"
     ]
    }
   ],
   "source": [
    "sol = Solution()\n",
    "\n",
    "print(sol.countOfSubstrings(\"aeioqq\", 1))\n",
    "print(sol.countOfSubstrings(\"aeiou\", 0))\n",
    "print(sol.countOfSubstrings(\"ieaouqqieaouqq\", 1))"
   ]
  },
  {
   "cell_type": "code",
   "execution_count": null,
   "metadata": {},
   "outputs": [],
   "source": []
  }
 ],
 "metadata": {
  "kernelspec": {
   "display_name": "kaggle",
   "language": "python",
   "name": "python3"
  },
  "language_info": {
   "codemirror_mode": {
    "name": "ipython",
    "version": 3
   },
   "file_extension": ".py",
   "mimetype": "text/x-python",
   "name": "python",
   "nbconvert_exporter": "python",
   "pygments_lexer": "ipython3",
   "version": "3.13.0"
  }
 },
 "nbformat": 4,
 "nbformat_minor": 2
}
