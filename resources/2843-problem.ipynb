{
 "cells": [
  {
   "cell_type": "markdown",
   "metadata": {},
   "source": [
    "# [2843. Count Symmetric Integers](https://leetcode.com/problems/count-symmetric-integers/)\n",
    "    \n",
    "You are given two positive integers ```low``` and ```high```.\n",
    "\n",
    "An integer ```x``` consisting of ```2 * n``` digits is symmetric if the sum of the first ```n``` digits of ```x``` is equal to the sum of the last ```n``` digits of ```x```. Numbers with an odd number of digits are never symmetric.\n",
    "\n",
    "Return the number of symmetric integers in the range ```[low, high]```.\n",
    "\n",
    "\n",
    "Example 1:\n",
    "```python\n",
    "Input: low = 1, high = 100\n",
    "Output: 9\n",
    "Explanation: There are 9 symmetric integers between 1 and 100: 11, 22, 33, 44, 55, 66, 77, 88, and 99.\n",
    "```\n",
    "\n",
    "Example 2:\n",
    "```python\n",
    "Input: low = 1200, high = 1230\n",
    "Output: 4\n",
    "Explanation: There are 4 symmetric integers between 1200 and 1230: 1203, 1212, 1221, and 1230.\n",
    "```\n",
    "\n",
    "Constraints:\n",
    "\n",
    "+ ```1 <= low <= high <= 10^4```"
   ]
  },
  {
   "cell_type": "code",
   "execution_count": 1,
   "metadata": {},
   "outputs": [],
   "source": [
    "class Solution:\n",
    "    def countSymmetricIntegers(self, low: int, high: int) -> int:\n",
    "        count = 0\n",
    "\n",
    "        for num in range(low, high + 1):\n",
    "            num_ = str(num)\n",
    "            n = len(num_)\n",
    "            if n % 2 != 0:\n",
    "                continue\n",
    "            \n",
    "            left = right = 0\n",
    "            for i in range(n // 2):\n",
    "                left += int(num_[i])\n",
    "                right += int(num_[- i - 1])\n",
    "            \n",
    "            if left == right:\n",
    "                count += 1 \n",
    "        \n",
    "        return count"
   ]
  },
  {
   "cell_type": "markdown",
   "metadata": {},
   "source": [
    "Run the code cell below to test the function."
   ]
  },
  {
   "cell_type": "code",
   "execution_count": 2,
   "metadata": {},
   "outputs": [],
   "source": [
    "sol = Solution()\n",
    "\n",
    "assert sol.countSymmetricIntegers(1, 100) == 9\n",
    "assert sol.countSymmetricIntegers(1200, 1230) == 4"
   ]
  },
  {
   "cell_type": "code",
   "execution_count": null,
   "metadata": {},
   "outputs": [],
   "source": []
  }
 ],
 "metadata": {
  "kernelspec": {
   "display_name": "leetcode-fniKCUVX-py3.13",
   "language": "python",
   "name": "python3"
  },
  "language_info": {
   "codemirror_mode": {
    "name": "ipython",
    "version": 3
   },
   "file_extension": ".py",
   "mimetype": "text/x-python",
   "name": "python",
   "nbconvert_exporter": "python",
   "pygments_lexer": "ipython3",
   "version": "3.13.2"
  }
 },
 "nbformat": 4,
 "nbformat_minor": 2
}
