{
 "cells": [
  {
   "cell_type": "markdown",
   "metadata": {},
   "source": [
    "# [2140. Solving Questions With Brainpower](https://leetcode.com/problems/solving-questions-with-brainpower/)\n",
    "\n",
    "You are given a 0-indexed 2D integer array ```questions``` where ```questions[i] = [pointsi, brainpoweri]```.\n",
    "\n",
    "The array describes the questions of an exam, where you have to process the questions in order (i.e., starting from question ```0```) and make a decision whether to solve or skip each question. Solving question ```i``` will earn you ```pointsi``` points but you will be unable to solve each of the next ```brainpoweri``` questions. If you skip question ```i```, you get to make the decision on the next question.\n",
    "\n",
    "+ For example, given ```questions = [[3, 2], [4, 3], [4, 4], [2, 5]]```:\n",
    "    - If question ```0``` is solved, you will earn ```3``` points but you will be unable to solve questions ```1``` and ```2```.\n",
    "    - If instead, question ```0``` is skipped and question ```1``` is solved, you will earn ```4``` points but you will be unable to solve questions ```2``` and ```3```.\n",
    "\n",
    "Return the maximum points you can earn for the exam.\n",
    "\n",
    "\n",
    "Example 1:\n",
    "```python\n",
    "Input: questions = [[3,2],[4,3],[4,4],[2,5]]\n",
    "Output: 5\n",
    "Explanation: The maximum points can be earned by solving questions 0 and 3.\n",
    "- Solve question 0: Earn 3 points, will be unable to solve the next 2 questions\n",
    "- Unable to solve questions 1 and 2\n",
    "- Solve question 3: Earn 2 points\n",
    "Total points earned: 3 + 2 = 5. There is no other way to earn 5 or more points.\n",
    "```\n",
    "\n",
    "Example 2:\n",
    "```python\n",
    "Input: questions = [[1,1],[2,2],[3,3],[4,4],[5,5]]\n",
    "Output: 7\n",
    "Explanation: The maximum points can be earned by solving questions 1 and 4.\n",
    "- Skip question 0\n",
    "- Solve question 1: Earn 2 points, will be unable to solve the next 2 questions\n",
    "- Unable to solve questions 2 and 3\n",
    "- Solve question 4: Earn 5 points\n",
    "Total points earned: 2 + 5 = 7. There is no other way to earn 7 or more points.\n",
    "```\n",
    "\n",
    "Constraints:\n",
    "\n",
    "+ ```1 <= questions.length <= 10^5```\n",
    "+ ```questions[i].length == 2```\n",
    "+ ```1 <= pointsi, brainpoweri <= 10^5```\n"
   ]
  },
  {
   "cell_type": "markdown",
   "metadata": {},
   "source": [
    "### Dynamic Programming Solution using HashMap"
   ]
  },
  {
   "cell_type": "code",
   "execution_count": 1,
   "metadata": {},
   "outputs": [],
   "source": [
    "from typing import List\n",
    "from collections import defaultdict\n",
    "\n",
    "class Solution:\n",
    "    def mostPoints(self, questions: List[List[int]]) -> int:\n",
    "        def solveQuestion(k: int) -> int:\n",
    "            if k >= len(questions):\n",
    "                return 0\n",
    "            \n",
    "            if k in solved_questions:\n",
    "                return solved_questions[k]\n",
    "\n",
    "            solved_questions[k] = max(\n",
    "                questions[k][0] + solveQuestion(k + questions[k][1] + 1),\n",
    "                solveQuestion(k + 1)\n",
    "            )\n",
    "\n",
    "            return solved_questions[k]\n",
    "            \n",
    "        solved_questions = defaultdict(int)\n",
    "\n",
    "        return solveQuestion(0)"
   ]
  },
  {
   "cell_type": "markdown",
   "metadata": {},
   "source": [
    "Run the code cell below to test the function."
   ]
  },
  {
   "cell_type": "code",
   "execution_count": 2,
   "metadata": {},
   "outputs": [
    {
     "name": "stdout",
     "output_type": "stream",
     "text": [
      "5\n",
      "7\n"
     ]
    }
   ],
   "source": [
    "sol = Solution()\n",
    "\n",
    "print(sol.mostPoints([[3,2],[4,3],[4,4],[2,5]]))\n",
    "print(sol.mostPoints([[1,1],[2,2],[3,3],[4,4],[5,5]]))"
   ]
  },
  {
   "cell_type": "markdown",
   "metadata": {},
   "source": [
    "### Dynamic Programming Solution"
   ]
  },
  {
   "cell_type": "code",
   "execution_count": 3,
   "metadata": {},
   "outputs": [],
   "source": [
    "from typing import List\n",
    "\n",
    "class Solution:\n",
    "    def mostPoints(self, questions: List[List[int]]) -> int:\n",
    "        n = len(questions)\n",
    "        dp = [0] * n\n",
    "\n",
    "        dp[-1] = questions[-1][0]\n",
    "\n",
    "        for i in range(n - 2, -1, -1):\n",
    "            j = i + 1 + questions[i][1]\n",
    "            dp[i] = max(dp[i + 1], questions[i][0] + (dp[j] if j < n else 0))\n",
    "\n",
    "        return dp[0]"
   ]
  },
  {
   "cell_type": "markdown",
   "metadata": {},
   "source": [
    "Run the code cell below to test the function."
   ]
  },
  {
   "cell_type": "code",
   "execution_count": 4,
   "metadata": {},
   "outputs": [
    {
     "name": "stdout",
     "output_type": "stream",
     "text": [
      "5\n",
      "7\n"
     ]
    }
   ],
   "source": [
    "sol = Solution()\n",
    "\n",
    "print(sol.mostPoints([[3,2],[4,3],[4,4],[2,5]]))\n",
    "print(sol.mostPoints([[1,1],[2,2],[3,3],[4,4],[5,5]]))"
   ]
  },
  {
   "cell_type": "code",
   "execution_count": null,
   "metadata": {},
   "outputs": [],
   "source": []
  }
 ],
 "metadata": {
  "kernelspec": {
   "display_name": "kaggle",
   "language": "python",
   "name": "python3"
  },
  "language_info": {
   "codemirror_mode": {
    "name": "ipython",
    "version": 3
   },
   "file_extension": ".py",
   "mimetype": "text/x-python",
   "name": "python",
   "nbconvert_exporter": "python",
   "pygments_lexer": "ipython3",
   "version": "3.13.0"
  }
 },
 "nbformat": 4,
 "nbformat_minor": 2
}
