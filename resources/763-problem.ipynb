{
 "cells": [
  {
   "cell_type": "markdown",
   "metadata": {},
   "source": [
    "# [763. Partition Labels](https://leetcode.com/problems/partition-labels/)\n",
    "\n",
    "You are given a string ```s```. We want to partition the string into as many parts as possible so that each letter appears in at most one part. For example, the string ```\"ababcc\"``` can be partitioned into ```[\"abab\", \"cc\"]```, but partitions such as ```[\"aba\", \"bcc\"]``` or ```[\"ab\", \"ab\", \"cc\"]``` are invalid.\n",
    "\n",
    "Note that the partition is done so that after concatenating all the parts in order, the resultant string should be ```s```.\n",
    "\n",
    "Return a list of integers representing the size of these parts.\n",
    "\n",
    "\n",
    "Example 1:\n",
    "```python\n",
    "Input: s = \"ababcbacadefegdehijhklij\"\n",
    "Output: [9,7,8]\n",
    "Explanation:\n",
    "The partition is \"ababcbaca\", \"defegde\", \"hijhklij\".\n",
    "This is a partition so that each letter appears in at most one part.\n",
    "A partition like \"ababcbacadefegde\", \"hijhklij\" is incorrect, because it splits s into less parts.\n",
    "```\n",
    "\n",
    "Example 2:\n",
    "```python\n",
    "Input: s = \"eccbbbbdec\"\n",
    "Output: [10]\n",
    "```\n",
    "\n",
    "Constraints:\n",
    "\n",
    "+ ```1 <= s.length <= 500```\n",
    "+ ```s``` consists of lowercase English letters."
   ]
  },
  {
   "cell_type": "markdown",
   "metadata": {},
   "source": [
    "### Hash Table and Two Pointers Solution"
   ]
  },
  {
   "cell_type": "code",
   "execution_count": 1,
   "metadata": {},
   "outputs": [],
   "source": [
    "from typing import List\n",
    "\n",
    "class Solution:\n",
    "    def partitionLabels(self, s: str) -> List[int]:\n",
    "        last_used = {char: index for index, char in enumerate(s)}\n",
    "\n",
    "        result = []\n",
    "\n",
    "        first, end = 0, 0\n",
    "\n",
    "        for index, char in enumerate(s):\n",
    "            end = max(end, last_used[char])\n",
    "            \n",
    "            if end == index:\n",
    "                result.append(end - first + 1)\n",
    "                first = index + 1\n",
    "        \n",
    "        return result"
   ]
  },
  {
   "cell_type": "markdown",
   "metadata": {},
   "source": [
    "Run the code cell below to test the function."
   ]
  },
  {
   "cell_type": "code",
   "execution_count": 2,
   "metadata": {},
   "outputs": [
    {
     "name": "stdout",
     "output_type": "stream",
     "text": [
      "[9, 7, 8]\n",
      "[10]\n"
     ]
    }
   ],
   "source": [
    "sol = Solution()\n",
    "\n",
    "print(sol.partitionLabels(\"ababcbacadefegdehijhklij\"))\n",
    "print(sol.partitionLabels(\"eccbbbbdec\"))"
   ]
  },
  {
   "cell_type": "code",
   "execution_count": null,
   "metadata": {},
   "outputs": [],
   "source": []
  }
 ],
 "metadata": {
  "kernelspec": {
   "display_name": "kaggle",
   "language": "python",
   "name": "python3"
  },
  "language_info": {
   "codemirror_mode": {
    "name": "ipython",
    "version": 3
   },
   "file_extension": ".py",
   "mimetype": "text/x-python",
   "name": "python",
   "nbconvert_exporter": "python",
   "pygments_lexer": "ipython3",
   "version": "3.13.0"
  }
 },
 "nbformat": 4,
 "nbformat_minor": 2
}
