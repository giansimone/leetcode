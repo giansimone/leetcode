{
 "cells": [
  {
   "cell_type": "markdown",
   "metadata": {},
   "source": [
    "# [2379. Minimum Recolors to Get K Consecutive Black Blocks](https://leetcode.com/problems/minimum-recolors-to-get-k-consecutive-black-blocks)\n",
    "\n",
    "You are given a 0-indexed string blocks of length ```n```, where ```blocks[i]``` is either ```'W'``` or ```'B'```, representing the color of the ```ith``` block. The characters ```'W'``` and ```'B'``` denote the colors white and black, respectively.\n",
    "\n",
    "You are also given an integer ```k```, which is the desired number of consecutive black blocks.\n",
    "\n",
    "In one operation, you can recolor a white block such that it becomes a black block.\n",
    "\n",
    "Return the minimum number of operations needed such that there is at least one occurrence of k consecutive black blocks.\n",
    "\n",
    "\n",
    "\n",
    "Example 1:\n",
    "```python\n",
    "Input: blocks = \"WBBWWBBWBW\", k = 7\n",
    "Output: 3\n",
    "Explanation:\n",
    "One way to achieve 7 consecutive black blocks is to recolor the 0th, 3rd, and 4th blocks\n",
    "so that blocks = \"BBBBBBBWBW\". \n",
    "It can be shown that there is no way to achieve 7 consecutive black blocks in less than 3 operations.\n",
    "Therefore, we return 3.\n",
    "```\n",
    "\n",
    "Example 2:\n",
    "```python\n",
    "Input: blocks = \"WBWBBBW\", k = 2\n",
    "Output: 0\n",
    "Explanation:\n",
    "No changes need to be made, since 2 consecutive black blocks already exist.\n",
    "Therefore, we return 0.\n",
    "```\n",
    "\n",
    "Constraints:\n",
    "\n",
    "+ ```n == blocks.length```\n",
    "+ ```1 <= n <= 100```\n",
    "+ ```blocks[i]``` is either ```'W'``` or ```'B'```.\n",
    "+ ```1 <= k <= n```\n"
   ]
  },
  {
   "cell_type": "code",
   "execution_count": 2,
   "metadata": {},
   "outputs": [],
   "source": [
    "class Solution:\n",
    "    def minimumRecolors(self, blocks: str, k: int) -> int:\n",
    "        output = 101\n",
    "\n",
    "        for i in range(len(blocks)):\n",
    "            currentOutput = 0\n",
    "            \n",
    "            if blocks[i] == 'W':\n",
    "                currentOutput += 1\n",
    "            \n",
    "            currentK = 1\n",
    "            \n",
    "            j = i + 1\n",
    "            \n",
    "            while j<len(blocks) and currentK<k:\n",
    "                if blocks[j] == 'W':\n",
    "                    currentOutput += 1\n",
    "                currentK += 1\n",
    "                j += 1\n",
    "            \n",
    "            if currentK == k and currentOutput < output:\n",
    "                output = currentOutput\n",
    "                \n",
    "        return output"
   ]
  },
  {
   "cell_type": "markdown",
   "metadata": {},
   "source": [
    "Run the code cell below to test the function."
   ]
  },
  {
   "cell_type": "code",
   "execution_count": null,
   "metadata": {},
   "outputs": [
    {
     "name": "stdout",
     "output_type": "stream",
     "text": [
      "3\n",
      "0\n"
     ]
    }
   ],
   "source": [
    "sol = Solution()\n",
    "\n",
    "print(sol.minimumRecolors(blocks=\"WBBWWBBWBW\", k=7))\n",
    "print(sol.minimumRecolors(blocks=\"WBWBBBW\", k=2))"
   ]
  },
  {
   "cell_type": "code",
   "execution_count": 1,
   "metadata": {},
   "outputs": [],
   "source": [
    "class Solution:\n",
    "    def minimumRecolors(self, blocks: str, k: int) -> int:\n",
    "        num_recolors = 101\n",
    "        num_whites = 0\n",
    "        left = 0\n",
    "\n",
    "\n",
    "        for right in range(len(blocks)):\n",
    "\n",
    "            if blocks[right] == \"W\":\n",
    "                num_whites += 1\n",
    "            \n",
    "            if right - left + 1 == k:\n",
    "                num_recolors = min(num_recolors, num_whites)\n",
    "\n",
    "                if blocks[left] == \"W\":\n",
    "                    num_whites -= 1\n",
    "                \n",
    "                left += 1\n",
    "        \n",
    "        return num_recolors"
   ]
  },
  {
   "cell_type": "code",
   "execution_count": 3,
   "metadata": {},
   "outputs": [
    {
     "name": "stdout",
     "output_type": "stream",
     "text": [
      "3\n",
      "0\n"
     ]
    }
   ],
   "source": [
    "sol = Solution()\n",
    "\n",
    "print(sol.minimumRecolors(blocks=\"WBBWWBBWBW\", k=7))\n",
    "print(sol.minimumRecolors(blocks=\"WBWBBBW\", k=2))"
   ]
  },
  {
   "cell_type": "code",
   "execution_count": null,
   "metadata": {},
   "outputs": [],
   "source": []
  }
 ],
 "metadata": {
  "kernelspec": {
   "display_name": "kaggle",
   "language": "python",
   "name": "python3"
  },
  "language_info": {
   "codemirror_mode": {
    "name": "ipython",
    "version": 3
   },
   "file_extension": ".py",
   "mimetype": "text/x-python",
   "name": "python",
   "nbconvert_exporter": "python",
   "pygments_lexer": "ipython3",
   "version": "3.13.0"
  }
 },
 "nbformat": 4,
 "nbformat_minor": 2
}
