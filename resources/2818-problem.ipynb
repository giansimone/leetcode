{
 "cells": [
  {
   "cell_type": "markdown",
   "metadata": {},
   "source": [
    "# [2818. Apply Operations to Maximize Score](https://leetcode.com/problems/apply-operations-to-maximize-score/)\n",
    "\n",
    "You are given an array ```nums``` of ```n``` positive integers and an integer ```k```.\n",
    "\n",
    "Initially, you start with a score of ```1```. You have to maximize your score by applying the following operation at most ```k``` times:\n",
    "\n",
    "+ Choose any non-empty subarray ```nums[l, ..., r]``` that you haven't chosen previously.\n",
    "+ Choose an element ```x``` of ```nums[l, ..., r]``` with the highest prime score. If multiple such elements exist, choose the one with the smallest index.\n",
    "+ Multiply your score by ```x```.\n",
    "\n",
    "Here, ```nums[l, ..., r]``` denotes the subarray of ```nums``` starting at index ```l``` and ending at the index ```r```, both ends being inclusive.\n",
    "\n",
    "The prime score of an integer ```x``` is equal to the number of distinct prime factors of ```x```. For example, the prime score of ```300``` is ```3``` since ```300 = 2 * 2 * 3 * 5 * 5```.\n",
    "\n",
    "Return the maximum possible score after applying at most ```k``` operations.\n",
    "\n",
    "Since the answer may be large, return it modulo ```10^9 + 7```.\n",
    "\n",
    "\n",
    "Example 1:\n",
    "```python\n",
    "Input: nums = [8,3,9,3,8], k = 2\n",
    "Output: 81\n",
    "Explanation: To get a score of 81, we can apply the following operations:\n",
    "- Choose subarray nums[2, ..., 2]. nums[2] is the only element in this subarray. Hence, we multiply the score by nums[2]. The score becomes 1 * 9 = 9.\n",
    "- Choose subarray nums[2, ..., 3]. Both nums[2] and nums[3] have a prime score of 1, but nums[2] has the smaller index. Hence, we multiply the score by nums[2]. The score becomes 9 * 9 = 81.\n",
    "It can be proven that 81 is the highest score one can obtain.\n",
    "```\n",
    "\n",
    "Example 2:\n",
    "```python\n",
    "Input: nums = [19,12,14,6,10,18], k = 3\n",
    "Output: 4788\n",
    "Explanation: To get a score of 4788, we can apply the following operations: \n",
    "- Choose subarray nums[0, ..., 0]. nums[0] is the only element in this subarray. Hence, we multiply the score by nums[0]. The score becomes 1 * 19 = 19.\n",
    "- Choose subarray nums[5, ..., 5]. nums[5] is the only element in this subarray. Hence, we multiply the score by nums[5]. The score becomes 19 * 18 = 342.\n",
    "- Choose subarray nums[2, ..., 3]. Both nums[2] and nums[3] have a prime score of 2, but nums[2] has the smaller index. Hence, we multipy the score by nums[2]. The score becomes 342 * 14 = 4788.\n",
    "It can be proven that 4788 is the highest score one can obtain.\n",
    "```\n",
    "\n",
    "Constraints:\n",
    "\n",
    "+ ```1 <= nums.length == n <= 10^5```\n",
    "+ ```1 <= nums[i] <= 10^5```\n",
    "+ ```1 <= k <= min(n * (n + 1) / 2, 10^9)```"
   ]
  },
  {
   "cell_type": "markdown",
   "metadata": {},
   "source": [
    "### Monotonic Stack & Priority Queue Solution"
   ]
  },
  {
   "cell_type": "code",
   "execution_count": 1,
   "metadata": {},
   "outputs": [],
   "source": [
    "from typing import List\n",
    "import math\n",
    "import heapq\n",
    "\n",
    "class Solution:\n",
    "    def maximumScore(self, nums: List[int], k: int) -> int:\n",
    "        MOD = 10**9 + 7\n",
    "        n = len(nums)\n",
    "        prime_scores = [0] * n\n",
    "\n",
    "        for i, num in enumerate(nums):\n",
    "            for factor in range(2, int(math.sqrt(num)) + 1):\n",
    "                if num % factor == 0:\n",
    "                    prime_scores[i] += 1\n",
    "\n",
    "                    while num % factor == 0:\n",
    "                        num //= factor\n",
    "            if num >= 2:\n",
    "                prime_scores[i] += 1\n",
    "        \n",
    "        next_dominant = [n] * n\n",
    "        prev_dominant = [-1] * n\n",
    "\n",
    "        stack = []\n",
    "\n",
    "        for i in range(n):\n",
    "            while stack and prime_scores[stack[-1]] < prime_scores[i]:\n",
    "                top_idx = stack.pop()\n",
    "\n",
    "                next_dominant[top_idx] = i\n",
    "            \n",
    "            if stack:\n",
    "                prev_dominant[i] = stack[-1]\n",
    "            \n",
    "            stack.append(i)\n",
    "        \n",
    "        num_subarrays = [0] * n\n",
    "        \n",
    "        for i in range(n):\n",
    "            num_subarrays[i] = (next_dominant[i] - i) * (i - prev_dominant[i])\n",
    "        \n",
    "        priority_queue = []\n",
    "\n",
    "        for i in range(n):\n",
    "            heapq.heappush(priority_queue, (-nums[i], i))\n",
    "\n",
    "        score = 1\n",
    "\n",
    "        while k > 0:\n",
    "            num, i = heapq.heappop(priority_queue)\n",
    "            num = -num\n",
    "\n",
    "            operations = min(k, num_subarrays[i])\n",
    "\n",
    "            score = (score * self._power(num, operations, MOD)) % MOD\n",
    "\n",
    "            k -= operations\n",
    "\n",
    "        return score\n",
    "\n",
    "    def _power(self, base: int, exponent: int, MOD: int) -> int:\n",
    "        result = 1\n",
    "\n",
    "        while exponent > 0:\n",
    "            if exponent % 2 == 1:\n",
    "                result = (result * base) % MOD\n",
    "            \n",
    "            base = (base * base) % MOD\n",
    "            exponent //= 2\n",
    "\n",
    "        return result"
   ]
  },
  {
   "cell_type": "markdown",
   "metadata": {},
   "source": [
    "Run the code cell below to test the function."
   ]
  },
  {
   "cell_type": "code",
   "execution_count": 2,
   "metadata": {},
   "outputs": [
    {
     "name": "stdout",
     "output_type": "stream",
     "text": [
      "81\n",
      "4788\n"
     ]
    }
   ],
   "source": [
    "sol = Solution()\n",
    "\n",
    "print(sol.maximumScore([8, 3, 9, 3, 8], 2))\n",
    "print(sol.maximumScore([19, 12, 14, 6, 10, 18], 3))"
   ]
  },
  {
   "cell_type": "code",
   "execution_count": null,
   "metadata": {},
   "outputs": [],
   "source": []
  }
 ],
 "metadata": {
  "kernelspec": {
   "display_name": "kaggle",
   "language": "python",
   "name": "python3"
  },
  "language_info": {
   "codemirror_mode": {
    "name": "ipython",
    "version": 3
   },
   "file_extension": ".py",
   "mimetype": "text/x-python",
   "name": "python",
   "nbconvert_exporter": "python",
   "pygments_lexer": "ipython3",
   "version": "3.13.0"
  }
 },
 "nbformat": 4,
 "nbformat_minor": 2
}
