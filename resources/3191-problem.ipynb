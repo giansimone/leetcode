{
 "cells": [
  {
   "cell_type": "markdown",
   "metadata": {},
   "source": [
    "# [3191. Minimum Operations to Make Binary Array Elements Equal to One I](https://leetcode.com/problems/minimum-operations-to-make-binary-array-elements-equal-to-one-i/)\n",
    "\n",
    "You are given a binary array ```nums```.\n",
    "\n",
    "You can do the following operation on the array any number of times (possibly zero):\n",
    "\n",
    "+ Choose any 3 consecutive elements from the array and flip all of them.\n",
    "+ Flipping an element means changing its value from ```0``` to ```1```, and from ```1``` to ```0```.\n",
    "\n",
    "Return the minimum number of operations required to make all elements in nums equal to ```1```. If it is impossible, return ```-1```.\n",
    "\n",
    "\n",
    "\n",
    "Example 1:\n",
    "```python\n",
    "Input: nums = [0,1,1,1,0,0]\n",
    "\n",
    "Output: 3\n",
    "\n",
    "Explanation:\n",
    "We can do the following operations:\n",
    "\n",
    "Choose the elements at indices 0, 1 and 2. The resulting array is nums = [1,0,0,1,0,0].\n",
    "Choose the elements at indices 1, 2 and 3. The resulting array is nums = [1,1,1,0,0,0].\n",
    "Choose the elements at indices 3, 4 and 5. The resulting array is nums = [1,1,1,1,1,1].\n",
    "```\n",
    "\n",
    "Example 2:\n",
    "```python\n",
    "Input: nums = [0,1,1,1]\n",
    "\n",
    "Output: -1\n",
    "\n",
    "Explanation:\n",
    "It is impossible to make all elements equal to 1.\n",
    "```\n",
    "\n",
    "Constraints:\n",
    "\n",
    "+ ```3 <= nums.length <= 10^5```\n",
    "+ ```0 <= nums[i] <= 1```\n",
    "\n"
   ]
  },
  {
   "cell_type": "code",
   "execution_count": 1,
   "metadata": {},
   "outputs": [],
   "source": [
    "from typing import List\n",
    "\n",
    "class Solution:\n",
    "    def minOperations(self, nums: List[int]) -> int:\n",
    "        max_op = 0\n",
    "\n",
    "        for i in range(len(nums) - 2):\n",
    "            if nums[i] == 0:\n",
    "                nums[i] = 1\n",
    "                nums[i + 1] = 1 - nums[i + 1]\n",
    "                nums[i + 2] = 1 - nums[i + 2]\n",
    "                max_op += 1\n",
    "        \n",
    "        if nums[-1] == 1 and nums[-2] == 1:\n",
    "            return max_op\n",
    "        return - 1"
   ]
  },
  {
   "cell_type": "markdown",
   "metadata": {},
   "source": [
    "Run the code cell below to test the function."
   ]
  },
  {
   "cell_type": "code",
   "execution_count": 2,
   "metadata": {},
   "outputs": [
    {
     "name": "stdout",
     "output_type": "stream",
     "text": [
      "3\n",
      "-1\n"
     ]
    }
   ],
   "source": [
    "sol = Solution()\n",
    "\n",
    "print(sol.minOperations([0,1,1,1,0,0]))\n",
    "print(sol.minOperations([0,1,1,1]))"
   ]
  },
  {
   "cell_type": "code",
   "execution_count": null,
   "metadata": {},
   "outputs": [],
   "source": []
  }
 ],
 "metadata": {
  "kernelspec": {
   "display_name": "kaggle",
   "language": "python",
   "name": "python3"
  },
  "language_info": {
   "codemirror_mode": {
    "name": "ipython",
    "version": 3
   },
   "file_extension": ".py",
   "mimetype": "text/x-python",
   "name": "python",
   "nbconvert_exporter": "python",
   "pygments_lexer": "ipython3",
   "version": "3.13.0"
  }
 },
 "nbformat": 4,
 "nbformat_minor": 2
}
