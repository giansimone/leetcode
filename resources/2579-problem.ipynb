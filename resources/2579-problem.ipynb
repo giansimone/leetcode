{
 "cells": [
  {
   "cell_type": "markdown",
   "metadata": {},
   "source": [
    "# [2579. Count Total Number of Colored Cells](https://leetcode.com/problems/count-total-number-of-colored-cells/)\n",
    "\n",
    "There exists an infinitely large two-dimensional grid of uncolored unit cells. You are given a positive integer ```n```, indicating that you must do the following routine for ```n``` minutes:\n",
    "\n",
    "- At the first minute, color any arbitrary unit cell blue.\n",
    "- Every minute thereafter, color blue every uncolored cell that touches a blue cell.\n",
    "- Below is a pictorial representation of the state of the grid after minutes 1, 2, and 3.\n",
    "\n",
    "\n",
    "Return the number of colored cells at the end of ```n``` minutes.\n",
    "\n",
    "Example 1:\n",
    "```python\n",
    "Input: n = 1\n",
    "Output: 1\n",
    "Explanation: After 1 minute, there is only 1 blue cell, so we return 1.\n",
    "```\n",
    "\n",
    "Example 2:\n",
    "```python\n",
    "Input: n = 2\n",
    "Output: 5\n",
    "Explanation: After 2 minutes, there are 4 colored cells on the boundary and 1 in the center, so we return 5. \n",
    "```\n",
    "\n",
    "Constraints:\n",
    "\n",
    "+ ```1 <= n <= 10^5```"
   ]
  },
  {
   "cell_type": "code",
   "execution_count": 1,
   "metadata": {},
   "outputs": [],
   "source": [
    "class Solution:\n",
    "    def coloredCells(self, n: int) -> int:\n",
    "        return (n-1)**2+n**2"
   ]
  },
  {
   "cell_type": "markdown",
   "metadata": {},
   "source": [
    "Run the code cell below to test the function."
   ]
  },
  {
   "cell_type": "code",
   "execution_count": 3,
   "metadata": {},
   "outputs": [
    {
     "name": "stdout",
     "output_type": "stream",
     "text": [
      "13\n"
     ]
    }
   ],
   "source": [
    "sol = Solution()\n",
    "\n",
    "print(sol.coloredCells(3))"
   ]
  },
  {
   "cell_type": "code",
   "execution_count": null,
   "metadata": {},
   "outputs": [],
   "source": []
  }
 ],
 "metadata": {
  "kernelspec": {
   "display_name": "kaggle",
   "language": "python",
   "name": "python3"
  },
  "language_info": {
   "codemirror_mode": {
    "name": "ipython",
    "version": 3
   },
   "file_extension": ".py",
   "mimetype": "text/x-python",
   "name": "python",
   "nbconvert_exporter": "python",
   "pygments_lexer": "ipython3",
   "version": "3.13.0"
  }
 },
 "nbformat": 4,
 "nbformat_minor": 2
}
