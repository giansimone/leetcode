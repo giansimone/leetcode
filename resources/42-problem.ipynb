{
 "cells": [
  {
   "cell_type": "markdown",
   "metadata": {},
   "source": [
    "# [42. Trapping Rain Water](https://leetcode.com/problems/trapping-rain-water/)\n",
    "\n",
    "Given ```n``` non-negative integers representing an elevation map where the width of each bar is ```1```, compute how much water it can trap after raining.\n",
    "\n",
    "\n",
    "Example 1:\n",
    "```python\n",
    "Input: height = [0,1,0,2,1,0,1,3,2,1,2,1]\n",
    "Output: 6\n",
    "Explanation: The above elevation map (black section) is represented by array [0,1,0,2,1,0,1,3,2,1,2,1]. In this case, 6 units of rain water (blue section) are being trapped.\n",
    "```\n",
    "\n",
    "Example 2:\n",
    "```python\n",
    "Input: height = [4,2,0,3,2,5]\n",
    "Output: 9\n",
    "```\n",
    "\n",
    "Constraints:\n",
    "\n",
    "+ ```n == height.length```\n",
    "+ ```1 <= n <= 2 * 10^4```\n",
    "+ ```0 <= height[i] <= 10^5```"
   ]
  },
  {
   "cell_type": "code",
   "execution_count": 1,
   "metadata": {},
   "outputs": [],
   "source": [
    "from typing import List\n",
    "\n",
    "class Solution:\n",
    "    def trap(self, height: List[int]) -> int:\n",
    "        n = len(height)\n",
    "\n",
    "        trapped_water = 0\n",
    "\n",
    "        left, right = 0, n - 1\n",
    "\n",
    "        max_left = max_right = 0\n",
    "        \n",
    "        while left < right:\n",
    "            if height[left] < height[right]:\n",
    "                if height[left] >= max_left:\n",
    "                    max_left = height[left]\n",
    "                else:\n",
    "                    trapped_water += max_left - height[left]\n",
    "                left += 1\n",
    "            else:\n",
    "                if height[right] >= max_right:\n",
    "                    max_right = height[right]\n",
    "                else:\n",
    "                    trapped_water += max_right - height[right]\n",
    "                right -= 1\n",
    "        \n",
    "        return trapped_water"
   ]
  },
  {
   "cell_type": "markdown",
   "metadata": {},
   "source": [
    "Run the code cell below to test the function."
   ]
  },
  {
   "cell_type": "code",
   "execution_count": 2,
   "metadata": {},
   "outputs": [
    {
     "name": "stdout",
     "output_type": "stream",
     "text": [
      "6\n",
      "9\n"
     ]
    }
   ],
   "source": [
    "sol = Solution()\n",
    "\n",
    "print(sol.trap([0,1,0,2,1,0,1,3,2,1,2,1]))\n",
    "print(sol.trap([4,2,0,3,2,5]))"
   ]
  },
  {
   "cell_type": "code",
   "execution_count": null,
   "metadata": {},
   "outputs": [],
   "source": []
  }
 ],
 "metadata": {
  "kernelspec": {
   "display_name": "kaggle",
   "language": "python",
   "name": "python3"
  },
  "language_info": {
   "codemirror_mode": {
    "name": "ipython",
    "version": 3
   },
   "file_extension": ".py",
   "mimetype": "text/x-python",
   "name": "python",
   "nbconvert_exporter": "python",
   "pygments_lexer": "ipython3",
   "version": "3.13.0"
  }
 },
 "nbformat": 4,
 "nbformat_minor": 2
}
