{
 "cells": [
  {
   "cell_type": "markdown",
   "metadata": {},
   "source": [
    "# [3169. Count Days Without Meetings](https://leetcode.com/problems/count-days-without-meetings/)\n",
    "\n"
   ]
  },
  {
   "cell_type": "markdown",
   "metadata": {},
   "source": [
    "### Brute Force Solution\n",
    "\n",
    "Please note this solution is not efficient and will not work for large inputs."
   ]
  },
  {
   "cell_type": "code",
   "execution_count": 1,
   "metadata": {},
   "outputs": [],
   "source": [
    "from typing import List\n",
    "\n",
    "class Solution:\n",
    "    def countDays(self, days: int, meetings: List[List[int]]) -> int:\n",
    "        diff = [0] * days\n",
    "\n",
    "        for meeting in meetings:\n",
    "            for i in range(meeting[0] - 1, meeting[1]):\n",
    "                diff[i] = 1\n",
    "\n",
    "        return diff.count(0)"
   ]
  },
  {
   "cell_type": "markdown",
   "metadata": {},
   "source": [
    "Run the code cell below to test the function."
   ]
  },
  {
   "cell_type": "code",
   "execution_count": 2,
   "metadata": {},
   "outputs": [
    {
     "name": "stdout",
     "output_type": "stream",
     "text": [
      "2\n",
      "1\n",
      "0\n"
     ]
    }
   ],
   "source": [
    "sol = Solution()\n",
    "\n",
    "print(sol.countDays(10, [[5,7],[1,3],[9,10]]))\n",
    "print(sol.countDays(5, [[2,4],[1,3]]))\n",
    "print(sol.countDays(6, [[1,6]]))"
   ]
  },
  {
   "cell_type": "markdown",
   "metadata": {},
   "source": [
    "### Difference Map Solution"
   ]
  },
  {
   "cell_type": "code",
   "execution_count": 3,
   "metadata": {},
   "outputs": [],
   "source": [
    "from typing import List\n",
    "from collections import defaultdict\n",
    "\n",
    "class Solution:\n",
    "    def countDays(self, days: int, meetings: List[List[int]]) -> int:\n",
    "        diff_map = defaultdict(int)\n",
    "\n",
    "        previous_day = days\n",
    "\n",
    "        for meeting in meetings:\n",
    "            start, end = meeting\n",
    "\n",
    "            diff_map[start] += 1\n",
    "            diff_map[end + 1] -= 1\n",
    "\n",
    "            previous_day = min(previous_day, start)\n",
    "        \n",
    "        prefix_sum = 0\n",
    "        free_days = previous_day - 1\n",
    "\n",
    "        for day in sorted(diff_map.keys()):\n",
    "            if prefix_sum == 0:\n",
    "                free_days += day - previous_day \n",
    "            prefix_sum += diff_map[day]\n",
    "            previous_day = day\n",
    "        \n",
    "        free_days += days - previous_day + 1\n",
    "\n",
    "        return free_days"
   ]
  },
  {
   "cell_type": "markdown",
   "metadata": {},
   "source": [
    "Run the code cell below to test the function."
   ]
  },
  {
   "cell_type": "code",
   "execution_count": 4,
   "metadata": {},
   "outputs": [
    {
     "name": "stdout",
     "output_type": "stream",
     "text": [
      "2\n",
      "1\n",
      "0\n"
     ]
    }
   ],
   "source": [
    "sol = Solution()\n",
    "\n",
    "print(sol.countDays(10, [[5,7],[1,3],[9,10]]))\n",
    "print(sol.countDays(5, [[2,4],[1,3]]))\n",
    "print(sol.countDays(6, [[1,6]]))"
   ]
  },
  {
   "cell_type": "markdown",
   "metadata": {},
   "source": [
    "### Sorting Solution"
   ]
  },
  {
   "cell_type": "code",
   "execution_count": 5,
   "metadata": {},
   "outputs": [],
   "source": [
    "from typing import List\n",
    "\n",
    "class Solution:\n",
    "    def countDays(self, days: int, meetings: List[List[int]]) -> int:\n",
    "        answer = 0\n",
    "        last_day = 0\n",
    "\n",
    "        meetings.sort()\n",
    "\n",
    "        for meeting in meetings:\n",
    "            start, end = meeting\n",
    "\n",
    "            if start > last_day + 1:\n",
    "                answer += start - last_day - 1\n",
    "            \n",
    "            last_day = max(last_day, end)\n",
    "        \n",
    "        answer += days - last_day\n",
    "\n",
    "        return answer"
   ]
  },
  {
   "cell_type": "markdown",
   "metadata": {},
   "source": [
    "Run the code cell below to test the function."
   ]
  },
  {
   "cell_type": "code",
   "execution_count": 6,
   "metadata": {},
   "outputs": [
    {
     "name": "stdout",
     "output_type": "stream",
     "text": [
      "2\n",
      "1\n",
      "0\n"
     ]
    }
   ],
   "source": [
    "sol = Solution()\n",
    "\n",
    "print(sol.countDays(10, [[5,7],[1,3],[9,10]]))\n",
    "print(sol.countDays(5, [[2,4],[1,3]]))\n",
    "print(sol.countDays(6, [[1,6]]))"
   ]
  },
  {
   "cell_type": "code",
   "execution_count": null,
   "metadata": {},
   "outputs": [],
   "source": []
  }
 ],
 "metadata": {
  "kernelspec": {
   "display_name": "kaggle",
   "language": "python",
   "name": "python3"
  },
  "language_info": {
   "codemirror_mode": {
    "name": "ipython",
    "version": 3
   },
   "file_extension": ".py",
   "mimetype": "text/x-python",
   "name": "python",
   "nbconvert_exporter": "python",
   "pygments_lexer": "ipython3",
   "version": "3.13.0"
  }
 },
 "nbformat": 4,
 "nbformat_minor": 2
}
