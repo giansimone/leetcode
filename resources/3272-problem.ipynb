{
 "cells": [
  {
   "cell_type": "markdown",
   "metadata": {},
   "source": [
    "# [3272. Find the Count of Good Integers](https://leetcode.com/problems/find-the-count-of-good-integers/)\n",
    "\n",
    "You are given two positive integers ```n``` and ```k```.\n",
    "\n",
    "An integer ```x``` is called k-palindromic if:\n",
    "\n",
    "+ ```x``` is a palindrome.\n",
    "+ ```x``` is divisible by ```k```.\n",
    "\n",
    "An integer is called good if its digits can be rearranged to form a k-palindromic integer. For example, for ```k = 2```, 2020 can be rearranged to form the k-palindromic integer 2002, whereas 1010 cannot be rearranged to form a k-palindromic integer.\n",
    "\n",
    "Return the count of good integers containing ```n``` digits.\n",
    "\n",
    "Note that any integer must not have leading zeros, neither before nor after rearrangement. For example, 1010 cannot be rearranged to form 101.\n",
    "\n",
    "\n",
    "Example 1:\n",
    "```pyrhon\n",
    "Input: n = 3, k = 5\n",
    "\n",
    "Output: 27\n",
    "\n",
    "Explanation:\n",
    "\n",
    "Some of the good integers are:\n",
    "\n",
    "551 because it can be rearranged to form 515.\n",
    "525 because it is already k-palindromic.\n",
    "```\n",
    "\n",
    "Example 2:\n",
    "```python\n",
    "Input: n = 1, k = 4\n",
    "\n",
    "Output: 2\n",
    "\n",
    "Explanation:\n",
    "\n",
    "The two good integers are 4 and 8.\n",
    "```\n",
    "\n",
    "Example 3:\n",
    "```python\n",
    "Input: n = 5, k = 6\n",
    "\n",
    "Output: 2468\n",
    "```\n",
    "\n",
    "Constraints:\n",
    "\n",
    "+ ```1 <= n <= 10```\n",
    "+ ```1 <= k <= 9```"
   ]
  },
  {
   "cell_type": "code",
   "execution_count": 1,
   "metadata": {},
   "outputs": [],
   "source": [
    "from math import factorial\n",
    "\n",
    "class Solution:\n",
    "    def countGoodIntegers(self, n: int, k: int) -> int:\n",
    "        dictionary = set()\n",
    "        base = 10 ** ((n - 1) // 2)\n",
    "        skip = n & 1\n",
    "        \n",
    "        for i in range(base, base * 10):\n",
    "            s = str(i)\n",
    "            s += s[::-1][skip:]\n",
    "            \n",
    "            palindromicInt = int(s)\n",
    "            if palindromicInt % k == 0:\n",
    "                sorted_s = \"\".join(sorted(s))\n",
    "                dictionary.add(sorted_s)\n",
    "\n",
    "        fac = [factorial(i) for i in range(n + 1)]\n",
    "        ans = 0\n",
    "\n",
    "        for s in dictionary:\n",
    "            cnt = [0] * 10\n",
    "            for c in s:\n",
    "                cnt[int(c)] += 1\n",
    "            \n",
    "            tot = (n - cnt[0]) * fac[n - 1]\n",
    "            for x in cnt:\n",
    "                tot //= fac[x]\n",
    "            \n",
    "            ans += tot\n",
    "\n",
    "        return ans"
   ]
  },
  {
   "cell_type": "markdown",
   "metadata": {},
   "source": [
    "Run the code cell below to test the function."
   ]
  },
  {
   "cell_type": "code",
   "execution_count": 2,
   "metadata": {},
   "outputs": [],
   "source": [
    "sol = Solution()\n",
    "\n",
    "assert sol.countGoodIntegers(3, 5) == 27\n",
    "assert sol.countGoodIntegers(1, 4) == 2\n",
    "assert sol.countGoodIntegers(5, 6) == 2468"
   ]
  },
  {
   "cell_type": "code",
   "execution_count": null,
   "metadata": {},
   "outputs": [],
   "source": []
  }
 ],
 "metadata": {
  "kernelspec": {
   "display_name": "leetcode-fniKCUVX-py3.13",
   "language": "python",
   "name": "python3"
  },
  "language_info": {
   "codemirror_mode": {
    "name": "ipython",
    "version": 3
   },
   "file_extension": ".py",
   "mimetype": "text/x-python",
   "name": "python",
   "nbconvert_exporter": "python",
   "pygments_lexer": "ipython3",
   "version": "3.13.2"
  }
 },
 "nbformat": 4,
 "nbformat_minor": 2
}
