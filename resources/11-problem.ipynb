{
 "cells": [
  {
   "cell_type": "markdown",
   "metadata": {},
   "source": [
    "# [11. Container With Most Water](https://leetcode.com/problems/container-with-most-water/)\n",
    "\n",
    "You are given an integer array height of length ```n```. There are ```n``` vertical lines drawn such that the two endpoints of the ```ith``` line are ```(i, 0)``` and ```(i, height[i])```.\n",
    "\n",
    "Find two lines that together with the x-axis form a container, such that the container contains the most water.\n",
    "\n",
    "Return the maximum amount of water a container can store.\n",
    "\n",
    "Notice that you may not slant the container.\n",
    "\n",
    "\n",
    "\n",
    "Example 1:\n",
    "```python\n",
    "Input: height = [1,8,6,2,5,4,8,3,7]\n",
    "Output: 49\n",
    "Explanation: The above vertical lines are represented by array [1,8,6,2,5,4,8,3,7]. In this case, the max area of water (blue section) the container can contain is 49.\n",
    "```\n",
    "\n",
    "Example 2:\n",
    "```python\n",
    "Input: height = [1,1]\n",
    "Output: 1\n",
    "```\n",
    "\n",
    "Constraints:\n",
    "\n",
    "+ ```n == height.length```\n",
    "+ ```2 <= n <= 10^5```\n",
    "+ ```0 <= height[i] <= 10^4```"
   ]
  },
  {
   "cell_type": "code",
   "execution_count": 2,
   "metadata": {},
   "outputs": [],
   "source": [
    "from typing import List\n",
    "\n",
    "class Solution:\n",
    "    def maxArea(self, height: List[int]) -> int:\n",
    "        left = 0\n",
    "        right = len(height) - 1\n",
    "\n",
    "        max_area = 0\n",
    "\n",
    "        while left < right:\n",
    "            area = (right - left) * min(height[left], height[right])\n",
    "\n",
    "            if area > max_area:\n",
    "                max_area = area\n",
    "\n",
    "            if height[left] > height[right]:\n",
    "                right -= 1\n",
    "            elif height[left] < height[right]:\n",
    "                left += 1\n",
    "            else:\n",
    "                left += 1\n",
    "                right -= 1\n",
    "        \n",
    "        return max_area"
   ]
  },
  {
   "cell_type": "markdown",
   "metadata": {},
   "source": [
    "Run the code cell below to test the function."
   ]
  },
  {
   "cell_type": "code",
   "execution_count": 3,
   "metadata": {},
   "outputs": [
    {
     "name": "stdout",
     "output_type": "stream",
     "text": [
      "49\n",
      "1\n"
     ]
    }
   ],
   "source": [
    "sol = Solution()\n",
    "\n",
    "print(sol.maxArea([1,8,6,2,5,4,8,3,7])) # 49\n",
    "print(sol.maxArea([1,1])) # 1"
   ]
  },
  {
   "cell_type": "code",
   "execution_count": null,
   "metadata": {},
   "outputs": [],
   "source": []
  }
 ],
 "metadata": {
  "kernelspec": {
   "display_name": "kaggle",
   "language": "python",
   "name": "python3"
  },
  "language_info": {
   "codemirror_mode": {
    "name": "ipython",
    "version": 3
   },
   "file_extension": ".py",
   "mimetype": "text/x-python",
   "name": "python",
   "nbconvert_exporter": "python",
   "pygments_lexer": "ipython3",
   "version": "3.13.0"
  }
 },
 "nbformat": 4,
 "nbformat_minor": 2
}
