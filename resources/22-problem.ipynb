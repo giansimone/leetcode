{
 "cells": [
  {
   "cell_type": "markdown",
   "metadata": {},
   "source": [
    "# [22. Generate Parentheses](https://leetcode.com/problems/generate-parentheses/)\n",
    "\n",
    "Given ```n``` pairs of parentheses, write a function to generate all combinations of well-formed parentheses.\n",
    "\n",
    "\n",
    "Example 1:\n",
    "```python\n",
    "Input: n = 3\n",
    "Output: [\"((()))\",\"(()())\",\"(())()\",\"()(())\",\"()()()\"]\n",
    "```\n",
    "\n",
    "Example 2:\n",
    "```python\n",
    "Input: n = 1\n",
    "Output: [\"()\"]\n",
    "```\n",
    "\n",
    "Constraints:\n",
    "\n",
    "+ ```1 <= n <= 8```"
   ]
  },
  {
   "cell_type": "code",
   "execution_count": 1,
   "metadata": {},
   "outputs": [],
   "source": [
    "from typing import List\n",
    "\n",
    "class Solution:\n",
    "    def generateParenthesis(self, n: int) -> List[str]:\n",
    "        def dfs(left: int, right: int, s: str) -> None:\n",
    "            if len(s) == m:\n",
    "                result.append(s)\n",
    "                return\n",
    "            \n",
    "            if left < n:\n",
    "                dfs(left + 1, right, s + \"(\")\n",
    "            \n",
    "            if right < left:\n",
    "                dfs(left, right + 1, s + \")\")\n",
    "\n",
    "        m = n * 2\n",
    "\n",
    "        result = []\n",
    "\n",
    "        dfs(0, 0, \"\")\n",
    "\n",
    "        return result"
   ]
  },
  {
   "cell_type": "markdown",
   "metadata": {},
   "source": [
    "Run the code cell below to test the function."
   ]
  },
  {
   "cell_type": "code",
   "execution_count": 2,
   "metadata": {},
   "outputs": [
    {
     "name": "stdout",
     "output_type": "stream",
     "text": [
      "['((()))', '(()())', '(())()', '()(())', '()()()']\n",
      "['()']\n"
     ]
    }
   ],
   "source": [
    "sol = Solution()\n",
    "\n",
    "print(sol.generateParenthesis(3))\n",
    "print(sol.generateParenthesis(1))"
   ]
  },
  {
   "cell_type": "code",
   "execution_count": null,
   "metadata": {},
   "outputs": [],
   "source": []
  }
 ],
 "metadata": {
  "kernelspec": {
   "display_name": "kaggle",
   "language": "python",
   "name": "python3"
  },
  "language_info": {
   "codemirror_mode": {
    "name": "ipython",
    "version": 3
   },
   "file_extension": ".py",
   "mimetype": "text/x-python",
   "name": "python",
   "nbconvert_exporter": "python",
   "pygments_lexer": "ipython3",
   "version": "3.13.0"
  }
 },
 "nbformat": 4,
 "nbformat_minor": 2
}
