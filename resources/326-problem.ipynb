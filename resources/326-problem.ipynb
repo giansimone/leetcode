{
 "cells": [
  {
   "cell_type": "markdown",
   "metadata": {},
   "source": [
    "# [326. Power of Three](https://leetcode.com/problems/power-of-three/)\n",
    "\n",
    "Given an integer ```n```, return ```true``` if it is a power of three. Otherwise, return ```false```.\n",
    "\n",
    "An integer ```n``` is a power of three, if there exists an integer ```x``` such that ```n == 3^x```.\n",
    "\n",
    " \n",
    "\n",
    "Example 1:\n",
    "```python\n",
    "Input: n = 27\n",
    "Output: true\n",
    "Explanation: 27 = 33\n",
    "```\n",
    "\n",
    "Example 2:\n",
    "```python\n",
    "Input: n = 0\n",
    "Output: false\n",
    "Explanation: There is no x where 3x = 0.\n",
    "```\n",
    "\n",
    "Example 3:\n",
    "```python\n",
    "Input: n = -1\n",
    "Output: false\n",
    "Explanation: There is no x where 3x = (-1).\n",
    "```\n",
    "\n",
    "Constraints:\n",
    "\n",
    "+ ```-2^31 <= n <= 2^31 - 1```"
   ]
  },
  {
   "cell_type": "code",
   "execution_count": 2,
   "metadata": {},
   "outputs": [],
   "source": [
    "class Solution:\n",
    "    def isPowerOfThree(self, n: int) -> bool:\n",
    "        if n <= 0 or n==2:\n",
    "            return False\n",
    "        elif n==1 or n==3:\n",
    "            return True\n",
    "\n",
    "        currentPower = 3\n",
    "\n",
    "        while currentPower < n:\n",
    "            currentPower *= 3\n",
    "        \n",
    "        if currentPower == n:\n",
    "            return True\n",
    "        return False\n",
    "        "
   ]
  },
  {
   "cell_type": "code",
   "execution_count": 3,
   "metadata": {},
   "outputs": [
    {
     "name": "stdout",
     "output_type": "stream",
     "text": [
      "True\n",
      "False\n",
      "True\n",
      "False\n",
      "True\n",
      "False\n",
      "True\n"
     ]
    }
   ],
   "source": [
    "sol = Solution()\n",
    "\n",
    "print(sol.isPowerOfThree(27))\n",
    "print(sol.isPowerOfThree(0))\n",
    "print(sol.isPowerOfThree(9))\n",
    "print(sol.isPowerOfThree(45))\n",
    "print(sol.isPowerOfThree(1))\n",
    "print(sol.isPowerOfThree(2))\n",
    "print(sol.isPowerOfThree(3))"
   ]
  },
  {
   "cell_type": "code",
   "execution_count": null,
   "metadata": {},
   "outputs": [],
   "source": []
  }
 ],
 "metadata": {
  "kernelspec": {
   "display_name": "kaggle",
   "language": "python",
   "name": "python3"
  },
  "language_info": {
   "codemirror_mode": {
    "name": "ipython",
    "version": 3
   },
   "file_extension": ".py",
   "mimetype": "text/x-python",
   "name": "python",
   "nbconvert_exporter": "python",
   "pygments_lexer": "ipython3",
   "version": "3.13.0"
  }
 },
 "nbformat": 4,
 "nbformat_minor": 2
}
