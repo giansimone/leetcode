{
 "cells": [
  {
   "cell_type": "markdown",
   "metadata": {},
   "source": [
    "# [2873. Maximum Value of an Ordered Triplet I](https://leetcode.com/problems/maximum-value-of-an-ordered-triplet-i/)\n",
    "\n",
    "You are given a 0-indexed integer array ```nums```.\n",
    "\n",
    "Return the maximum value over all triplets of indices ```(i, j, k)``` such that ```i < j < k```. If all such triplets have a negative value, return ```0```.\n",
    "\n",
    "The value of a triplet of indices ```(i, j, k)``` is equal to ```(nums[i] - nums[j]) * nums[k]```.\n",
    "\n",
    "\n",
    "Example 1:\n",
    "```python\n",
    "Input: nums = [12,6,1,2,7]\n",
    "Output: 77\n",
    "Explanation: The value of the triplet (0, 2, 4) is (nums[0] - nums[2]) * nums[4] = 77.\n",
    "It can be shown that there are no ordered triplets of indices with a value greater than 77. \n",
    "```\n",
    "\n",
    "Example 2:\n",
    "```python\n",
    "Input: nums = [1,10,3,4,19]\n",
    "Output: 133\n",
    "Explanation: The value of the triplet (1, 2, 4) is (nums[1] - nums[2]) * nums[4] = 133.\n",
    "It can be shown that there are no ordered triplets of indices with a value greater than 133.\n",
    "```\n",
    "\n",
    "Example 3:\n",
    "```python\n",
    "Input: nums = [1,2,3]\n",
    "Output: 0\n",
    "Explanation: The only ordered triplet of indices (0, 1, 2) has a negative value of (nums[0] - nums[1]) * nums[2] = -3. Hence, the answer would be 0.\n",
    "```\n",
    "\n",
    "Constraints:\n",
    "\n",
    "+ ```3 <= nums.length <= 100```\n",
    "+ ```1 <= nums[i] <= 10^6```"
   ]
  },
  {
   "cell_type": "markdown",
   "metadata": {},
   "source": [
    "### Brute Force Solution"
   ]
  },
  {
   "cell_type": "code",
   "execution_count": 1,
   "metadata": {},
   "outputs": [],
   "source": [
    "from typing import List\n",
    "\n",
    "class Solution:\n",
    "    def maximumTripletValue(self, nums: List[int]) -> int:\n",
    "        max_value = 0\n",
    "\n",
    "        for i in range(len(nums) - 2):\n",
    "            for j in range(i + 1, len(nums) - 1):\n",
    "                tmp_value = nums[i] - nums[j]\n",
    "                if tmp_value < 0:\n",
    "                    continue\n",
    "                max_value = max(max_value, tmp_value * max(nums[j + 1:]))\n",
    "\n",
    "        return max_value"
   ]
  },
  {
   "cell_type": "markdown",
   "metadata": {},
   "source": [
    "Run the code cell below to test the function."
   ]
  },
  {
   "cell_type": "code",
   "execution_count": 2,
   "metadata": {},
   "outputs": [],
   "source": [
    "sol = Solution()\n",
    "\n",
    "assert sol.maximumTripletValue([12, 6, 1, 2, 7]) == 77\n",
    "assert sol.maximumTripletValue([1, 10, 3, 4, 19]) == 133\n",
    "assert sol.maximumTripletValue([1, 2, 3]) == 0"
   ]
  },
  {
   "cell_type": "markdown",
   "metadata": {},
   "source": [
    "### Greedy Solution"
   ]
  },
  {
   "cell_type": "code",
   "execution_count": 3,
   "metadata": {},
   "outputs": [],
   "source": [
    "from typing import List\n",
    "\n",
    "class Solution:\n",
    "    def maximumTripletValue(self, nums: List[int]) -> int:\n",
    "        answer, i_max, diff = 0, 0, 0\n",
    "\n",
    "        for num in nums:\n",
    "            answer = max(answer, diff * num)\n",
    "            diff = max(diff, i_max - num)\n",
    "            i_max = max(i_max, num)\n",
    "        \n",
    "        return answer"
   ]
  },
  {
   "cell_type": "markdown",
   "metadata": {},
   "source": [
    "Run the code cell below to test the function."
   ]
  },
  {
   "cell_type": "code",
   "execution_count": 4,
   "metadata": {},
   "outputs": [],
   "source": [
    "sol = Solution()\n",
    "\n",
    "assert sol.maximumTripletValue([12, 6, 1, 2, 7]) == 77\n",
    "assert sol.maximumTripletValue([1, 10, 3, 4, 19]) == 133\n",
    "assert sol.maximumTripletValue([1, 2, 3]) == 0"
   ]
  },
  {
   "cell_type": "code",
   "execution_count": null,
   "metadata": {},
   "outputs": [],
   "source": []
  }
 ],
 "metadata": {
  "kernelspec": {
   "display_name": "leetcode-fniKCUVX-py3.13",
   "language": "python",
   "name": "python3"
  },
  "language_info": {
   "codemirror_mode": {
    "name": "ipython",
    "version": 3
   },
   "file_extension": ".py",
   "mimetype": "text/x-python",
   "name": "python",
   "nbconvert_exporter": "python",
   "pygments_lexer": "ipython3",
   "version": "3.13.0"
  }
 },
 "nbformat": 4,
 "nbformat_minor": 2
}
