{
 "cells": [
  {
   "cell_type": "markdown",
   "metadata": {},
   "source": [
    "# [2685. Count the Number of Complete Components](https://leetcode.com/problems/count-the-number-of-complete-components/)\n",
    "\n",
    "You are given an integer ```n```. There is an undirected graph with ```n``` vertices, numbered from ```0``` to ```n - 1```. You are given a 2D integer array ```edges``` where ```edges[i] = [ai, bi]``` denotes that there exists an undirected edge connecting vertices ```ai``` and ```bi```.\n",
    "\n",
    "Return the number of complete connected components of the graph.\n",
    "\n",
    "A connected component is a subgraph of a graph in which there exists a path between any two vertices, and no vertex of the subgraph shares an edge with a vertex outside of the subgraph.\n",
    "\n",
    "A connected component is said to be complete if there exists an edge between every pair of its vertices.\n",
    "\n",
    "\n",
    "\n",
    "Example 1:\n",
    "```python\n",
    "Input: n = 6, edges = [[0,1],[0,2],[1,2],[3,4]]\n",
    "Output: 3\n",
    "Explanation: From the picture above, one can see that all of the components of this graph are complete.\n",
    "```\n",
    "\n",
    "Example 2:\n",
    "```python\n",
    "Input: n = 6, edges = [[0,1],[0,2],[1,2],[3,4],[3,5]]\n",
    "Output: 1\n",
    "Explanation: The component containing vertices 0, 1, and 2 is complete since there is an edge between every pair of two vertices. On the other hand, the component containing vertices 3, 4, and 5 is not complete since there is no edge between vertices 4 and 5. Thus, the number of complete components in this graph is 1.\n",
    "```\n",
    "\n",
    "Constraints:\n",
    "\n",
    "+ ```1 <= n <= 50```\n",
    "+ ```0 <= edges.length <= n * (n - 1) / 2```\n",
    "+ ```edges[i].length == 2```\n",
    "+ ```0 <= ai, bi <= n - 1```\n",
    "+ ```ai != bi```\n",
    "+ There are no repeated edges."
   ]
  },
  {
   "cell_type": "markdown",
   "metadata": {},
   "source": [
    "### Breadth-First Search Solution"
   ]
  },
  {
   "cell_type": "code",
   "execution_count": 1,
   "metadata": {},
   "outputs": [],
   "source": [
    "from collections import deque\n",
    "from typing import List\n",
    "\n",
    "class Solution:\n",
    "    def countCompleteComponents(self, n: int, edges: List[List[int]]) -> int:\n",
    "        adj_list = [[] for _ in range(n)]\n",
    "        for edge in edges:\n",
    "            va, vb = edge\n",
    "            adj_list[va].append(vb)\n",
    "            adj_list[vb].append(va)\n",
    "        \n",
    "        visited = [False] * n\n",
    "\n",
    "        ans = 0\n",
    "\n",
    "        for vertex in range(n):\n",
    "            if not visited[vertex]:\n",
    "                visited[vertex] = True\n",
    "                queue = deque()\n",
    "                queue.append(vertex)\n",
    "                component_info = [0, 0]\n",
    "                component_info[0] += 1\n",
    "\n",
    "                while queue:\n",
    "                    current = queue.popleft()\n",
    "                    for neighbour in adj_list[current]:\n",
    "                        component_info[1] += 1\n",
    "                        if not visited[neighbour]:\n",
    "                            visited[neighbour] = True\n",
    "                            component_info[0] += 1\n",
    "                            queue.append(neighbour)\n",
    "                \n",
    "                if component_info[0] * (component_info[0] - 1) == component_info[1]:\n",
    "                    ans += 1\n",
    "        \n",
    "        return ans"
   ]
  },
  {
   "cell_type": "markdown",
   "metadata": {},
   "source": [
    "Run the code cell below to test the function."
   ]
  },
  {
   "cell_type": "code",
   "execution_count": 2,
   "metadata": {},
   "outputs": [
    {
     "name": "stdout",
     "output_type": "stream",
     "text": [
      "3\n",
      "1\n"
     ]
    }
   ],
   "source": [
    "sol = Solution()\n",
    "\n",
    "print(sol.countCompleteComponents(6, [[0,1],[0,2],[1,2],[3,4]]))\n",
    "print(sol.countCompleteComponents(6, [[0,1],[0,2],[1,2],[3,4],[3,5]]))"
   ]
  },
  {
   "cell_type": "code",
   "execution_count": null,
   "metadata": {},
   "outputs": [],
   "source": []
  }
 ],
 "metadata": {
  "kernelspec": {
   "display_name": "kaggle",
   "language": "python",
   "name": "python3"
  },
  "language_info": {
   "codemirror_mode": {
    "name": "ipython",
    "version": 3
   },
   "file_extension": ".py",
   "mimetype": "text/x-python",
   "name": "python",
   "nbconvert_exporter": "python",
   "pygments_lexer": "ipython3",
   "version": "3.13.0"
  }
 },
 "nbformat": 4,
 "nbformat_minor": 2
}
