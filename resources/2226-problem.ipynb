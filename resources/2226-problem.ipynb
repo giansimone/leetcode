{
 "cells": [
  {
   "cell_type": "markdown",
   "metadata": {},
   "source": [
    "# [2226. Maximum Candies Allocated to K Children](https://leetcode.com/problems/maximum-candies-allocated-to-k-children/)\n",
    "\n",
    "You are given a 0-indexed integer array ```candies```. Each element in the array denotes a pile of candies of size ```candies[i]```. You can divide each pile into any number of sub piles, but you cannot merge two piles together.\n",
    "\n",
    "You are also given an integer ```k```. You should allocate piles of candies to ```k``` children such that each child gets the same number of candies. Each child can be allocated candies from only one pile of candies and some piles of candies may go unused.\n",
    "\n",
    "Return the maximum number of candies each child can get.\n",
    "\n",
    "\n",
    "\n",
    "Example 1:\n",
    "```python\n",
    "Input: candies = [5,8,6], k = 3\n",
    "Output: 5\n",
    "Explanation: We can divide candies[1] into 2 piles of size 5 and 3, and candies[2] into 2 piles of size 5 and 1. We now have five piles of candies of sizes 5, 5, 3, 5, and 1. We can allocate the 3 piles of size 5 to 3 children. It can be proven that each child cannot receive more than 5 candies.\n",
    "```\n",
    "\n",
    "Example 2:\n",
    "```python\n",
    "Input: candies = [2,5], k = 11\n",
    "Output: 0\n",
    "Explanation: There are 11 children but only 7 candies in total, so it is impossible to ensure each child receives at least one candy. Thus, each child gets no candy and the answer is 0.\n",
    "```\n",
    "\n",
    "Constraints:\n",
    "\n",
    "+ ```1 <= candies.length <= 10^5```\n",
    "+ ```1 <= candies[i] <= 10^7```\n",
    "+ ```1 <= k <= 10^12```\n",
    "\n"
   ]
  },
  {
   "cell_type": "code",
   "execution_count": 1,
   "metadata": {},
   "outputs": [],
   "source": [
    "from typing import List\n",
    "\n",
    "class Solution:\n",
    "    def maximumCandies(self, candies: List[int], k: int) -> int:\n",
    "        if sum(candies) < k:\n",
    "            return 0\n",
    "\n",
    "        left, right = 1, sum(candies) // k\n",
    "\n",
    "        while left < right:\n",
    "            mid = (left + right) // 2 + 1\n",
    "\n",
    "            if self.can_children_get_c_candies(candies, k, mid):\n",
    "                left = mid\n",
    "            else:\n",
    "                right = mid - 1\n",
    "\n",
    "        return left\n",
    "\n",
    "    \n",
    "    def can_children_get_c_candies(\n",
    "        self, candies: List[int], k: int, c: int\n",
    "        ) -> bool:\n",
    "        count = 0\n",
    "\n",
    "        for i in candies:\n",
    "            count += i // c\n",
    "        \n",
    "        return count >= k"
   ]
  },
  {
   "cell_type": "markdown",
   "metadata": {},
   "source": [
    "Run the code cell below to test the function."
   ]
  },
  {
   "cell_type": "code",
   "execution_count": 2,
   "metadata": {},
   "outputs": [
    {
     "name": "stdout",
     "output_type": "stream",
     "text": [
      "5\n",
      "0\n"
     ]
    }
   ],
   "source": [
    "sol = Solution()\n",
    "\n",
    "print(sol.maximumCandies([5,8,6], 3))\n",
    "print(sol.maximumCandies([2,5], 11))"
   ]
  },
  {
   "cell_type": "code",
   "execution_count": null,
   "metadata": {},
   "outputs": [],
   "source": []
  }
 ],
 "metadata": {
  "kernelspec": {
   "display_name": "kaggle",
   "language": "python",
   "name": "python3"
  },
  "language_info": {
   "codemirror_mode": {
    "name": "ipython",
    "version": 3
   },
   "file_extension": ".py",
   "mimetype": "text/x-python",
   "name": "python",
   "nbconvert_exporter": "python",
   "pygments_lexer": "ipython3",
   "version": "3.13.0"
  }
 },
 "nbformat": 4,
 "nbformat_minor": 2
}
