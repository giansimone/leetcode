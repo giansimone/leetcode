{
 "cells": [
  {
   "cell_type": "markdown",
   "metadata": {},
   "source": [
    "# [3403. Find the Lexicographically Largest String From the Box I](https://leetcode.com/problems/find-the-lexicographically-largest-string-from-the-box-i/)\n",
    "\n",
    "You are given a string ```word```, and an integer ```numFriends```.\n",
    "\n",
    "Alice is organizing a game for her ```numFriends``` friends. There are multiple rounds in the game, where in each round:\n",
    "\n",
    "+ ```word``` is split into ```numFriends``` non-empty strings, such that no previous round has had the exact same split.\n",
    "+ All the split words are put into a box.\n",
    "\n",
    "Find the lexicographically largest string from the box after all the rounds are finished.\n",
    "\n",
    "\n",
    "Example 1:\n",
    "```python\n",
    "Input: word = \"dbca\", numFriends = 2\n",
    "\n",
    "Output: \"dbc\"\n",
    "\n",
    "Explanation: \n",
    "\n",
    "All possible splits are:\n",
    "\n",
    "\"d\" and \"bca\".\n",
    "\"db\" and \"ca\".\n",
    "\"dbc\" and \"a\".\n",
    "```\n",
    "\n",
    "Example 2:\n",
    "```python\n",
    "Input: word = \"gggg\", numFriends = 4\n",
    "\n",
    "Output: \"g\"\n",
    "\n",
    "Explanation: \n",
    "\n",
    "The only possible split is: \"g\", \"g\", \"g\", and \"g\".\n",
    "```\n",
    "\n",
    "Constraints:\n",
    "\n",
    "+ ```1 <= word.length <= 5 * 10^3```\n",
    "+ ```word``` consists only of lowercase English letters.\n",
    "+ ```1 <= numFriends <= word.length```"
   ]
  },
  {
   "cell_type": "code",
   "execution_count": 1,
   "metadata": {},
   "outputs": [],
   "source": [
    "class Solution:\n",
    "    def answerString(self, word: str, numFriends: int) -> str:\n",
    "        m = len(word) - numFriends + 1\n",
    "        \n",
    "        if numFriends == 1:\n",
    "            return word\n",
    "        \n",
    "        return max(word[i:i + m] for i in range(len(word)))"
   ]
  },
  {
   "cell_type": "markdown",
   "metadata": {},
   "source": [
    "Run the code cell below to test the function."
   ]
  },
  {
   "cell_type": "code",
   "execution_count": 2,
   "metadata": {},
   "outputs": [
    {
     "name": "stdout",
     "output_type": "stream",
     "text": [
      "dbc\n",
      "g\n"
     ]
    }
   ],
   "source": [
    "sol = Solution()\n",
    "\n",
    "print(sol.answerString(\"dbca\", 2))\n",
    "print(sol.answerString(\"gggg\", 4))"
   ]
  },
  {
   "cell_type": "code",
   "execution_count": null,
   "metadata": {},
   "outputs": [],
   "source": []
  }
 ],
 "metadata": {
  "kernelspec": {
   "display_name": "kaggle",
   "language": "python",
   "name": "python3"
  },
  "language_info": {
   "codemirror_mode": {
    "name": "ipython",
    "version": 3
   },
   "file_extension": ".py",
   "mimetype": "text/x-python",
   "name": "python",
   "nbconvert_exporter": "python",
   "pygments_lexer": "ipython3",
   "version": "3.13.0"
  }
 },
 "nbformat": 4,
 "nbformat_minor": 2
}
