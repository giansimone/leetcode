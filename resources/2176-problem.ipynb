{
 "cells": [
  {
   "cell_type": "markdown",
   "metadata": {},
   "source": [
    "# [2176. Count Equal and Divisible Pairs in an Array](https://leetcode.com/problems/count-equal-and-divisible-pairs-in-an-array/)\n",
    "\n",
    "Given a 0-indexed integer array ```nums``` of length ```n``` and an integer ```k```, return the number of pairs ```(i, j)``` where ```0 <= i < j < n```, such that ```nums[i] == nums[j]``` and ```(i * j)``` is divisible by ```k```.\n",
    "\n",
    "Example 1:\n",
    "```python\n",
    "Input: nums = [3,1,2,2,2,1,3], k = 2\n",
    "Output: 4\n",
    "Explanation:\n",
    "There are 4 pairs that meet all the requirements:\n",
    "- nums[0] == nums[6], and 0 * 6 == 0, which is divisible by 2.\n",
    "- nums[2] == nums[3], and 2 * 3 == 6, which is divisible by 2.\n",
    "- nums[2] == nums[4], and 2 * 4 == 8, which is divisible by 2.\n",
    "- nums[3] == nums[4], and 3 * 4 == 12, which is divisible by 2.\n",
    "```\n",
    "\n",
    "Example 2:\n",
    "```python\n",
    "Input: nums = [1,2,3,4], k = 1\n",
    "Output: 0\n",
    "Explanation: Since no value in nums is repeated, there are no pairs (i,j) that meet all the requirements.\n",
    "```\n",
    "\n",
    "Constraints:\n",
    "\n",
    "+ ```1 <= nums.length <= 100```\n",
    "+ ```1 <= nums[i], k <= 100```"
   ]
  },
  {
   "cell_type": "markdown",
   "metadata": {},
   "source": [
    "### Brute Force Solution"
   ]
  },
  {
   "cell_type": "code",
   "execution_count": 1,
   "metadata": {},
   "outputs": [],
   "source": [
    "from typing import List\n",
    "\n",
    "class Solution:\n",
    "    def countPairs(self, nums: List[int], k: int) -> int:\n",
    "        result = 0\n",
    "\n",
    "        for i in range(len(nums) - 1):\n",
    "            for j in range(i + 1, len(nums)):\n",
    "                if nums[i] != nums[j] or i * j % k != 0:\n",
    "                    continue\n",
    "                result += 1\n",
    "        \n",
    "        return result"
   ]
  },
  {
   "cell_type": "markdown",
   "metadata": {},
   "source": [
    "Run the code cell below to test the function."
   ]
  },
  {
   "cell_type": "code",
   "execution_count": 2,
   "metadata": {},
   "outputs": [],
   "source": [
    "sol = Solution()\n",
    "\n",
    "assert sol.countPairs([3, 1, 2, 2, 2, 1, 3], 2) == 4\n",
    "assert sol.countPairs([1, 2, 3, 4], 1) == 0"
   ]
  },
  {
   "cell_type": "code",
   "execution_count": null,
   "metadata": {},
   "outputs": [],
   "source": []
  }
 ],
 "metadata": {
  "kernelspec": {
   "display_name": "leetcode-fniKCUVX-py3.13",
   "language": "python",
   "name": "python3"
  },
  "language_info": {
   "codemirror_mode": {
    "name": "ipython",
    "version": 3
   },
   "file_extension": ".py",
   "mimetype": "text/x-python",
   "name": "python",
   "nbconvert_exporter": "python",
   "pygments_lexer": "ipython3",
   "version": "3.13.2"
  }
 },
 "nbformat": 4,
 "nbformat_minor": 2
}
