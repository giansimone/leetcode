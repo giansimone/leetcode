{
 "cells": [
  {
   "cell_type": "markdown",
   "metadata": {},
   "source": [
    "# [23. Merge k Sorted Lists](https://leetcode.com/problems/merge-k-sorted-lists/)\n",
    "\n",
    "You are given an array of ```k``` linked-lists ```lists```, each linked-list is sorted in ascending order.\n",
    "\n",
    "Merge all the linked-lists into one sorted linked-list and return it.\n",
    " \n",
    "\n",
    "Example 1:\n",
    "```python\n",
    "Input: lists = [[1,4,5],[1,3,4],[2,6]]\n",
    "Output: [1,1,2,3,4,4,5,6]\n",
    "Explanation: The linked-lists are:\n",
    "[\n",
    "  1->4->5,\n",
    "  1->3->4,\n",
    "  2->6\n",
    "]\n",
    "merging them into one sorted list:\n",
    "1->1->2->3->4->4->5->6\n",
    "```\n",
    "\n",
    "Example 2:\n",
    "```python\n",
    "Input: lists = []\n",
    "Output: []\n",
    "```\n",
    "\n",
    "Example 3:\n",
    "```python\n",
    "Input: lists = [[]]\n",
    "Output: []\n",
    "```\n",
    "\n",
    "Constraints:\n",
    "\n",
    "+ ```k == lists.length```\n",
    "+ ```0 <= k <= 10^4```\n",
    "+ ```0 <= lists[i].length <= 500```\n",
    "+ ```-10^4 <= lists[i][j] <= 10^4```\n",
    "+ ```lists[i]``` is sorted in ascending order.\n",
    "+ The sum of ```lists[i]```.length will not exceed ```10^4```."
   ]
  },
  {
   "cell_type": "markdown",
   "metadata": {},
   "source": [
    "### Priority Heap Queue Solution"
   ]
  },
  {
   "cell_type": "code",
   "execution_count": 1,
   "metadata": {},
   "outputs": [],
   "source": [
    "from typing import List, Optional\n",
    "\n",
    "import heapq\n",
    "\n",
    "# Definition for singly-linked list.\n",
    "class ListNode:\n",
    "    def __init__(self, val=0, next=None):\n",
    "        self.val = val\n",
    "        self.next = next\n",
    "\n",
    "class Solution:\n",
    "    def mergeKLists(self, lists: List[Optional[ListNode]]) -> Optional[ListNode]:\n",
    "        priority_heap = []\n",
    "\n",
    "        for i, head in enumerate(lists):\n",
    "            if head:\n",
    "                heapq.heappush(priority_heap, (head.val, i, head))\n",
    "        \n",
    "        head = ListNode()\n",
    "        \n",
    "        current_node = head\n",
    "        \n",
    "        while priority_heap:\n",
    "            val, idx, node = heapq.heappop(priority_heap)\n",
    "            current_node.next = node\n",
    "            current_node = node\n",
    "\n",
    "            if node.next:\n",
    "                heapq.heappush(priority_heap, (node.next.val, idx, node.next))\n",
    "        \n",
    "        return head.next"
   ]
  },
  {
   "cell_type": "code",
   "execution_count": null,
   "metadata": {},
   "outputs": [],
   "source": []
  }
 ],
 "metadata": {
  "kernelspec": {
   "display_name": "kaggle",
   "language": "python",
   "name": "python3"
  },
  "language_info": {
   "codemirror_mode": {
    "name": "ipython",
    "version": 3
   },
   "file_extension": ".py",
   "mimetype": "text/x-python",
   "name": "python",
   "nbconvert_exporter": "python",
   "pygments_lexer": "ipython3",
   "version": "3.13.0"
  }
 },
 "nbformat": 4,
 "nbformat_minor": 2
}
