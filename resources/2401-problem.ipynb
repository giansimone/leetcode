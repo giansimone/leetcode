{
 "cells": [
  {
   "cell_type": "markdown",
   "metadata": {},
   "source": [
    "# [2401. Longest Nice Subarray](https://leetcode.com/problems/longest-nice-subarray/)\n",
    "\n",
    "You are given an array ```nums``` consisting of positive integers.\n",
    "\n",
    "We call a subarray of ```nums``` nice if the bitwise AND of every pair of elements that are in different positions in the subarray is equal to ```0```.\n",
    "\n",
    "Return the length of the longest nice subarray.\n",
    "\n",
    "A subarray is a contiguous part of an array.\n",
    "\n",
    "Note that subarrays of length ```1``` are always considered nice.\n",
    "\n",
    "\n",
    "\n",
    "Example 1:\n",
    "```python\n",
    "Input: nums = [1,3,8,48,10]\n",
    "Output: 3\n",
    "Explanation: The longest nice subarray is [3,8,48]. This subarray satisfies the conditions:\n",
    "- 3 AND 8 = 0.\n",
    "- 3 AND 48 = 0.\n",
    "- 8 AND 48 = 0.\n",
    "It can be proven that no longer nice subarray can be obtained, so we return 3.\n",
    "```\n",
    "\n",
    "Example 2:\n",
    "```python\n",
    "Input: nums = [3,1,5,11,13]\n",
    "Output: 1\n",
    "Explanation: The length of the longest nice subarray is 1. Any subarray of length 1 can be chosen.\n",
    "```\n",
    "\n",
    "Constraints:\n",
    "\n",
    "+ ```1 <= nums.length <= 10^5```\n",
    "+ ```1 <= nums[i] <= 10^9```\n",
    "\n"
   ]
  },
  {
   "cell_type": "code",
   "execution_count": 5,
   "metadata": {},
   "outputs": [],
   "source": [
    "from typing import List\n",
    "\n",
    "class Solution:\n",
    "    def longestNiceSubarray(self, nums: List[int]) -> int:\n",
    "        left, right = 1, min(len(nums), 30)\n",
    "\n",
    "        while left <= right:\n",
    "            length = (right + left) // 2\n",
    "            \n",
    "            if self.isNiceSubarray(nums, length):\n",
    "                left = length + 1\n",
    "            else:\n",
    "                right = length - 1\n",
    "\n",
    "        return right\n",
    "    \n",
    "    def isNiceSubarray(self, nums: List[int], k: int) -> bool:\n",
    "        if k <= 1:\n",
    "            return True\n",
    "        \n",
    "        for i in range(len(nums) - k + 1):\n",
    "            bit_mask = 0\n",
    "            is_nice = True\n",
    "\n",
    "            for j in range(i, i + k):\n",
    "                if bit_mask & nums[j] != 0:\n",
    "                    is_nice = False\n",
    "                    break\n",
    "                bit_mask |= nums[j]\n",
    "            \n",
    "            if is_nice:\n",
    "                return True\n",
    "            \n",
    "        return False"
   ]
  },
  {
   "cell_type": "markdown",
   "metadata": {},
   "source": [
    "Run the code cell below to test the function."
   ]
  },
  {
   "cell_type": "code",
   "execution_count": 6,
   "metadata": {},
   "outputs": [
    {
     "name": "stdout",
     "output_type": "stream",
     "text": [
      "3\n",
      "1\n"
     ]
    }
   ],
   "source": [
    "sol = Solution()\n",
    "\n",
    "print(Solution().longestNiceSubarray([1,3,8,48,10]))\n",
    "print(Solution().longestNiceSubarray([3,1,5,11,13]))"
   ]
  },
  {
   "cell_type": "code",
   "execution_count": null,
   "metadata": {},
   "outputs": [],
   "source": []
  }
 ],
 "metadata": {
  "kernelspec": {
   "display_name": "kaggle",
   "language": "python",
   "name": "python3"
  },
  "language_info": {
   "codemirror_mode": {
    "name": "ipython",
    "version": 3
   },
   "file_extension": ".py",
   "mimetype": "text/x-python",
   "name": "python",
   "nbconvert_exporter": "python",
   "pygments_lexer": "ipython3",
   "version": "3.13.0"
  }
 },
 "nbformat": 4,
 "nbformat_minor": 2
}
