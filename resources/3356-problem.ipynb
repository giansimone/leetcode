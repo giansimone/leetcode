{
 "cells": [
  {
   "cell_type": "markdown",
   "metadata": {},
   "source": [
    "# [3356. Zero Array Transformation II](https://leetcode.com/problems/zero-array-transformation-ii/)\n",
    "\n",
    "You are given an integer array ```nums``` of length ```n``` and a 2D array ```queries``` where ```queries[i] = [l_i, r_i, val_i]```.\n",
    "\n",
    "Each ```queries[i]``` represents the following action on ```nums```:\n",
    "\n",
    "+ Decrement the value at each index in the range ```[l_i, r_i]``` in ```nums``` by at most ```val_i```.\n",
    "+ The amount by which each value is decremented can be chosen independently for each index.\n",
    "A Zero Array is an array with all its elements equal to ```0```.\n",
    "\n",
    "Return the minimum possible non-negative value of ```k```, such that after processing the first ```k``` queries in sequence, ```nums``` becomes a Zero Array. If no such ```k``` exists, return ```-1```.\n",
    "\n",
    " \n",
    "\n",
    "Example 1:\n",
    "```python\n",
    "Input: nums = [2,0,2], queries = [[0,2,1],[0,2,1],[1,1,3]]\n",
    "\n",
    "Output: 2\n",
    "\n",
    "Explanation:\n",
    "\n",
    "For i = 0 (l = 0, r = 2, val = 1):\n",
    "Decrement values at indices [0, 1, 2] by [1, 0, 1] respectively.\n",
    "The array will become [1, 0, 1].\n",
    "For i = 1 (l = 0, r = 2, val = 1):\n",
    "Decrement values at indices [0, 1, 2] by [1, 0, 1] respectively.\n",
    "The array will become [0, 0, 0], which is a Zero Array. Therefore, the minimum value of k is 2.\n",
    "```\n",
    "\n",
    "Example 2:\n",
    "```python\n",
    "Input: nums = [4,3,2,1], queries = [[1,3,2],[0,2,1]]\n",
    "\n",
    "Output: -1\n",
    "\n",
    "Explanation:\n",
    "\n",
    "For i = 0 (l = 1, r = 3, val = 2):\n",
    "Decrement values at indices [1, 2, 3] by [2, 2, 1] respectively.\n",
    "The array will become [4, 1, 0, 0].\n",
    "For i = 1 (l = 0, r = 2, val = 1):\n",
    "Decrement values at indices [0, 1, 2] by [1, 1, 0] respectively.\n",
    "The array will become [3, 0, 0, 0], which is not a Zero Array.\n",
    "```\n",
    "\n",
    "Constraints:\n",
    "\n",
    "+ ```1 <= nums.length <= 10^5```\n",
    "+ ```0 <= nums[i] <= 5 * 10^5```\n",
    "+ ```1 <= queries.length <= 10^5```\n",
    "+ ```queries[i].length == 3```\n",
    "+ ```0 <= l_i <= r_i < nums.length```\n",
    "+ ```1 <= val_i <= 5```\n",
    "\n"
   ]
  },
  {
   "cell_type": "code",
   "execution_count": 1,
   "metadata": {},
   "outputs": [],
   "source": [
    "from typing import List\n",
    "\n",
    "class Solution:\n",
    "    def minZeroArray(self, nums: List[int], queries: List[List[int]]) -> int:\n",
    "        k = 0\n",
    "\n",
    "        if all([i==0 for i in nums]):\n",
    "            return k\n",
    "            \n",
    "        while k < len(queries):\n",
    "            left, right, value = queries[k]\n",
    "            nums[left:right+1] = [max(0, i - value) for i in nums[left:right+1]]\n",
    "            k += 1\n",
    "            if all([i==0 for i in nums]):\n",
    "                return k\n",
    "\n",
    "        return -1"
   ]
  },
  {
   "cell_type": "markdown",
   "metadata": {},
   "source": [
    "Run the code cell below to test the function."
   ]
  },
  {
   "cell_type": "code",
   "execution_count": 2,
   "metadata": {},
   "outputs": [
    {
     "name": "stdout",
     "output_type": "stream",
     "text": [
      "2\n",
      "-1\n"
     ]
    }
   ],
   "source": [
    "sol = Solution()\n",
    "\n",
    "print(sol.minZeroArray([2,0,2], [[0,2,1],[0,2,1],[1,1,3]]))\n",
    "print(sol.minZeroArray([4,3,2,1], [[1,3,2],[0,2,1]]))"
   ]
  },
  {
   "cell_type": "markdown",
   "metadata": {},
   "source": [
    "Improved algorithm with difference array and binary search."
   ]
  },
  {
   "cell_type": "code",
   "execution_count": 3,
   "metadata": {},
   "outputs": [],
   "source": [
    "from typing import List\n",
    "\n",
    "class Solution:\n",
    "    def minZeroArray(self, nums: List[int], queries: List[List[int]]) -> int:\n",
    "        n = len(nums)\n",
    "\n",
    "        left, right = 0, len(queries)\n",
    "\n",
    "        if not self.can_form_zero_array(nums, queries, right):\n",
    "            return -1\n",
    "\n",
    "        while left <= right:\n",
    "            mid = left + (right - left) // 2\n",
    "            if self.can_form_zero_array(nums, queries, mid):\n",
    "                right = mid - 1\n",
    "            else:\n",
    "                left = mid + 1\n",
    "        \n",
    "        return left\n",
    "    \n",
    "    def can_form_zero_array(\n",
    "        self, nums: List[int], queries: List[List[int]], k: int\n",
    "    ) -> bool:\n",
    "        n = len(nums)\n",
    "        total = 0\n",
    "        diff = [0] * (n + 1)\n",
    "\n",
    "        for i in range(k):\n",
    "            left, right, val = queries[i]\n",
    "\n",
    "            diff[left] += val\n",
    "            diff[right + 1] -= val\n",
    "        \n",
    "        for j in range(n):\n",
    "            total += diff[j]\n",
    "            if total < nums[j]:\n",
    "                return False\n",
    "        \n",
    "        return True"
   ]
  },
  {
   "cell_type": "markdown",
   "metadata": {},
   "source": [
    "Run the code cell below to test the function."
   ]
  },
  {
   "cell_type": "code",
   "execution_count": 4,
   "metadata": {},
   "outputs": [
    {
     "name": "stdout",
     "output_type": "stream",
     "text": [
      "2\n",
      "-1\n"
     ]
    }
   ],
   "source": [
    "sol = Solution()\n",
    "\n",
    "print(sol.minZeroArray([2,0,2], [[0,2,1],[0,2,1],[1,1,3]]))\n",
    "print(sol.minZeroArray([4,3,2,1], [[1,3,2],[0,2,1]]))"
   ]
  },
  {
   "cell_type": "code",
   "execution_count": null,
   "metadata": {},
   "outputs": [],
   "source": []
  }
 ],
 "metadata": {
  "kernelspec": {
   "display_name": "kaggle",
   "language": "python",
   "name": "python3"
  },
  "language_info": {
   "codemirror_mode": {
    "name": "ipython",
    "version": 3
   },
   "file_extension": ".py",
   "mimetype": "text/x-python",
   "name": "python",
   "nbconvert_exporter": "python",
   "pygments_lexer": "ipython3",
   "version": "3.13.0"
  }
 },
 "nbformat": 4,
 "nbformat_minor": 2
}
