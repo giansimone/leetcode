{
 "cells": [
  {
   "cell_type": "markdown",
   "metadata": {},
   "source": [
    "# [1976. Number of Ways to Arrive at Destination](https://leetcode.com/problems/number-of-ways-to-arrive-at-destination/)\n",
    "\n",
    "You are in a city that consists of ```n``` intersections numbered from ```0``` to ```n - 1``` with bi-directional ```roads``` between some intersections. The inputs are generated such that you can reach any intersection from any other intersection and that there is at most one road between any two intersections.\n",
    "\n",
    "You are given an integer ```n``` and a 2D integer array ```roads``` where ```roads[i] = [ui, vi, timei]``` means that there is a road between intersections ```ui``` and ```vi``` that takes ```timei``` minutes to travel. You want to know in how many ways you can travel from intersection ```0``` to intersection ```n - 1``` in the shortest amount of time.\n",
    "\n",
    "Return the number of ways you can arrive at your destination in the shortest amount of time. Since the answer may be large, return it modulo ```10^9 + 7```.\n",
    "\n",
    "\n",
    "\n",
    "Example 1:\n",
    "```python\n",
    "Input: n = 7, roads = [[0,6,7],[0,1,2],[1,2,3],[1,3,3],[6,3,3],[3,5,1],[6,5,1],[2,5,1],[0,4,5],[4,6,2]]\n",
    "Output: 4\n",
    "Explanation: The shortest amount of time it takes to go from intersection 0 to intersection 6 is 7 minutes.\n",
    "The four ways to get there in 7 minutes are:\n",
    "- 0 ➝ 6\n",
    "- 0 ➝ 4 ➝ 6\n",
    "- 0 ➝ 1 ➝ 2 ➝ 5 ➝ 6\n",
    "- 0 ➝ 1 ➝ 3 ➝ 5 ➝ 6\n",
    "```\n",
    "\n",
    "Example 2:\n",
    "```python\n",
    "Input: n = 2, roads = [[1,0,10]]\n",
    "Output: 1\n",
    "Explanation: There is only one way to go from intersection 0 to intersection 1, and it takes 10 minutes.\n",
    "```\n",
    "\n",
    "Constraints:\n",
    "\n",
    "+ ```1 <= n <= 200```\n",
    "+ ```n - 1 <= roads.length <= n * (n - 1) / 2```\n",
    "+ ```roads[i].length == 3```\n",
    "+ ```0 <= ui, vi <= n - 1```\n",
    "+ ```1 <= timei <= 10^9```\n",
    "+ ```ui != vi```\n",
    "+ There is at most one road connecting any two intersections.\n",
    "+ You can reach any intersection from any other intersection."
   ]
  },
  {
   "cell_type": "code",
   "execution_count": 1,
   "metadata": {},
   "outputs": [],
   "source": [
    "from typing import List\n",
    "import heapq\n",
    "\n",
    "class Solution:\n",
    "    def countPaths(self, n: int, roads: List[List[int]]) -> int:\n",
    "        MOD = 1_000_000_007\n",
    "\n",
    "        graph = [[] for _ in range(n)]\n",
    "\n",
    "        for start, end, time in roads:\n",
    "            graph[start].append((end, time))\n",
    "            graph[end].append((start, time))\n",
    "        \n",
    "        min_heap = [[0, 0]]\n",
    "\n",
    "        shortest_time = [float(\"inf\")] * n\n",
    "\n",
    "        path_count = [0] * n\n",
    "\n",
    "        shortest_time[0] = 0\n",
    "        path_count[0] = 1\n",
    "\n",
    "        while min_heap:\n",
    "            current_time, current_node = heapq.heappop(min_heap)\n",
    "            if current_time > shortest_time[current_node]:\n",
    "                continue\n",
    "            \n",
    "            for neighbour, road_time in graph[current_node]:\n",
    "                if current_time + road_time < shortest_time[neighbour]:\n",
    "                    shortest_time[neighbour] = current_time + road_time\n",
    "                    path_count[neighbour] = path_count[current_node]\n",
    "                    heapq.heappush(\n",
    "                        min_heap, (shortest_time[neighbour], neighbour)\n",
    "                    )\n",
    "                elif current_time + road_time == shortest_time[neighbour]:\n",
    "                    path_count[neighbour] = (\n",
    "                        path_count[neighbour] + path_count[current_node]\n",
    "                    ) % MOD\n",
    "        \n",
    "        return path_count[n - 1]"
   ]
  },
  {
   "cell_type": "markdown",
   "metadata": {},
   "source": [
    "Run the code cell below to test the function."
   ]
  },
  {
   "cell_type": "code",
   "execution_count": 2,
   "metadata": {},
   "outputs": [
    {
     "name": "stdout",
     "output_type": "stream",
     "text": [
      "4\n",
      "1\n"
     ]
    }
   ],
   "source": [
    "sol = Solution()\n",
    "\n",
    "print(sol.countPaths(7, [[0,6,7],[0,1,2],[1,2,3],[1,3,3],[6,3,3],[3,5,1],[6,5,1],[2,5,1],[0,4,5],[4,6,2]]))\n",
    "print(sol.countPaths(2, [[1,0,10]]))"
   ]
  },
  {
   "cell_type": "code",
   "execution_count": null,
   "metadata": {},
   "outputs": [],
   "source": []
  }
 ],
 "metadata": {
  "kernelspec": {
   "display_name": "kaggle",
   "language": "python",
   "name": "python3"
  },
  "language_info": {
   "codemirror_mode": {
    "name": "ipython",
    "version": 3
   },
   "file_extension": ".py",
   "mimetype": "text/x-python",
   "name": "python",
   "nbconvert_exporter": "python",
   "pygments_lexer": "ipython3",
   "version": "3.13.0"
  }
 },
 "nbformat": 4,
 "nbformat_minor": 2
}
