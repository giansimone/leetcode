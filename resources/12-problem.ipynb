{
 "cells": [
  {
   "cell_type": "markdown",
   "metadata": {},
   "source": [
    "# [12. Integer to Roman](https://leetcode.com/problems/integer-to-roman/)\n",
    "\n",
    "Seven different symbols represent Roman numerals with the following values:\n",
    "\n",
    "| Symbol\t| Value |\n",
    "| --- | --- |\n",
    "| I\t| 1 |\n",
    "| V\t| 5 |\n",
    "| X\t| 10 |\n",
    "| L\t| 50 |\n",
    "| C\t| 100 |\n",
    "| D\t| 500 |\n",
    "| M\t| 1000 |\n",
    "\n",
    "Roman numerals are formed by appending the conversions of decimal place values from highest to lowest. Converting a decimal place value into a Roman numeral has the following rules:\n",
    "\n",
    "+ If the value does not start with 4 or 9, select the symbol of the maximal value that can be subtracted from the input, append that symbol to the result, subtract its value, and convert the remainder to a Roman numeral.\n",
    "\n",
    "+ If the value starts with 4 or 9 use the subtractive form representing one symbol subtracted from the following symbol, for example, ```4``` is 1 (```I```) less than 5 (```V```): ```IV``` and 9 is 1 (```I```) less than 10 (```X```): ```IX```. Only the following subtractive forms are used: 4 (```IV```), 9 (```IX```), 40 (```XL```), 90 (```XC```), 400 (```CD```) and 900 (```CM```).\n",
    "+ Only powers of 10 (```I```, ```X```, ```C```, ```M```) can be appended consecutively at most 3 times to represent multiples of 10. You cannot append 5 (```V```), 50 (```L```), or 500 (```D```) multiple times. If you need to append a symbol 4 times use the subtractive form.\n",
    "Given an integer, convert it to a Roman numeral.\n",
    "\n",
    "\n",
    "\n",
    "Example 1:\n",
    "```python\n",
    "Input: num = 3749\n",
    "\n",
    "Output: \"MMMDCCXLIX\"\n",
    "\n",
    "Explanation:\n",
    "\n",
    "3000 = MMM as 1000 (M) + 1000 (M) + 1000 (M)\n",
    " 700 = DCC as 500 (D) + 100 (C) + 100 (C)\n",
    "  40 = XL as 10 (X) less of 50 (L)\n",
    "   9 = IX as 1 (I) less of 10 (X)\n",
    "Note: 49 is not 1 (I) less of 50 (L) because the conversion is based on decimal places\n",
    "```\n",
    "\n",
    "Example 2:\n",
    "```python\n",
    "Input: num = 58\n",
    "\n",
    "Output: \"LVIII\"\n",
    "\n",
    "Explanation:\n",
    "\n",
    "50 = L\n",
    "8 = VIII\n",
    "```\n",
    "\n",
    "Example 3:\n",
    "```python\n",
    "Input: num = 1994\n",
    "\n",
    "Output: \"MCMXCIV\"\n",
    "\n",
    "Explanation:\n",
    "\n",
    "1000 = M\n",
    " 900 = CM\n",
    "  90 = XC\n",
    "   4 = IV\n",
    "```\n",
    "\n",
    "Constraints:\n",
    "\n",
    "+ ```1 <= num <= 3999```"
   ]
  },
  {
   "cell_type": "code",
   "execution_count": 1,
   "metadata": {},
   "outputs": [],
   "source": [
    "class Solution:\n",
    "    def intToRoman(self, num: int) -> str:\n",
    "        s = \"\"\n",
    "\n",
    "        while num > 0:\n",
    "            str_num = str(num)\n",
    "            n = len(str_num)\n",
    "\n",
    "            if str_num[0] not in \"49\":\n",
    "                if n == 4:\n",
    "                    s += \"M\"\n",
    "                    num -= 1000\n",
    "                elif n == 3:\n",
    "                    if num >= 500:\n",
    "                        s += \"D\"\n",
    "                        num -= 500\n",
    "                    else:\n",
    "                        s += \"C\"\n",
    "                        num -= 100\n",
    "                elif n == 2:\n",
    "                    if num >= 50:\n",
    "                        s += \"L\"\n",
    "                        num -= 50\n",
    "                    else:\n",
    "                        s += \"X\"\n",
    "                        num -= 10\n",
    "                else:\n",
    "                    if num >= 5:\n",
    "                        s += \"V\"\n",
    "                        num -= 5\n",
    "                    else:\n",
    "                        s += \"I\"\n",
    "                        num -= 1\n",
    "            else:\n",
    "                if n == 3:\n",
    "                    if str_num[0] == \"9\":\n",
    "                        s += \"CM\"\n",
    "                        num -= 900\n",
    "                    else:\n",
    "                        s += \"CD\"\n",
    "                        num -= 400\n",
    "                elif n == 2:\n",
    "                    if str_num[0] == \"9\":\n",
    "                        s += \"XC\"\n",
    "                        num -= 90\n",
    "                    else:\n",
    "                        s += \"XL\"\n",
    "                        num -= 40\n",
    "                else:\n",
    "                    if str_num[0] == \"9\":\n",
    "                        s += \"IX\"\n",
    "                        num -= 9\n",
    "                    else:\n",
    "                        s += \"IV\"\n",
    "                        num -= 4\n",
    "        \n",
    "        return s"
   ]
  },
  {
   "cell_type": "markdown",
   "metadata": {},
   "source": [
    "Run the code cell below to test the function."
   ]
  },
  {
   "cell_type": "code",
   "execution_count": 2,
   "metadata": {},
   "outputs": [
    {
     "name": "stdout",
     "output_type": "stream",
     "text": [
      "MMMDCCXLIX\n",
      "LVIII\n",
      "MCMXCIV\n"
     ]
    }
   ],
   "source": [
    "sol = Solution()\n",
    "\n",
    "print(sol.intToRoman(3749))\n",
    "print(sol.intToRoman(58))\n",
    "print(sol.intToRoman(1994))"
   ]
  },
  {
   "cell_type": "markdown",
   "metadata": {},
   "source": [
    "Another way to solve this problem."
   ]
  },
  {
   "cell_type": "code",
   "execution_count": 3,
   "metadata": {},
   "outputs": [],
   "source": [
    "class Solution:\n",
    "    def intToRoman(self, num: int) -> str:\n",
    "        sym_val = (\n",
    "            (\"M\", 1000),\n",
    "            (\"CM\", 900),\n",
    "            (\"D\", 500),\n",
    "            (\"CD\", 400),\n",
    "            (\"C\", 100),\n",
    "            (\"XC\", 90),\n",
    "            (\"L\", 50),\n",
    "            (\"XL\", 40),\n",
    "            (\"X\", 10),\n",
    "            (\"IX\", 9),\n",
    "            (\"V\", 5),\n",
    "            (\"IV\", 4),\n",
    "            (\"I\", 1)\n",
    "        )\n",
    "\n",
    "        s = \"\"\n",
    "\n",
    "        for symbol, value in sym_val:\n",
    "            while num >= value:\n",
    "                s += symbol\n",
    "                num -= value\n",
    "            \n",
    "            if num == 0:\n",
    "                return s\n",
    "        \n",
    "        return s"
   ]
  },
  {
   "cell_type": "markdown",
   "metadata": {},
   "source": [
    "Run the code cell below to test the function."
   ]
  },
  {
   "cell_type": "code",
   "execution_count": 4,
   "metadata": {},
   "outputs": [
    {
     "name": "stdout",
     "output_type": "stream",
     "text": [
      "MMMDCCXLIX\n",
      "LVIII\n",
      "MCMXCIV\n"
     ]
    }
   ],
   "source": [
    "sol = Solution()\n",
    "\n",
    "print(sol.intToRoman(3749))\n",
    "print(sol.intToRoman(58))\n",
    "print(sol.intToRoman(1994))"
   ]
  },
  {
   "cell_type": "code",
   "execution_count": null,
   "metadata": {},
   "outputs": [],
   "source": []
  }
 ],
 "metadata": {
  "kernelspec": {
   "display_name": "kaggle",
   "language": "python",
   "name": "python3"
  },
  "language_info": {
   "codemirror_mode": {
    "name": "ipython",
    "version": 3
   },
   "file_extension": ".py",
   "mimetype": "text/x-python",
   "name": "python",
   "nbconvert_exporter": "python",
   "pygments_lexer": "ipython3",
   "version": "3.13.0"
  }
 },
 "nbformat": 4,
 "nbformat_minor": 2
}
