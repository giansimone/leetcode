{
 "cells": [
  {
   "cell_type": "markdown",
   "metadata": {},
   "source": [
    "# [13. Roman to Integer](https://leetcode.com/problems/roman-to-integer/)\n",
    "\n",
    "Roman numerals are represented by seven different symbols: ```I```, ```V```, ```X```, ```L```, ```C```, ```D``` and ```M```.\n",
    "\n",
    "| Symbol\t| Value |\n",
    "| --- | --- |\n",
    "| I\t| 1 |\n",
    "| V\t| 5 |\n",
    "| X\t| 10 |\n",
    "| L\t| 50 |\n",
    "| C\t| 100 |\n",
    "| D\t| 500 |\n",
    "| M\t| 1000 |\n",
    "\n",
    "For example, ```2``` is written as ```II``` in Roman numeral, just two ones added together. ```12``` is written as ```XII```, which is simply ```X + II```. The number ```27``` is written as ```XXVII```, which is ```XX + V + II```.\n",
    "\n",
    "Roman numerals are usually written largest to smallest from left to right. However, the numeral for four is not ```IIII```. Instead, the number four is written as ```IV```. Because the one is before the five we subtract it making four. The same principle applies to the number nine, which is written as ```IX```. There are six instances where subtraction is used:\n",
    "\n",
    "+ ```I``` can be placed before ```V``` (5) and ```X``` (10) to make 4 and 9. \n",
    "+ ```X``` can be placed before ```L``` (50) and ```C``` (100) to make 40 and 90. \n",
    "+ ```C``` can be placed before ```D``` (500) and ```M``` (1000) to make 400 and 900.\n",
    "\n",
    "Given a roman numeral, convert it to an integer.\n",
    "\n",
    "\n",
    "Example 1:\n",
    "```python\n",
    "Input: s = \"III\"\n",
    "Output: 3\n",
    "Explanation: III = 3.\n",
    "```\n",
    "\n",
    "Example 2:\n",
    "```python\n",
    "Input: s = \"LVIII\"\n",
    "Output: 58\n",
    "Explanation: L = 50, V= 5, III = 3.\n",
    "```\n",
    "\n",
    "Example 3:\n",
    "```python\n",
    "Input: s = \"MCMXCIV\"\n",
    "Output: 1994\n",
    "Explanation: M = 1000, CM = 900, XC = 90 and IV = 4.\n",
    "```\n",
    "\n",
    "Constraints:\n",
    "\n",
    "+ ```1 <= s.length <= 15```\n",
    "+ ```s``` contains only the characters ```('I', 'V', 'X', 'L', 'C', 'D', 'M')```.\n",
    "+ It is guaranteed that ```s``` is a valid roman numeral in the range ```[1, 3999]```."
   ]
  },
  {
   "cell_type": "code",
   "execution_count": 1,
   "metadata": {},
   "outputs": [],
   "source": [
    "class Solution:\n",
    "    def romanToInt(self, s: str) -> int:\n",
    "        d = {'I': 1, 'V': 5, 'X': 10, 'L': 50, 'C': 100, 'D': 500, 'M': 1000}\n",
    "        n = len(s)\n",
    "        sol = 0\n",
    "        for i in range(n-1):\n",
    "            if d[s[i]]>=d[s[i+1]]:\n",
    "                sol += d[s[i]]\n",
    "            else:\n",
    "                sol -= d[s[i]]\n",
    "        sol += d[s[-1]]\n",
    "        return sol"
   ]
  },
  {
   "cell_type": "markdown",
   "metadata": {},
   "source": [
    "Run the code cell below to test the function."
   ]
  },
  {
   "cell_type": "code",
   "execution_count": 2,
   "metadata": {},
   "outputs": [
    {
     "name": "stdout",
     "output_type": "stream",
     "text": [
      "3\n",
      "58\n",
      "1994\n"
     ]
    }
   ],
   "source": [
    "sol = Solution()\n",
    "\n",
    "print(sol.romanToInt(\"III\"))\n",
    "print(sol.romanToInt(\"LVIII\"))\n",
    "print(sol.romanToInt(\"MCMXCIV\"))"
   ]
  },
  {
   "cell_type": "code",
   "execution_count": null,
   "metadata": {},
   "outputs": [],
   "source": []
  }
 ],
 "metadata": {
  "kernelspec": {
   "display_name": "kaggle",
   "language": "python",
   "name": "python3"
  },
  "language_info": {
   "codemirror_mode": {
    "name": "ipython",
    "version": 3
   },
   "file_extension": ".py",
   "mimetype": "text/x-python",
   "name": "python",
   "nbconvert_exporter": "python",
   "pygments_lexer": "ipython3",
   "version": "3.13.0"
  }
 },
 "nbformat": 4,
 "nbformat_minor": 2
}
