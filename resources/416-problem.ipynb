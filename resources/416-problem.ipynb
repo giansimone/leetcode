{
 "cells": [
  {
   "cell_type": "markdown",
   "metadata": {},
   "source": [
    "# [416. Partition Equal Subset Sum](https://leetcode.com/problems/partition-equal-subset-sum/)\n",
    "\n",
    "Given an integer array ```nums```, return ```true``` if you can partition the array into two subsets such that the sum of the elements in both subsets is equal or ```false``` otherwise.\n",
    "\n",
    "\n",
    "Example 1:\n",
    "```python\n",
    "Input: nums = [1,5,11,5]\n",
    "Output: true\n",
    "Explanation: The array can be partitioned as [1, 5, 5] and [11].\n",
    "```\n",
    "\n",
    "Example 2:\n",
    "```python\n",
    "Input: nums = [1,2,3,5]\n",
    "Output: false\n",
    "Explanation: The array cannot be partitioned into equal sum subsets.\n",
    "```\n",
    "\n",
    "Constraints:\n",
    "\n",
    "+ ```1 <= nums.length <= 200```\n",
    "+ ```1 <= nums[i] <= 100```"
   ]
  },
  {
   "cell_type": "markdown",
   "metadata": {},
   "source": [
    "### Dynamic Programming Solution"
   ]
  },
  {
   "cell_type": "code",
   "execution_count": 1,
   "metadata": {},
   "outputs": [],
   "source": [
    "from typing import List\n",
    "\n",
    "class Solution:\n",
    "    def canPartition(self, nums: List[int]) -> bool:\n",
    "        total = sum(nums)\n",
    "        if total % 2 != 0:\n",
    "            return False\n",
    "        \n",
    "        target = total// 2\n",
    "\n",
    "        dp = [True] + [False] * target\n",
    "\n",
    "        for num in nums:\n",
    "            for i in range(target, num - 1, -1):\n",
    "                dp[i] |= dp[i - num]\n",
    "\n",
    "            if dp[target]:\n",
    "                return True\n",
    "        \n",
    "        return dp[target]"
   ]
  },
  {
   "cell_type": "markdown",
   "metadata": {},
   "source": [
    "Run the code cell below to test the function."
   ]
  },
  {
   "cell_type": "code",
   "execution_count": 2,
   "metadata": {},
   "outputs": [],
   "source": [
    "sol = Solution()\n",
    "\n",
    "assert sol.canPartition([1, 5, 11, 5]) == True\n",
    "assert sol.canPartition([1, 2, 3, 5]) == False"
   ]
  },
  {
   "cell_type": "markdown",
   "metadata": {},
   "source": [
    "### Dynamic Programming Solution"
   ]
  },
  {
   "cell_type": "code",
   "execution_count": 3,
   "metadata": {},
   "outputs": [],
   "source": [
    "from typing import List\n",
    "\n",
    "class Solution:\n",
    "    def canPartition(self, nums: List[int]) -> bool:\n",
    "        total = sum(nums)\n",
    "        if total % 2 != 0:\n",
    "            return False\n",
    "        \n",
    "        target = total// 2\n",
    "\n",
    "        sums = set([0])\n",
    "\n",
    "        for num in nums:\n",
    "            current = list(sums)\n",
    "            for s in current:\n",
    "                new_sum = s + num\n",
    "                if new_sum == target:\n",
    "                    return True\n",
    "                if new_sum < target:\n",
    "                    sums.add(new_sum)\n",
    "\n",
    "        return False "
   ]
  },
  {
   "cell_type": "markdown",
   "metadata": {},
   "source": [
    "Run the code cell below to test the function."
   ]
  },
  {
   "cell_type": "code",
   "execution_count": 4,
   "metadata": {},
   "outputs": [],
   "source": [
    "sol = Solution()\n",
    "\n",
    "assert sol.canPartition([1, 5, 11, 5]) == True\n",
    "assert sol.canPartition([1, 2, 3, 5]) == False"
   ]
  },
  {
   "cell_type": "code",
   "execution_count": null,
   "metadata": {},
   "outputs": [],
   "source": []
  }
 ],
 "metadata": {
  "kernelspec": {
   "display_name": "kaggle",
   "language": "python",
   "name": "python3"
  },
  "language_info": {
   "codemirror_mode": {
    "name": "ipython",
    "version": 3
   },
   "file_extension": ".py",
   "mimetype": "text/x-python",
   "name": "python",
   "nbconvert_exporter": "python",
   "pygments_lexer": "ipython3",
   "version": "3.13.0"
  }
 },
 "nbformat": 4,
 "nbformat_minor": 2
}
