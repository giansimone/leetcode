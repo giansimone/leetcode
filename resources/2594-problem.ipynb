{
 "cells": [
  {
   "cell_type": "markdown",
   "metadata": {},
   "source": [
    "# [2594. Minimum Time to Repair Cars](https://leetcode.com/problems/minimum-time-to-repair-cars/)\n",
    "\n",
    "You are given an integer array ```ranks``` representing the ranks of some mechanics. ```ranks_i``` is the rank of the ```ith``` mechanic. A mechanic with a rank ```r``` can repair ```n``` cars in ```r * n^2``` minutes.\n",
    "\n",
    "You are also given an integer ```cars``` representing the total number of cars waiting in the garage to be repaired.\n",
    "\n",
    "Return the minimum time taken to repair all the cars.\n",
    "\n",
    "Note: All the mechanics can repair the cars simultaneously.\n",
    "\n",
    "\n",
    "\n",
    "Example 1:\n",
    "```python\n",
    "Input: ranks = [4,2,3,1], cars = 10\n",
    "Output: 16\n",
    "Explanation: \n",
    "- The first mechanic will repair two cars. The time required is 4 * 2 * 2 = 16 minutes.\n",
    "- The second mechanic will repair two cars. The time required is 2 * 2 * 2 = 8 minutes.\n",
    "- The third mechanic will repair two cars. The time required is 3 * 2 * 2 = 12 minutes.\n",
    "- The fourth mechanic will repair four cars. The time required is 1 * 4 * 4 = 16 minutes.\n",
    "It can be proved that the cars cannot be repaired in less than 16 minutes.​​​​​\n",
    "```\n",
    "\n",
    "Example 2:\n",
    "```python\n",
    "Input: ranks = [5,1,8], cars = 6\n",
    "Output: 16\n",
    "Explanation: \n",
    "- The first mechanic will repair one car. The time required is 5 * 1 * 1 = 5 minutes.\n",
    "- The second mechanic will repair four cars. The time required is 1 * 4 * 4 = 16 minutes.\n",
    "- The third mechanic will repair one car. The time required is 8 * 1 * 1 = 8 minutes.\n",
    "It can be proved that the cars cannot be repaired in less than 16 minutes.​​​​​\n",
    "```\n",
    "\n",
    "Constraints:\n",
    "\n",
    "+ ```1 <= ranks.length <= 10^5```\n",
    "+ ```1 <= ranks[i] <= 100```\n",
    "+ ```1 <= cars <= 10^6```"
   ]
  },
  {
   "cell_type": "code",
   "execution_count": 2,
   "metadata": {},
   "outputs": [],
   "source": [
    "from typing import List\n",
    "\n",
    "class Solution:\n",
    "    def repairCars(self, ranks: List[int], cars: int) -> int:\n",
    "        begin, end = 1, min(ranks) * (cars ** 2)\n",
    "\n",
    "        while begin < end:\n",
    "            mid = (begin + end) // 2\n",
    "\n",
    "            repaired_cars = 0\n",
    "            for r in ranks:\n",
    "                repaired_cars += (mid / r) ** 0.5 // 1\n",
    "\n",
    "            if repaired_cars >= cars:\n",
    "                end = mid\n",
    "            else:\n",
    "                begin = mid + 1\n",
    "        \n",
    "        return begin"
   ]
  },
  {
   "cell_type": "markdown",
   "metadata": {},
   "source": [
    "Run the code cell below to test the function."
   ]
  },
  {
   "cell_type": "code",
   "execution_count": 4,
   "metadata": {},
   "outputs": [
    {
     "name": "stdout",
     "output_type": "stream",
     "text": [
      "16\n",
      "16\n"
     ]
    }
   ],
   "source": [
    "sol = Solution()\n",
    "\n",
    "print(sol.repairCars([4,2,3,1], 10))\n",
    "print(sol.repairCars([5,1,8], 6))"
   ]
  },
  {
   "cell_type": "markdown",
   "metadata": {},
   "source": [
    "A more efficient solution considers a ```freq``` array to store the frequency of each rank."
   ]
  },
  {
   "cell_type": "code",
   "execution_count": 5,
   "metadata": {},
   "outputs": [],
   "source": [
    "class Solution:\n",
    "    def repairCars(self, ranks: List[int], cars: int) -> int:\n",
    "        min_rank, max_rank = min(ranks), max(ranks)\n",
    "\n",
    "        freq = [0] * (max_rank + 1)\n",
    "\n",
    "        for r in ranks:\n",
    "            freq[r] += 1\n",
    "\n",
    "\n",
    "        begin, end = 1, min_rank * (cars ** 2)\n",
    "\n",
    "        while begin < end:\n",
    "            mid = (begin + end) // 2\n",
    "\n",
    "            repaired_cars = 0\n",
    "            for rank in range(1, max_rank + 1):\n",
    "                repaired_cars += freq[rank] * int(((mid // rank) ** 0.5))\n",
    "\n",
    "            if repaired_cars >= cars:\n",
    "                end = mid\n",
    "            else:\n",
    "                begin = mid + 1\n",
    "        \n",
    "        return begin"
   ]
  },
  {
   "cell_type": "markdown",
   "metadata": {},
   "source": [
    "Run the code cell below to test the function."
   ]
  },
  {
   "cell_type": "code",
   "execution_count": 6,
   "metadata": {},
   "outputs": [
    {
     "name": "stdout",
     "output_type": "stream",
     "text": [
      "16\n",
      "16\n"
     ]
    }
   ],
   "source": [
    "sol = Solution()\n",
    "\n",
    "print(sol.repairCars([4,2,3,1], 10))\n",
    "print(sol.repairCars([5,1,8], 6))"
   ]
  },
  {
   "cell_type": "code",
   "execution_count": null,
   "metadata": {},
   "outputs": [],
   "source": []
  }
 ],
 "metadata": {
  "kernelspec": {
   "display_name": "kaggle",
   "language": "python",
   "name": "python3"
  },
  "language_info": {
   "codemirror_mode": {
    "name": "ipython",
    "version": 3
   },
   "file_extension": ".py",
   "mimetype": "text/x-python",
   "name": "python",
   "nbconvert_exporter": "python",
   "pygments_lexer": "ipython3",
   "version": "3.13.0"
  }
 },
 "nbformat": 4,
 "nbformat_minor": 2
}
