{
 "cells": [
  {
   "cell_type": "markdown",
   "metadata": {},
   "source": [
    "# [1922. Count Good Numbers](https://leetcode.com/problems/count-good-numbers/)\n",
    "\n",
    "A digit string is good if the digits (0-indexed) at even indices are even and the digits at odd indices are prime (```2```, ```3```, ```5```, or ```7```).\n",
    "\n",
    "+ For example, ```\"2582\"``` is good because the digits (```2``` and ```8```) at even positions are even and the digits (```5``` and ```2```) at odd positions are prime. However, ```\"3245\"``` is not good because ```3``` is at an even index but is not even.\n",
    "\n",
    "Given an integer ```n```, return the total number of good digit strings of length ```n```. Since the answer may be large, return it modulo ```10^9 + 7```.\n",
    "\n",
    "A digit string is a string consisting of digits ```0``` through ```9``` that may contain leading zeros.\n",
    "\n",
    "\n",
    "Example 1:\n",
    "```pythob\n",
    "Input: n = 1\n",
    "Output: 5\n",
    "Explanation: The good numbers of length 1 are \"0\", \"2\", \"4\", \"6\", \"8\".\n",
    "```\n",
    "\n",
    "Example 2:\n",
    "```python\n",
    "Input: n = 4\n",
    "Output: 400\n",
    "```\n",
    "\n",
    "Example 3:\n",
    "```python\n",
    "Input: n = 50\n",
    "Output: 564908303\n",
    "```\n",
    "\n",
    "Constraints:\n",
    "\n",
    "+ ```1 <= n <= 10^15```"
   ]
  },
  {
   "cell_type": "markdown",
   "metadata": {},
   "source": [
    "### Solution Exceeding Time Limit"
   ]
  },
  {
   "cell_type": "code",
   "execution_count": 7,
   "metadata": {},
   "outputs": [],
   "source": [
    "class Solution:\n",
    "    def countGoodNumbers(self, n: int) -> int:\n",
    "        return (5 ** ((n + 1) // 2) * 4 ** (n // 2)) % (10 ** 9 + 7)"
   ]
  },
  {
   "cell_type": "markdown",
   "metadata": {},
   "source": [
    "Run the code cell below to test the function."
   ]
  },
  {
   "cell_type": "code",
   "execution_count": 8,
   "metadata": {},
   "outputs": [],
   "source": [
    "sol = Solution()\n",
    "\n",
    "assert sol.countGoodNumbers(1) == 5\n",
    "assert sol.countGoodNumbers(4) == 400\n",
    "assert sol.countGoodNumbers(50) == 564908303"
   ]
  },
  {
   "cell_type": "markdown",
   "metadata": {},
   "source": [
    "### Fast Exponentiation Solution"
   ]
  },
  {
   "cell_type": "code",
   "execution_count": 9,
   "metadata": {},
   "outputs": [],
   "source": [
    "class Solution:\n",
    "    def countGoodNumbers(self, n: int) -> int:\n",
    "        mod = 10 ** 9 + 7\n",
    "\n",
    "        return (pow(5, (n + 1) // 2, mod) * pow(4, n // 2, mod)) % mod"
   ]
  },
  {
   "cell_type": "markdown",
   "metadata": {},
   "source": [
    "Run the code cell below to test the function."
   ]
  },
  {
   "cell_type": "code",
   "execution_count": 10,
   "metadata": {},
   "outputs": [],
   "source": [
    "sol = Solution()\n",
    "\n",
    "assert sol.countGoodNumbers(1) == 5\n",
    "assert sol.countGoodNumbers(4) == 400\n",
    "assert sol.countGoodNumbers(50) == 564908303"
   ]
  },
  {
   "cell_type": "markdown",
   "metadata": {},
   "source": [
    "### Fast Exponentiation Solution with custom implementation"
   ]
  },
  {
   "cell_type": "code",
   "execution_count": 11,
   "metadata": {},
   "outputs": [],
   "source": [
    "class Solution:\n",
    "    def countGoodNumbers(self, n: int) -> int:\n",
    "        mod = 10 ** 9 + 7\n",
    "\n",
    "        def power(x: int, n: int) -> int:\n",
    "            result = 1\n",
    "            while n > 0:\n",
    "                if n % 2 == 1:\n",
    "                    result = result * x % mod\n",
    "                x = x * x % mod\n",
    "                n //= 2\n",
    "            return result % mod\n",
    "\n",
    "        return power(5, (n + 1) // 2) * power(4, n // 2) % mod"
   ]
  },
  {
   "cell_type": "markdown",
   "metadata": {},
   "source": [
    "Run the code cell below to test the function."
   ]
  },
  {
   "cell_type": "code",
   "execution_count": 12,
   "metadata": {},
   "outputs": [],
   "source": [
    "sol = Solution()\n",
    "\n",
    "assert sol.countGoodNumbers(1) == 5\n",
    "assert sol.countGoodNumbers(4) == 400\n",
    "assert sol.countGoodNumbers(50) == 564908303"
   ]
  },
  {
   "cell_type": "code",
   "execution_count": null,
   "metadata": {},
   "outputs": [],
   "source": []
  }
 ],
 "metadata": {
  "kernelspec": {
   "display_name": "leetcode-fniKCUVX-py3.13",
   "language": "python",
   "name": "python3"
  },
  "language_info": {
   "codemirror_mode": {
    "name": "ipython",
    "version": 3
   },
   "file_extension": ".py",
   "mimetype": "text/x-python",
   "name": "python",
   "nbconvert_exporter": "python",
   "pygments_lexer": "ipython3",
   "version": "3.13.2"
  }
 },
 "nbformat": 4,
 "nbformat_minor": 2
}
