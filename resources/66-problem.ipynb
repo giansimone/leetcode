{
 "cells": [
  {
   "cell_type": "markdown",
   "metadata": {},
   "source": [
    "# [66. Plus One](https://leetcode.com/problems/plus-one/)\n",
    "\n",
    "You are given a large integer represented as an integer array ```digits```, where each ```digits[i]``` is the ```ith``` digit of the integer. The digits are ordered from most significant to least significant in left-to-right order. The large integer does not contain any leading ```0```'s.\n",
    "\n",
    "Increment the large integer by one and return the resulting array of digits.\n",
    "\n",
    "\n",
    "\n",
    "Example 1:\n",
    "```python\n",
    "Input: digits = [1,2,3]\n",
    "Output: [1,2,4]\n",
    "Explanation: The array represents the integer 123.\n",
    "Incrementing by one gives 123 + 1 = 124.\n",
    "Thus, the result should be [1,2,4].\n",
    "```\n",
    "\n",
    "Example 2:\n",
    "```python\n",
    "Input: digits = [4,3,2,1]\n",
    "Output: [4,3,2,2]\n",
    "Explanation: The array represents the integer 4321.\n",
    "Incrementing by one gives 4321 + 1 = 4322.\n",
    "Thus, the result should be [4,3,2,2].\n",
    "```\n",
    "\n",
    "Example 3:\n",
    "```python\n",
    "Input: digits = [9]\n",
    "Output: [1,0]\n",
    "Explanation: The array represents the integer 9.\n",
    "Incrementing by one gives 9 + 1 = 10.\n",
    "Thus, the result should be [1,0].\n",
    "```\n",
    "\n",
    "Constraints:\n",
    "\n",
    "+ ```1 <= digits.length <= 100```\n",
    "+ ```0 <= digits[i] <= 9```\n",
    "+ digits does not contain any leading ```0```'s."
   ]
  },
  {
   "cell_type": "code",
   "execution_count": 1,
   "metadata": {},
   "outputs": [],
   "source": [
    "from typing import List\n",
    "\n",
    "class Solution:\n",
    "    def plusOne(self, digits: List[int]) -> List[int]:\n",
    "        digits.reverse()\n",
    "        \n",
    "        addendum = 1\n",
    "\n",
    "        i = 0\n",
    "\n",
    "        while addendum:\n",
    "            \n",
    "            digits[i] += addendum\n",
    "\n",
    "            if digits[i] == 10:\n",
    "                digits[i] = 0\n",
    "            else:\n",
    "                addendum = 0\n",
    "            \n",
    "            i += 1\n",
    "\n",
    "            if i == len(digits) and addendum:\n",
    "                digits.append(1)\n",
    "                addendum = 0\n",
    "        \n",
    "        digits.reverse()\n",
    "\n",
    "        return digits"
   ]
  },
  {
   "cell_type": "code",
   "execution_count": 2,
   "metadata": {},
   "outputs": [
    {
     "name": "stdout",
     "output_type": "stream",
     "text": [
      "[1, 2, 4]\n",
      "[4, 3, 2, 2]\n",
      "[1, 0]\n",
      "[1, 0, 0]\n",
      "[1, 0, 0, 0]\n"
     ]
    }
   ],
   "source": [
    "sol = Solution()\n",
    "\n",
    "print(sol.plusOne([1,2,3]))\n",
    "print(sol.plusOne([4,3,2,1]))\n",
    "print(sol.plusOne([9]))\n",
    "print(sol.plusOne([9,9]))\n",
    "print(sol.plusOne([9,9,9]))"
   ]
  },
  {
   "cell_type": "code",
   "execution_count": null,
   "metadata": {},
   "outputs": [],
   "source": []
  }
 ],
 "metadata": {
  "kernelspec": {
   "display_name": "kaggle",
   "language": "python",
   "name": "python3"
  },
  "language_info": {
   "codemirror_mode": {
    "name": "ipython",
    "version": 3
   },
   "file_extension": ".py",
   "mimetype": "text/x-python",
   "name": "python",
   "nbconvert_exporter": "python",
   "pygments_lexer": "ipython3",
   "version": "3.13.0"
  }
 },
 "nbformat": 4,
 "nbformat_minor": 2
}
