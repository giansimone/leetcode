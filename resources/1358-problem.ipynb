{
 "cells": [
  {
   "cell_type": "markdown",
   "metadata": {},
   "source": [
    "# [1358. Number of Substrings Containing All Three Characters](https://leetcode.com/problems/number-of-substrings-containing-all-three-characters/)\n",
    "\n",
    "Given a string ```s``` consisting only of characters ```a```, ```b``` and ```c```.\n",
    "\n",
    "Return the number of substrings containing at least one occurrence of all these characters ```a```, ```b``` and ```c```.\n",
    "\n",
    "\n",
    "\n",
    "Example 1:\n",
    "```python\n",
    "Input: s = \"abcabc\"\n",
    "Output: 10\n",
    "Explanation: The substrings containing at least one occurrence of the characters a, b and c are \"abc\", \"abca\", \"abcab\", \"abcabc\", \"bca\", \"bcab\", \"bcabc\", \"cab\", \"cabc\" and \"abc\" (again).\n",
    "```\n",
    "\n",
    "Example 2:\n",
    "```python\n",
    "Input: s = \"aaacb\"\n",
    "Output: 3\n",
    "Explanation: The substrings containing at least one occurrence of the characters a, b and c are \"aaacb\", \"aacb\" and \"acb\". \n",
    "```\n",
    "\n",
    "Example 3:\n",
    "```python\n",
    "Input: s = \"abc\"\n",
    "Output: 1\n",
    "```\n",
    "\n",
    "Constraints:\n",
    "\n",
    "+ ```3 <= s.length <= 5 x 10^4```\n",
    "+ ```s``` only consists of ```a```, ```b``` or ```c``` characters.\n",
    "\n"
   ]
  },
  {
   "cell_type": "code",
   "execution_count": 1,
   "metadata": {},
   "outputs": [],
   "source": [
    "class Solution:\n",
    "    def numberOfSubstrings(self, s: str) -> int:\n",
    "        n = len(s)\n",
    "\n",
    "        num_valid_substrings = 0\n",
    "\n",
    "        next_char_a = [0] * n\n",
    "        next_char_b = [0] * n\n",
    "        next_char_c = [0] * n\n",
    "\n",
    "        next_char_a_index = n\n",
    "        next_char_b_index = n\n",
    "        next_char_c_index = n\n",
    "\n",
    "        for i in range(n-1, -1, -1):\n",
    "            next_char_a[i] = next_char_a_index\n",
    "            next_char_b[i] = next_char_b_index\n",
    "            next_char_c[i] = next_char_c_index\n",
    "            if s[i] == \"a\":\n",
    "                next_char_a_index = i\n",
    "            if s[i] == \"b\":\n",
    "                next_char_b_index = i\n",
    "            if s[i] == \"c\":\n",
    "                next_char_c_index = i\n",
    "        \n",
    "        start = 0\n",
    "        end = max(\n",
    "            next_char_a_index,\n",
    "            next_char_b_index,\n",
    "            next_char_c_index\n",
    "            )\n",
    "\n",
    "        while end < n:\n",
    "            num_valid_substrings += n - end\n",
    "\n",
    "            if s[start] == \"a\":\n",
    "                next_char_a_index = next_char_a[start]\n",
    "            if s[start] == \"b\":\n",
    "                next_char_b_index = next_char_b[start]\n",
    "            if s[start] == \"c\":\n",
    "                next_char_c_index = next_char_c[start]\n",
    "            \n",
    "            start = min(\n",
    "                next_char_a_index,\n",
    "                next_char_b_index,\n",
    "                next_char_c_index\n",
    "                )\n",
    "            end = max(\n",
    "                next_char_a_index,\n",
    "                next_char_b_index,\n",
    "                next_char_c_index\n",
    "            )\n",
    "\n",
    "        return num_valid_substrings\n"
   ]
  },
  {
   "cell_type": "markdown",
   "metadata": {},
   "source": [
    "Run the code cell below to test the function."
   ]
  },
  {
   "cell_type": "code",
   "execution_count": 2,
   "metadata": {},
   "outputs": [
    {
     "name": "stdout",
     "output_type": "stream",
     "text": [
      "10\n",
      "3\n",
      "1\n"
     ]
    }
   ],
   "source": [
    "sol = Solution()\n",
    "\n",
    "print(sol.numberOfSubstrings(\"abcabc\")) # 10\n",
    "print(sol.numberOfSubstrings(\"aaacb\")) # 3\n",
    "print(sol.numberOfSubstrings(\"abc\")) # 1"
   ]
  },
  {
   "cell_type": "code",
   "execution_count": null,
   "metadata": {},
   "outputs": [],
   "source": []
  }
 ],
 "metadata": {
  "kernelspec": {
   "display_name": "kaggle",
   "language": "python",
   "name": "python3"
  },
  "language_info": {
   "codemirror_mode": {
    "name": "ipython",
    "version": 3
   },
   "file_extension": ".py",
   "mimetype": "text/x-python",
   "name": "python",
   "nbconvert_exporter": "python",
   "pygments_lexer": "ipython3",
   "version": "3.13.0"
  }
 },
 "nbformat": 4,
 "nbformat_minor": 2
}
