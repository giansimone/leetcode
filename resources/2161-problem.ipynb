{
 "cells": [
  {
   "cell_type": "markdown",
   "metadata": {},
   "source": [
    "# [2161. Partition Array According to Given Pivot](https://leetcode.com/problems/partition-array-according-to-given-pivot/)\n",
    "\n",
    "You are given a 0-indexed integer array ```nums``` and an integer ```pivot```. Rearrange ```nums``` such that the following conditions are satisfied:\n",
    "\n",
    "+ Every element less than ```pivot``` appears before every element greater than ```pivot```.\n",
    "+ Every element equal to ```pivot``` appears in between the elements less than and greater than ```pivot```.\n",
    "+ The relative order of the elements less than ```pivot``` and the elements greater than ```pivot``` is maintained.\n",
    "    + More formally, consider every ```pi```, ```pj``` where ```pi``` is the new position of the ```ith``` element and ```pj``` is the new position of the ```jth``` element. If ```i < j``` and both elements are smaller (or larger) than ```pivot```, then ```pi < pj```.\n",
    "\n",
    "Return ```nums``` after the rearrangement.\n",
    "\n",
    "\n",
    "\n",
    "Example 1:\n",
    "```python\n",
    "Input: nums = [9,12,5,10,14,3,10], pivot = 10\n",
    "Output: [9,5,3,10,10,12,14]\n",
    "Explanation: \n",
    "The elements 9, 5, and 3 are less than the pivot so they are on the left side of the array.\n",
    "The elements 12 and 14 are greater than the pivot so they are on the right side of the array.\n",
    "The relative ordering of the elements less than and greater than pivot is also maintained. [9, 5, 3] and [12, 14] are the respective orderings.\n",
    "```\n",
    "\n",
    "Example 2:\n",
    "```python\n",
    "Input: nums = [-3,4,3,2], pivot = 2\n",
    "Output: [-3,2,4,3]\n",
    "Explanation: \n",
    "The element -3 is less than the pivot so it is on the left side of the array.\n",
    "The elements 4 and 3 are greater than the pivot so they are on the right side of the array.\n",
    "The relative ordering of the elements less than and greater than pivot is also maintained. [-3] and [4, 3] are the respective orderings.\n",
    "```\n",
    "\n",
    "Constraints:\n",
    "\n",
    "+ ```1 <= nums.length <= 10^5```\n",
    "+ ```-10^6 <= nums[i] <= 10^6```\n",
    "+ ```pivot``` equals to an element of ```nums```."
   ]
  },
  {
   "cell_type": "code",
   "execution_count": null,
   "metadata": {},
   "outputs": [],
   "source": [
    "from typing import List\n",
    "\n",
    "class Solution:\n",
    "    def pivotArray(self, nums: List[int], pivot: int) -> List[int]:\n",
    "\n",
    "        output = list()\n",
    "\n",
    "        for i in nums:\n",
    "            if i<pivot:\n",
    "                output.append(i)\n",
    "        for i in nums:\n",
    "            if i==pivot:\n",
    "                output.append(i)\n",
    "        for i in nums:\n",
    "            if i>pivot:\n",
    "                output.append(i)\n",
    "        \n",
    "        return output"
   ]
  },
  {
   "cell_type": "markdown",
   "metadata": {},
   "source": [
    "Run the code cell below to test the function."
   ]
  },
  {
   "cell_type": "code",
   "execution_count": null,
   "metadata": {},
   "outputs": [],
   "source": [
    "sol = Solution()\n",
    "\n",
    "print(sol.pivotArray([9,12,5,10,14,3,10], 10))\n",
    "print(sol.pivotArray([-3,4,3,2], 2))"
   ]
  },
  {
   "cell_type": "code",
   "execution_count": null,
   "metadata": {},
   "outputs": [],
   "source": []
  }
 ],
 "metadata": {
  "kernelspec": {
   "display_name": "leetcode-fniKCUVX-py3.13",
   "language": "python",
   "name": "python3"
  },
  "language_info": {
   "codemirror_mode": {
    "name": "ipython",
    "version": 3
   },
   "file_extension": ".py",
   "mimetype": "text/x-python",
   "name": "python",
   "nbconvert_exporter": "python",
   "pygments_lexer": "ipython3",
   "version": "3.13.0"
  }
 },
 "nbformat": 4,
 "nbformat_minor": 2
}
