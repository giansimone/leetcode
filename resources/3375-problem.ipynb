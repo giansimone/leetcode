{
 "cells": [
  {
   "cell_type": "markdown",
   "metadata": {},
   "source": [
    "# [3375. Minimum Operations to Make Array Values Equal to K](https://leetcode.com/problems/minimum-operations-to-make-array-values-equal-to-k/)\n",
    "\n",
    "You are given an integer array ```nums``` and an integer ```k```.\n",
    "\n",
    "An integer ```h``` is called valid if all values in the array that are strictly greater than ```h``` are identical.\n",
    "\n",
    "For example, if ```nums = [10, 8, 10, 8]```, a valid integer is ```h = 9``` because all ```nums[i] > 9``` are equal to ```10```, but ```5``` is not a valid integer.\n",
    "\n",
    "You are allowed to perform the following operation on ```nums```:\n",
    "\n",
    "+ Select an integer ```h``` that is valid for the current values in ```nums```.\n",
    "+ For each index ```i``` where ```nums[i] > h```, set ```nums[i]``` to ```h```.\n",
    "\n",
    "Return the minimum number of operations required to make every element in ```nums``` equal to ```k```. If it is impossible to make all elements equal to ```k```, return ```-1```.\n",
    "\n",
    "\n",
    "Example 1:\n",
    "```python\n",
    "Input: nums = [5,2,5,4,5], k = 2\n",
    "\n",
    "Output: 2\n",
    "\n",
    "Explanation:\n",
    "\n",
    "The operations can be performed in order using valid integers 4 and then 2.\n",
    "```\n",
    "\n",
    "Example 2:\n",
    "```python\n",
    "Input: nums = [2,1,2], k = 2\n",
    "\n",
    "Output: -1\n",
    "\n",
    "Explanation:\n",
    "\n",
    "It is impossible to make all the values equal to 2.\n",
    "```\n",
    "\n",
    "Example 3:\n",
    "```python\n",
    "Input: nums = [9,7,5,3], k = 1\n",
    "\n",
    "Output: 4\n",
    "\n",
    "Explanation:\n",
    "\n",
    "The operations can be performed using valid integers in the order 7, 5, 3, and 1.\n",
    "```\n",
    "\n",
    "Constraints:\n",
    "\n",
    "+ ```1 <= nums.length <= 100```\n",
    "+ ```1 <= nums[i] <= 100```\n",
    "+ ```1 <= k <= 100```"
   ]
  },
  {
   "cell_type": "markdown",
   "metadata": {},
   "source": [
    "### Hash Map Solution"
   ]
  },
  {
   "cell_type": "code",
   "execution_count": 1,
   "metadata": {},
   "outputs": [],
   "source": [
    "from typing import List\n",
    "\n",
    "class Solution:\n",
    "    def minOperations(self, nums: List[int], k: int) -> int:\n",
    "        op = set()\n",
    "\n",
    "        for num in nums:\n",
    "            if num < k:\n",
    "                return - 1\n",
    "            if k < num and num not in op:\n",
    "                op.add(num)\n",
    "        \n",
    "        return len(op)"
   ]
  },
  {
   "cell_type": "markdown",
   "metadata": {},
   "source": [
    "Run the code cell below to test the function."
   ]
  },
  {
   "cell_type": "code",
   "execution_count": 2,
   "metadata": {},
   "outputs": [],
   "source": [
    "sol = Solution()\n",
    "\n",
    "assert sol.minOperations([5, 2, 5, 4, 5], 2) == 2\n",
    "assert sol.minOperations([2, 1, 2], 2) == -1\n",
    "assert sol.minOperations([9, 7, 5, 3], 1) == 4"
   ]
  },
  {
   "cell_type": "code",
   "execution_count": null,
   "metadata": {},
   "outputs": [],
   "source": []
  }
 ],
 "metadata": {
  "kernelspec": {
   "display_name": "leetcode-fniKCUVX-py3.13",
   "language": "python",
   "name": "python3"
  },
  "language_info": {
   "codemirror_mode": {
    "name": "ipython",
    "version": 3
   },
   "file_extension": ".py",
   "mimetype": "text/x-python",
   "name": "python",
   "nbconvert_exporter": "python",
   "pygments_lexer": "ipython3",
   "version": "3.13.2"
  }
 },
 "nbformat": 4,
 "nbformat_minor": 2
}
