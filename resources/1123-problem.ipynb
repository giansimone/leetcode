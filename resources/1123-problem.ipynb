{
 "cells": [
  {
   "cell_type": "markdown",
   "metadata": {},
   "source": [
    "# [1123. Lowest Common Ancestor of Deepest Leaves](https://leetcode.com/problems/lowest-common-ancestor-of-deepest-leaves/)\n",
    "\n",
    "Given the ```root``` of a binary tree, return the lowest common ancestor of its deepest leaves.\n",
    "\n",
    "Recall that:\n",
    "\n",
    "+ The node of a binary tree is a leaf if and only if it has no children\n",
    "+ The depth of the root of the tree is ```0```. if the depth of a node is ```d```, the depth of each of its children is ```d + 1```.\n",
    "+ The lowest common ancestor of a set ```S``` of nodes, is the node ```A``` with the largest depth such that every node in ```S``` is in the subtree with root ```A```.\n",
    "\n",
    "Example 1:\n",
    "```python\n",
    "Input: root = [3,5,1,6,2,0,8,null,null,7,4]\n",
    "Output: [2,7,4]\n",
    "Explanation: We return the node with value 2, colored in yellow in the diagram.\n",
    "The nodes coloured in blue are the deepest leaf-nodes of the tree.\n",
    "Note that nodes 6, 0, and 8 are also leaf nodes, but the depth of them is 2, but the depth of nodes 7 and 4 is 3.\n",
    "```\n",
    "\n",
    "Example 2:\n",
    "```python\n",
    "Input: root = [1]\n",
    "Output: [1]\n",
    "Explanation: The root is the deepest node in the tree, and it's the lca of itself.\n",
    "```\n",
    "\n",
    "Example 3:\n",
    "```python\n",
    "Input: root = [0,1,3,null,2]\n",
    "Output: [2]\n",
    "Explanation: The deepest leaf node in the tree is 2, the lca of one node is itself.\n",
    "```\n",
    "\n",
    "Constraints:\n",
    "\n",
    "+ The number of nodes in the tree will be in the range ```[1, 1000]```.\n",
    "+ ```0 <= Node.val <= 1000```\n",
    "+ The values of the nodes in the tree are unique.\n",
    "\n",
    "Note: This question is the same as 865: [https://leetcode.com/problems/smallest-subtree-with-all-the-deepest-nodes/](https://leetcode.com/problems/smallest-subtree-with-all-the-deepest-nodes/)"
   ]
  },
  {
   "cell_type": "markdown",
   "metadata": {},
   "source": [
    "### Depth-First Search Solution"
   ]
  },
  {
   "cell_type": "code",
   "execution_count": 1,
   "metadata": {},
   "outputs": [],
   "source": [
    "from typing import Optional, List\n",
    "\n",
    "# Definition for a binary tree node.\n",
    "class TreeNode:\n",
    "    def __init__(self, val=0, left=None, right=None):\n",
    "        self.val = val\n",
    "        self.left = left\n",
    "        self.right = right\n",
    "\n",
    "class Solution:\n",
    "    def lcaDeepestLeaves(self, root: Optional[TreeNode]) -> Optional[TreeNode]:\n",
    "        return self._dfs(root)[1]\n",
    "    \n",
    "    def _dfs(self, root: Optional[TreeNode]) -> List[Optional[TreeNode]]:\n",
    "        if not root:\n",
    "            return 0, None\n",
    "        \n",
    "        left = self._dfs(root.left)\n",
    "        right = self._dfs(root.right)\n",
    "\n",
    "        if left[0] > right[0]:\n",
    "            return left[0] + 1, left[1]\n",
    "        if left[0] < right[0]:\n",
    "            return right[0] + 1, right[1]\n",
    "        return left[0] + 1, root"
   ]
  },
  {
   "cell_type": "code",
   "execution_count": null,
   "metadata": {},
   "outputs": [],
   "source": []
  }
 ],
 "metadata": {
  "kernelspec": {
   "display_name": "leetcode-fniKCUVX-py3.13",
   "language": "python",
   "name": "python3"
  },
  "language_info": {
   "codemirror_mode": {
    "name": "ipython",
    "version": 3
   },
   "file_extension": ".py",
   "mimetype": "text/x-python",
   "name": "python",
   "nbconvert_exporter": "python",
   "pygments_lexer": "ipython3",
   "version": "3.13.0"
  }
 },
 "nbformat": 4,
 "nbformat_minor": 2
}
