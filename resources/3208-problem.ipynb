{
 "cells": [
  {
   "cell_type": "markdown",
   "metadata": {},
   "source": [
    "# [3208. Alternating Groups II](https://leetcode.com/problems/alternating-groups-ii/)\n",
    "\n",
    "There is a circle of red and blue tiles. You are given an array of integers ```colors``` and an integer ```k```. The color of tile ```i``` is represented by ```colors[i]```:\n",
    "\n",
    "+ ```colors[i] == 0``` means that tile ```i``` is red.\n",
    "+ ```colors[i] == 1``` means that tile ```i``` is blue.\n",
    "\n",
    "An alternating group is every ```k``` contiguous tiles in the circle with alternating colors (each tile in the group except the first and last one has a different color from its left and right tiles).\n",
    "\n",
    "Return the number of alternating groups.\n",
    "\n",
    "Note that since ```colors``` represents a circle, the first and the last tiles are considered to be next to each other.\n",
    "\n",
    " \n",
    "\n",
    "Example 1:\n",
    "```python\n",
    "Input: colors = [0,1,0,1,0], k = 3\n",
    "\n",
    "Output: 3\n",
    "```\n",
    "\n",
    "Example 2:\n",
    "```python\n",
    "Input: colors = [0,1,0,0,1,0,1], k = 6\n",
    "\n",
    "Output: 2\n",
    "```\n",
    "\n",
    "Example 3:\n",
    "```python\n",
    "Input: colors = [1,1,0,1], k = 4\n",
    "\n",
    "Output: 0\n",
    "```\n",
    "\n",
    "\n",
    "Constraints:\n",
    "\n",
    "+ ```3 <= colors.length <= 10^5```\n",
    "+ ```0 <= colors[i] <= 1```\n",
    "+ ```3 <= k <= colors.length```\n"
   ]
  },
  {
   "cell_type": "code",
   "execution_count": 3,
   "metadata": {},
   "outputs": [],
   "source": [
    "from typing import List\n",
    "\n",
    "class Solution:\n",
    "    def numberOfAlternatingGroups(self, colors: List[int], k: int) -> int:\n",
    "        n = len(colors)\n",
    "\n",
    "        colors += colors[:k]\n",
    "\n",
    "        current = 0\n",
    "\n",
    "        num_groups = 0\n",
    "\n",
    "        current_group = 0\n",
    "\n",
    "        for i in range(n+k-1):\n",
    "            if colors[i] != colors[i+1]:\n",
    "                if current_group < k:\n",
    "                    current_group += 1\n",
    "            else:\n",
    "                current_group = 1\n",
    "            if current_group == k:\n",
    "                num_groups += 1\n",
    "    \n",
    "        return num_groups"
   ]
  },
  {
   "cell_type": "markdown",
   "metadata": {},
   "source": [
    "Run the code cell below to test the function."
   ]
  },
  {
   "cell_type": "code",
   "execution_count": 7,
   "metadata": {},
   "outputs": [
    {
     "name": "stdout",
     "output_type": "stream",
     "text": [
      "3\n",
      "2\n"
     ]
    }
   ],
   "source": [
    "sol = Solution()\n",
    "\n",
    "print(sol.numberOfAlternatingGroups([0,1,0,1,0], 3))\n",
    "print(sol.numberOfAlternatingGroups([0,1,0,0,1,0,1], 6))\n"
   ]
  },
  {
   "cell_type": "code",
   "execution_count": null,
   "metadata": {},
   "outputs": [],
   "source": []
  }
 ],
 "metadata": {
  "kernelspec": {
   "display_name": "kaggle",
   "language": "python",
   "name": "python3"
  },
  "language_info": {
   "codemirror_mode": {
    "name": "ipython",
    "version": 3
   },
   "file_extension": ".py",
   "mimetype": "text/x-python",
   "name": "python",
   "nbconvert_exporter": "python",
   "pygments_lexer": "ipython3",
   "version": "3.13.0"
  }
 },
 "nbformat": 4,
 "nbformat_minor": 2
}
