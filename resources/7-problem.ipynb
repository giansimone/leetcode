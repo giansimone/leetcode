{
 "cells": [
  {
   "cell_type": "markdown",
   "metadata": {},
   "source": [
    "# [7. Reverse Integer](https://leetcode.com/problems/reverse-integer/)\n",
    "\n",
    "Given a signed 32-bit integer ```x```, return ```x``` with its digits reversed. If reversing ```x``` causes the value to go outside the signed 32-bit integer range ```[-2^31, 2^31 - 1]```, then return ```0```.\n",
    "\n",
    "Assume the environment does not allow you to store 64-bit integers (signed or unsigned).\n",
    "\n",
    "\n",
    "\n",
    "Example 1:\n",
    "```python\n",
    "Input: x = 123\n",
    "Output: 321\n",
    "```\n",
    "\n",
    "Example 2:\n",
    "```python\n",
    "Input: x = -123\n",
    "Output: -321\n",
    "```\n",
    "\n",
    "Example 3:\n",
    "```python\n",
    "Input: x = 120\n",
    "Output: 21\n",
    "```\n",
    "\n",
    "Constraints:\n",
    "\n",
    "+ ```-2^31 <= x <= 2^31 - 1```\n",
    "\n"
   ]
  },
  {
   "cell_type": "code",
   "execution_count": 3,
   "metadata": {},
   "outputs": [],
   "source": [
    "class Solution:\n",
    "    def reverse(self, x: int) -> int:\n",
    "        if x >= 0:\n",
    "            reversed_x = int(str(x)[::-1])\n",
    "        else:\n",
    "            reversed_x = - int(str(x)[::-1][:-1])\n",
    "        \n",
    "        if reversed_x > 2**31 + 1 or reversed_x < - 2**31:\n",
    "            return 0\n",
    "        else:\n",
    "            return reversed_x"
   ]
  },
  {
   "cell_type": "markdown",
   "metadata": {},
   "source": [
    "Run the code cell below to test the function."
   ]
  },
  {
   "cell_type": "code",
   "execution_count": 4,
   "metadata": {},
   "outputs": [
    {
     "name": "stdout",
     "output_type": "stream",
     "text": [
      "321\n",
      "-321\n",
      "21\n"
     ]
    }
   ],
   "source": [
    "sol = Solution()\n",
    "\n",
    "print(sol.reverse(123))\n",
    "print(sol.reverse(-123))\n",
    "print(sol.reverse(120))"
   ]
  },
  {
   "cell_type": "code",
   "execution_count": null,
   "metadata": {},
   "outputs": [],
   "source": []
  }
 ],
 "metadata": {
  "kernelspec": {
   "display_name": "kaggle",
   "language": "python",
   "name": "python3"
  },
  "language_info": {
   "codemirror_mode": {
    "name": "ipython",
    "version": 3
   },
   "file_extension": ".py",
   "mimetype": "text/x-python",
   "name": "python",
   "nbconvert_exporter": "python",
   "pygments_lexer": "ipython3",
   "version": "3.13.0"
  }
 },
 "nbformat": 4,
 "nbformat_minor": 2
}
