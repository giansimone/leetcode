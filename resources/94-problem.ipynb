{
 "cells": [
  {
   "cell_type": "markdown",
   "metadata": {},
   "source": [
    "# [94. Binary Tree Inorder Traversal](https://leetcode.com/problems/binary-tree-inorder-traversal/)\n",
    "\n",
    "Given the ```root``` of a binary tree, return the inorder traversal of its nodes' values.\n",
    "\n",
    "\n",
    "Example 1:\n",
    "```python\n",
    "Input: root = [1,null,2,3]\n",
    "\n",
    "Output: [1,3,2]\n",
    "\n",
    "Explanation:\n",
    "```\n",
    "\n",
    "Example 2:\n",
    "```python\n",
    "Input: root = [1,2,3,4,5,null,8,null,null,6,7,9]\n",
    "\n",
    "Output: [4,2,6,5,7,1,3,9,8]\n",
    "\n",
    "Explanation:\n",
    "```\n",
    "\n",
    "Example 3:\n",
    "```python\n",
    "Input: root = []\n",
    "\n",
    "Output: []\n",
    "```\n",
    "\n",
    "Example 4:\n",
    "```python\n",
    "Input: root = [1]\n",
    "\n",
    "Output: [1]\n",
    "```\n",
    "\n",
    "\n",
    "Constraints:\n",
    "\n",
    "+ The number of nodes in the tree is in the range ```[0, 100]```.\n",
    "+ ```-100 <= Node.val <= 100```\n",
    "\n",
    "Follow up: Recursive solution is trivial, could you do it iteratively?"
   ]
  },
  {
   "cell_type": "markdown",
   "metadata": {},
   "source": [
    "### Depth-First Search Solution using Recursion"
   ]
  },
  {
   "cell_type": "code",
   "execution_count": 1,
   "metadata": {},
   "outputs": [],
   "source": [
    "from typing import List, Optional\n",
    "\n",
    "# Definition for a binary tree node.\n",
    "class TreeNode:\n",
    "    def __init__(self, val=0, left=None, right=None):\n",
    "        self.val = val\n",
    "        self.left = left\n",
    "        self.right = right\n",
    "\n",
    "class Solution:\n",
    "    def inorderTraversal(self, root: Optional[TreeNode]) -> List[int]:\n",
    "        result = []\n",
    "\n",
    "        self._dfs(root, result)\n",
    "\n",
    "        return result\n",
    "    \n",
    "    def _dfs(self, root: Optional[TreeNode], result: List[int]):\n",
    "        if root:\n",
    "            self._dfs(root.left, result)\n",
    "            result.append(root.val)\n",
    "            self._dfs(root.right, result)"
   ]
  },
  {
   "cell_type": "markdown",
   "metadata": {},
   "source": [
    "### Depth-First Search Solution using Stack"
   ]
  },
  {
   "cell_type": "code",
   "execution_count": 2,
   "metadata": {},
   "outputs": [],
   "source": [
    "from typing import List, Optional\n",
    "\n",
    "# Definition for a binary tree node.\n",
    "class TreeNode:\n",
    "    def __init__(self, val=0, left=None, right=None):\n",
    "        self.val = val\n",
    "        self.left = left\n",
    "        self.right = right\n",
    "\n",
    "class Solution:\n",
    "    def inorderTraversal(self, root: Optional[TreeNode]) -> List[int]:\n",
    "        result = []\n",
    "        stack = []\n",
    "\n",
    "        while stack or root:\n",
    "            while root:\n",
    "                stack.append(root)\n",
    "                root = root.left\n",
    "            root = stack.pop()\n",
    "            result.append(root.val)\n",
    "            root = root.right\n",
    "        \n",
    "        return result"
   ]
  },
  {
   "cell_type": "code",
   "execution_count": null,
   "metadata": {},
   "outputs": [],
   "source": []
  }
 ],
 "metadata": {
  "kernelspec": {
   "display_name": "leetcode-fniKCUVX-py3.13",
   "language": "python",
   "name": "python3"
  },
  "language_info": {
   "codemirror_mode": {
    "name": "ipython",
    "version": 3
   },
   "file_extension": ".py",
   "mimetype": "text/x-python",
   "name": "python",
   "nbconvert_exporter": "python",
   "pygments_lexer": "ipython3",
   "version": "3.13.0"
  }
 },
 "nbformat": 4,
 "nbformat_minor": 2
}
