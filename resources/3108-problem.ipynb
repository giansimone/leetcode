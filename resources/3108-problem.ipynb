{
 "cells": [
  {
   "cell_type": "markdown",
   "metadata": {},
   "source": [
    "# [3108. Minimum Cost Walk in Weighted Graph](https://leetcode.com/problems/minimum-cost-walk-in-weighted-graph/)\n",
    "\n",
    "There is an undirected weighted graph with ```n``` vertices labeled from ```0``` to ```n - 1```.\n",
    "\n",
    "You are given the integer ```n``` and an array ```edges```, where ```edges[i] = [ui, vi, wi]``` indicates that there is an edge between vertices ```ui``` and ```vi``` with a weight of ```wi```.\n",
    "\n",
    "A walk on a graph is a sequence of vertices and edges. The walk starts and ends with a vertex, and each edge connects the vertex that comes before it and the vertex that comes after it. It's important to note that a walk may visit the same edge or vertex more than once.\n",
    "\n",
    "The cost of a walk starting at node ```u``` and ending at node ```v``` is defined as the bitwise ```AND``` of the weights of the edges traversed during the walk. In other words, if the sequence of edge weights encountered during the walk is ```w0```, ```w1```, ```w2```, ```...```, ```wk```, then the cost is calculated as ```w0 & w1 & w2 & ... & wk```, where ```&``` denotes the bitwise ```AND``` operator.\n",
    "\n",
    "You are also given a 2D array ```query```, where ```query[i] = [si, ti]```. For each query, you need to find the minimum cost of the walk starting at vertex ```si``` and ending at vertex ```ti```. If there exists no such walk, the answer is ```-1```.\n",
    "\n",
    "Return the array ```answer```, where ```answer[i]``` denotes the minimum cost of a walk for query ```i```.\n",
    "\n",
    "\n",
    "\n",
    "Example 1:\n",
    "```python\n",
    "Input: n = 5, edges = [[0,1,7],[1,3,7],[1,2,1]], query = [[0,3],[3,4]]\n",
    "\n",
    "Output: [1,-1]\n",
    "\n",
    "Explanation:\n",
    "\n",
    "\n",
    "To achieve the cost of 1 in the first query, we need to move on the following edges: 0->1 (weight 7), 1->2 (weight 1), 2->1 (weight 1), 1->3 (weight 7).\n",
    "\n",
    "In the second query, there is no walk between nodes 3 and 4, so the answer is -1.\n",
    "```\n",
    "\n",
    "Example 2:\n",
    "```python\n",
    "Input: n = 3, edges = [[0,2,7],[0,1,15],[1,2,6],[1,2,1]], query = [[1,2]]\n",
    "\n",
    "Output: [0]\n",
    "\n",
    "Explanation:\n",
    "\n",
    "\n",
    "To achieve the cost of 0 in the first query, we need to move on the following edges: 1->2 (weight 1), 2->1 (weight 6), 1->2 (weight 1).\n",
    "```\n",
    "\n",
    "\n",
    "Constraints:\n",
    "\n",
    "+ ```2 <= n <= 10^5```\n",
    "+ ```0 <= edges.length <= 10^5```\n",
    "+ ```edges[i].length == 3```\n",
    "+ ```0 <= ui, vi <= n - 1```\n",
    "+ ```ui != vi```\n",
    "+ ```0 <= wi <= 10^5```\n",
    "+ ```1 <= query.length <= 10^5```\n",
    "+ ```query[i].length == 2```\n",
    "+ ```0 <= si, ti <= n - 1```\n",
    "+ ```si != ti```\n"
   ]
  },
  {
   "cell_type": "markdown",
   "metadata": {},
   "source": [
    "### Disjoint Set (Union-Find) Solution"
   ]
  },
  {
   "cell_type": "code",
   "execution_count": 1,
   "metadata": {},
   "outputs": [],
   "source": [
    "from typing import List\n",
    "\n",
    "class Solution:\n",
    "    def minimumCost(self, n: int, edges: List[List[int]], query: List[List[int]]) -> List[int]:\n",
    "        def find(node):\n",
    "            if parent[node] == -1:\n",
    "                return node\n",
    "\n",
    "            parent[node] = find(parent[node])\n",
    "            \n",
    "            return parent[node]\n",
    "\n",
    "        def union(node1, node2):\n",
    "            root1 = find(node1)\n",
    "            root2 = find(node2)\n",
    "            \n",
    "            if root1 == root2:\n",
    "                return\n",
    "            \n",
    "            if depth[root1] < depth[root2]:\n",
    "                root1, root2 = root2, root1\n",
    "\n",
    "            parent[root2] = root1\n",
    "\n",
    "            if depth[root1] == depth[root2]:\n",
    "                depth[root1] += 1\n",
    "\n",
    "        parent = [-1] * n\n",
    "        depth = [0] * n\n",
    "        component_cost = [2**32 - 1] * n\n",
    "\n",
    "        for node1, node2, _ in edges:\n",
    "            union(node1, node2)\n",
    "        \n",
    "        for node1, _, weight in edges:\n",
    "            root = find(node1)\n",
    "            component_cost[root] &= weight\n",
    "        \n",
    "        answer = []\n",
    "\n",
    "        for start, end in query:\n",
    "            if find(start) != find(end):\n",
    "                answer.append(-1)\n",
    "            else:\n",
    "                root = find(start)\n",
    "                answer.append(component_cost[root])\n",
    "        \n",
    "        return answer"
   ]
  },
  {
   "cell_type": "markdown",
   "metadata": {},
   "source": [
    "Run the code cell below to test the function."
   ]
  },
  {
   "cell_type": "code",
   "execution_count": 2,
   "metadata": {},
   "outputs": [
    {
     "name": "stdout",
     "output_type": "stream",
     "text": [
      "[1, -1]\n",
      "[0]\n"
     ]
    }
   ],
   "source": [
    "sol = Solution()\n",
    "\n",
    "print(sol.minimumCost(5, [[0,1,7],[1,3,7],[1,2,1]], [[0,3],[3,4]]))\n",
    "print(sol.minimumCost(3, [[0,2,7],[0,1,15],[1,2,6],[1,2,1]], [[1,2]]))"
   ]
  },
  {
   "cell_type": "markdown",
   "metadata": {},
   "source": [
    "### Breadth-First Search (BFS) Solution"
   ]
  },
  {
   "cell_type": "code",
   "execution_count": 3,
   "metadata": {},
   "outputs": [],
   "source": [
    "from collections import deque\n",
    "from typing import List\n",
    "\n",
    "class Solution:\n",
    "    def minimumCost(self, n: int, edges: List[List[int]], query: List[List[int]]) -> List[int]:\n",
    "        adj_list = [[] for _ in range(n)]\n",
    "\n",
    "        for edge in edges:\n",
    "            adj_list[edge[0]].append((edge[1], edge[2]))\n",
    "            adj_list[edge[1]].append((edge[0], edge[2]))\n",
    "        \n",
    "        visited = [False] * n\n",
    "        components = [0] * n\n",
    "        component_cost = []\n",
    "        component_id = 0\n",
    "\n",
    "        for node in range(n):\n",
    "            if not visited[node]:\n",
    "                component_cost.append(\n",
    "                    self._getComponentCost(\n",
    "                        node,\n",
    "                        adj_list,\n",
    "                        visited,\n",
    "                        components,\n",
    "                        component_id)\n",
    "                )\n",
    "                component_id += 1\n",
    "        \n",
    "        answer = []\n",
    "\n",
    "        for q in query:\n",
    "            start, end = q\n",
    "            if components[start] == components[end]:\n",
    "                answer.append(component_cost[components[start]])\n",
    "            else:\n",
    "                answer.append(-1)\n",
    "        \n",
    "        return answer\n",
    "\n",
    "    def _getComponentCost(\n",
    "        self,\n",
    "        source: int,\n",
    "        adj_list: List[List[int]],\n",
    "        visited: List[bool],\n",
    "        components: List[int],\n",
    "        component_id: int\n",
    "    ) -> int:\n",
    "        queue = deque()\n",
    "        component_cost = 2**32 - 1\n",
    "\n",
    "        queue.append(source)\n",
    "        visited[source] = True\n",
    "\n",
    "        while queue:\n",
    "            node = queue.popleft()\n",
    "            components[node] = component_id\n",
    "            for next_node, weight in adj_list[node]:\n",
    "                component_cost &= weight\n",
    "                if not visited[next_node]:\n",
    "                    visited[next_node] = True\n",
    "                    queue.append(next_node)\n",
    "        \n",
    "        return component_cost"
   ]
  },
  {
   "cell_type": "markdown",
   "metadata": {},
   "source": [
    "Run the code cell below to test the function."
   ]
  },
  {
   "cell_type": "code",
   "execution_count": 4,
   "metadata": {},
   "outputs": [
    {
     "name": "stdout",
     "output_type": "stream",
     "text": [
      "[1, -1]\n",
      "[0]\n"
     ]
    }
   ],
   "source": [
    "sol = Solution()\n",
    "\n",
    "print(sol.minimumCost(5, [[0,1,7],[1,3,7],[1,2,1]], [[0,3],[3,4]]))\n",
    "print(sol.minimumCost(3, [[0,2,7],[0,1,15],[1,2,6],[1,2,1]], [[1,2]]))"
   ]
  },
  {
   "cell_type": "markdown",
   "metadata": {},
   "source": [
    "### Depth-First Search (DFS) Solution"
   ]
  },
  {
   "cell_type": "code",
   "execution_count": 5,
   "metadata": {},
   "outputs": [],
   "source": [
    "from collections import deque\n",
    "from typing import List\n",
    "\n",
    "class Solution:\n",
    "    def minimumCost(self, n: int, edges: List[List[int]], query: List[List[int]]) -> List[int]:\n",
    "        adj_list = [[] for _ in range(n)]\n",
    "\n",
    "        for edge in edges:\n",
    "            adj_list[edge[0]].append((edge[1], edge[2]))\n",
    "            adj_list[edge[1]].append((edge[0], edge[2]))\n",
    "        \n",
    "        visited = [False] * n\n",
    "        components = [0] * n\n",
    "        component_cost = []\n",
    "        component_id = 0\n",
    "\n",
    "        for node in range(n):\n",
    "            if not visited[node]:\n",
    "                component_cost.append(\n",
    "                    self._getComponentCost(\n",
    "                        node,\n",
    "                        adj_list,\n",
    "                        visited,\n",
    "                        components,\n",
    "                        component_id)\n",
    "                )\n",
    "                component_id += 1\n",
    "        \n",
    "        answer = []\n",
    "\n",
    "        for q in query:\n",
    "            start, end = q\n",
    "            if components[start] == components[end]:\n",
    "                answer.append(component_cost[components[start]])\n",
    "            else:\n",
    "                answer.append(-1)\n",
    "        \n",
    "        return answer\n",
    "\n",
    "    def _getComponentCost(\n",
    "        self,\n",
    "        source: int,\n",
    "        adj_list: List[List[int]],\n",
    "        visited: List[bool],\n",
    "        components: List[int],\n",
    "        component_id: int\n",
    "    ) -> int:\n",
    "        visited[source] = True\n",
    "        components[source] = component_id\n",
    "\n",
    "        current_cost = 2**32 - 1\n",
    "\n",
    "        for neighbour, weight in adj_list[source]:\n",
    "            current_cost &= weight\n",
    "            if not visited[neighbour]:\n",
    "                current_cost &= self._getComponentCost(\n",
    "                    neighbour,\n",
    "                    adj_list,\n",
    "                    visited,\n",
    "                    components,\n",
    "                    component_id\n",
    "                )\n",
    "        \n",
    "        return current_cost"
   ]
  },
  {
   "cell_type": "markdown",
   "metadata": {},
   "source": [
    "Run the code cell below to test the function."
   ]
  },
  {
   "cell_type": "code",
   "execution_count": 6,
   "metadata": {},
   "outputs": [
    {
     "name": "stdout",
     "output_type": "stream",
     "text": [
      "[1, -1]\n",
      "[0]\n"
     ]
    }
   ],
   "source": [
    "sol = Solution()\n",
    "\n",
    "print(sol.minimumCost(5, [[0,1,7],[1,3,7],[1,2,1]], [[0,3],[3,4]]))\n",
    "print(sol.minimumCost(3, [[0,2,7],[0,1,15],[1,2,6],[1,2,1]], [[1,2]]))"
   ]
  },
  {
   "cell_type": "code",
   "execution_count": null,
   "metadata": {},
   "outputs": [],
   "source": []
  }
 ],
 "metadata": {
  "kernelspec": {
   "display_name": "kaggle",
   "language": "python",
   "name": "python3"
  },
  "language_info": {
   "codemirror_mode": {
    "name": "ipython",
    "version": 3
   },
   "file_extension": ".py",
   "mimetype": "text/x-python",
   "name": "python",
   "nbconvert_exporter": "python",
   "pygments_lexer": "ipython3",
   "version": "3.13.0"
  }
 },
 "nbformat": 4,
 "nbformat_minor": 2
}
