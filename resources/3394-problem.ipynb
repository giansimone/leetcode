{
 "cells": [
  {
   "cell_type": "markdown",
   "metadata": {},
   "source": [
    "# [3394. Check if Grid can be Cut into Sections](https://leetcode.com/problems/check-if-grid-can-be-cut-into-sections/)\n",
    "\n",
    "You are given an integer ```n``` representing the dimensions of an ```n x n``` grid, with the origin at the bottom-left corner of the grid. You are also given a 2D array of coordinates ```rectangles```, where ```rectangles[i]``` is in the form ```[startx, starty, endx, endy]```, representing a rectangle on the grid. Each rectangle is defined as follows:\n",
    "\n",
    "+ ```(startx, starty)```: The bottom-left corner of the rectangle.\n",
    "+ ```(endx, endy)```: The top-right corner of the rectangle.\n",
    "\n",
    "Note that the rectangles do not overlap. Your task is to determine if it is possible to make either two horizontal or two vertical cuts on the grid such that:\n",
    "\n",
    "+ Each of the three resulting sections formed by the cuts contains at least one rectangle.\n",
    "+ Every rectangle belongs to exactly one section.\n",
    "\n",
    "Return ```true``` if such cuts can be made; otherwise, return ```false```.\n",
    "\n",
    "\n",
    "Example 1:\n",
    "```python\n",
    "Input: n = 5, rectangles = [[1,0,5,2],[0,2,2,4],[3,2,5,3],[0,4,4,5]]\n",
    "\n",
    "Output: true\n",
    "\n",
    "Explanation:\n",
    "\n",
    "\n",
    "The grid is shown in the diagram. We can make horizontal cuts at y = 2 and y = 4. Hence, output is true.\n",
    "```\n",
    "\n",
    "Example 2:\n",
    "```python\n",
    "Input: n = 4, rectangles = [[0,0,1,1],[2,0,3,4],[0,2,2,3],[3,0,4,3]]\n",
    "\n",
    "Output: true\n",
    "\n",
    "Explanation:\n",
    "\n",
    "\n",
    "We can make vertical cuts at x = 2 and x = 3. Hence, output is true.\n",
    "```\n",
    "\n",
    "Example 3:\n",
    "```python\n",
    "Input: n = 4, rectangles = [[0,2,2,4],[1,0,3,2],[2,2,3,4],[3,0,4,2],[3,2,4,4]]\n",
    "\n",
    "Output: false\n",
    "\n",
    "Explanation:\n",
    "\n",
    "We cannot make two horizontal or two vertical cuts that satisfy the conditions. Hence, output is false.\n",
    "```\n",
    "\n",
    "\n",
    "Constraints:\n",
    "\n",
    "+  ```3 <= n <= 10^9```\n",
    "+ ```3 <= rectangles.length <= 10^5```\n",
    "+ ```0 <= rectangles[i][0] < rectangles[i][2] <= n```\n",
    "+ ```0 <= rectangles[i][1] < rectangles[i][3] <= n```\n",
    "+ No two rectangles overlap."
   ]
  },
  {
   "cell_type": "markdown",
   "metadata": {},
   "source": [
    "### Line Sweep Algorithm Solution"
   ]
  },
  {
   "cell_type": "code",
   "execution_count": 1,
   "metadata": {},
   "outputs": [],
   "source": [
    "from typing import List\n",
    "\n",
    "class Solution:\n",
    "    def checkValidCuts(self, n: int, rectangles: List[List[int]]) -> bool:\n",
    "        gap_x_count = 0\n",
    "        gap_y_count = 0\n",
    "\n",
    "        rectangles.sort(key=lambda x: x[0])\n",
    "\n",
    "        current_x = rectangles[0][2]\n",
    "\n",
    "        for rectangle in rectangles[1:]:\n",
    "            start_x, end_x = rectangle[0], rectangle[2]\n",
    "            if current_x <= start_x:\n",
    "                gap_x_count += 1\n",
    "            \n",
    "            current_x = max(current_x, end_x)\n",
    "        \n",
    "        if gap_x_count > 1:\n",
    "            return True\n",
    "        \n",
    "\n",
    "        rectangles.sort(key=lambda x: x[1])\n",
    "\n",
    "        current_y = rectangles[0][3]\n",
    "\n",
    "        for rectangle in rectangles[1:]:\n",
    "            start_y, end_y = rectangle[1], rectangle[3]\n",
    "            if current_y <= start_y:\n",
    "                gap_y_count += 1\n",
    "            \n",
    "            current_y = max(current_y, end_y)\n",
    "\n",
    "        return gap_y_count > 1"
   ]
  },
  {
   "cell_type": "markdown",
   "metadata": {},
   "source": [
    "Run the code cell below to test the function."
   ]
  },
  {
   "cell_type": "code",
   "execution_count": 2,
   "metadata": {},
   "outputs": [
    {
     "name": "stdout",
     "output_type": "stream",
     "text": [
      "True\n",
      "True\n",
      "False\n"
     ]
    }
   ],
   "source": [
    "sol = Solution()\n",
    "\n",
    "print(sol.checkValidCuts(5, [[1,0,5,2],[0,2,2,4],[3,2,5,3],[0,4,4,5]]))\n",
    "print(sol.checkValidCuts(4, [[0,0,1,1],[2,0,3,4],[0,2,2,3],[3,0,4,3]]))\n",
    "print(sol.checkValidCuts(4, [[0,2,2,4],[1,0,3,2],[2,2,3,4],[3,0,4,2],[3,2,4,4]]))"
   ]
  },
  {
   "cell_type": "markdown",
   "metadata": {},
   "source": [
    "### Line Sweep Algorithm Solution using an elegant implementation"
   ]
  },
  {
   "cell_type": "code",
   "execution_count": 3,
   "metadata": {},
   "outputs": [],
   "source": [
    "from typing import List\n",
    "\n",
    "class Solution:\n",
    "    def checkValidCuts(self, n: int, rectangles: List[List[int]]) -> bool:\n",
    "        return self._check_gaps(rectangles, 0) or self._check_gaps(rectangles, 1)\n",
    "\n",
    "    def _check_gaps(self, rectangles: List[List[int]], dim: int) -> bool:\n",
    "        gap_count = 0\n",
    "\n",
    "        rectangles.sort(key=lambda rect: rect[dim])\n",
    "\n",
    "        current_end = rectangles[0][dim + 2]\n",
    "\n",
    "        for rectangle in rectangles[1:]:\n",
    "            start, end = rectangle[dim], rectangle[dim + 2]\n",
    "            if current_end <= start:\n",
    "                gap_count += 1\n",
    "            \n",
    "            current_end = max(current_end, end)\n",
    "        \n",
    "        return gap_count > 1"
   ]
  },
  {
   "cell_type": "markdown",
   "metadata": {},
   "source": [
    "Run the code cell below to test the function."
   ]
  },
  {
   "cell_type": "code",
   "execution_count": 4,
   "metadata": {},
   "outputs": [
    {
     "name": "stdout",
     "output_type": "stream",
     "text": [
      "True\n",
      "True\n",
      "False\n"
     ]
    }
   ],
   "source": [
    "sol = Solution()\n",
    "\n",
    "print(sol.checkValidCuts(5, [[1,0,5,2],[0,2,2,4],[3,2,5,3],[0,4,4,5]]))\n",
    "print(sol.checkValidCuts(4, [[0,0,1,1],[2,0,3,4],[0,2,2,3],[3,0,4,3]]))\n",
    "print(sol.checkValidCuts(4, [[0,2,2,4],[1,0,3,2],[2,2,3,4],[3,0,4,2],[3,2,4,4]]))"
   ]
  },
  {
   "cell_type": "code",
   "execution_count": null,
   "metadata": {},
   "outputs": [],
   "source": []
  }
 ],
 "metadata": {
  "kernelspec": {
   "display_name": "kaggle",
   "language": "python",
   "name": "python3"
  },
  "language_info": {
   "codemirror_mode": {
    "name": "ipython",
    "version": 3
   },
   "file_extension": ".py",
   "mimetype": "text/x-python",
   "name": "python",
   "nbconvert_exporter": "python",
   "pygments_lexer": "ipython3",
   "version": "3.13.0"
  }
 },
 "nbformat": 4,
 "nbformat_minor": 2
}
