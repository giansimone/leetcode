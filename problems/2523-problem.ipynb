{
 "cells": [
  {
   "cell_type": "markdown",
   "metadata": {},
   "source": [
    "# [2523. Closest Prime Numbers in Range](https://leetcode.com/problems/closest-prime-numbers-in-range)\n",
    "\n",
    "Given two positive integers ```left``` and ```right```, find the two integers ```num1``` and ```num2``` such that:\n",
    "\n",
    "+ ```left <= num1 < num2 <= right```.\n",
    "+ Both ```num1``` and ```num2``` are prime numbers.\n",
    "+ ```num2 - num1``` is the minimum amongst all other pairs satisfying the above conditions.\n",
    "Return the positive integer array ```ans = [num1, num2]```. If there are multiple pairs satisfying these conditions, return the one with the smallest ```num1``` value. If no such numbers exist, return ```[-1, -1]```.\n",
    "\n",
    " \n",
    "\n",
    "Example 1:\n",
    "```python\n",
    "Input: left = 10, right = 19\n",
    "Output: [11,13]\n",
    "Explanation: The prime numbers between 10 and 19 are 11, 13, 17, and 19.\n",
    "The closest gap between any pair is 2, which can be achieved by [11,13] or [17,19].\n",
    "Since 11 is smaller than 17, we return the first pair.\n",
    "```\n",
    "\n",
    "Example 2:\n",
    "```python\n",
    "Input: left = 4, right = 6\n",
    "Output: [-1,-1]\n",
    "Explanation: There exists only one prime number in the given range, so the conditions cannot be satisfied.\n",
    "```\n",
    "\n",
    "Constraints:\n",
    "\n",
    "+ ```1 <= left <= right <= 10^6```\n"
   ]
  },
  {
   "cell_type": "code",
   "execution_count": 1,
   "metadata": {},
   "outputs": [],
   "source": [
    "from typing import List\n",
    "\n",
    "class Solution:\n",
    "    def closestPrimes(self, left: int, right: int) -> List[int]:\n",
    "        sieve = [True] * (right + 1)\n",
    "        sieve[0] = sieve[1] = False\n",
    "        \n",
    "        for i in range(2, int(right**0.5) + 1):\n",
    "            if sieve[i]:\n",
    "                for multiple in range(i * i, right + 1, i):\n",
    "                    sieve[multiple] = False\n",
    "        \n",
    "        prime_nums = [i for i in range(left, right + 1) if sieve[i]]\n",
    "\n",
    "        if len(prime_nums)<2:\n",
    "            return [-1, -1]\n",
    "        \n",
    "        diff = [prime_nums[i+1]-prime_nums[i] for i in range(len(prime_nums)-1)]\n",
    "\n",
    "        min_diff = min(diff)\n",
    "\n",
    "        indices = [i for i in range(len(prime_nums)-1) if diff[i]==min_diff]\n",
    "\n",
    "        return prime_nums[indices[0]:indices[0]+2]"
   ]
  },
  {
   "cell_type": "code",
   "execution_count": 2,
   "metadata": {},
   "outputs": [
    {
     "name": "stdout",
     "output_type": "stream",
     "text": [
      "[11, 13]\n"
     ]
    }
   ],
   "source": [
    "sol = Solution()\n",
    "\n",
    "print(sol.closestPrimes(10, 19)) # [11, 13]"
   ]
  },
  {
   "cell_type": "code",
   "execution_count": null,
   "metadata": {},
   "outputs": [],
   "source": []
  }
 ],
 "metadata": {
  "kernelspec": {
   "display_name": "kaggle",
   "language": "python",
   "name": "python3"
  },
  "language_info": {
   "codemirror_mode": {
    "name": "ipython",
    "version": 3
   },
   "file_extension": ".py",
   "mimetype": "text/x-python",
   "name": "python",
   "nbconvert_exporter": "python",
   "pygments_lexer": "ipython3",
   "version": "3.13.0"
  }
 },
 "nbformat": 4,
 "nbformat_minor": 2
}
